{
 "cells": [
  {
   "cell_type": "markdown",
   "metadata": {},
   "source": [
    "## What is aggregate function"
   ]
  },
  {
   "cell_type": "markdown",
   "metadata": {},
   "source": [
    "pandas groupby aggregate function, aggregate using one or more operations over the specified axis.\n",
    "\n",
    "It mainly has two 4 parameters:\n",
    "func: it can be a function, string, dictionary, or list of string/functions\n",
    "\n",
    "axis: {0 or ‘index’, 1 or ‘columns’}, default 0\n",
    "\n",
    "Usage Example:\n",
    "```python\n",
    "df.groupby(['A','D'],dropna = False).\\\n",
    "aggregate(B_min=('B', 'min'), \n",
    "            B_max=('B', 'max'),\n",
    "\n",
    "            C_min=('C', 'min'),\n",
    "            C_max=('C', 'max'),                \n",
    "            C_my_func=('C', my_func)).\\\n",
    "reset_index()\n",
    "```\n",
    "\n",
    "Explanation:\n",
    "1. You group df by different values in column A and B, and keep the NaN value in them. \n",
    "2. Then, you apply aggregate function to calculate some metrics on B and C.\n",
    "3. Take B as an example, you calculate the min and max of it by specifying B column, and name them as B_min and B_max.\n",
    "4. Take C as an example, you calculate the min and max of it by specifying C column, and name them as C_min and C_max.\n",
    "5. You can also apply your own function to calculate the metrics, and name it as C_my_func.\n",
    "6. Finally, you reset the index of the dataframe to avoid multi-index which might cause some problems in searching and sorting.\n",
    "\n"
   ]
  },
  {
   "cell_type": "markdown",
   "metadata": {},
   "source": [
    "## Importance\n",
    "\n",
    "When aggregating using the aggregate method, the func parameter can accept both built-in methods in Pandas and user-defined functions. Furthermore, these methods and functions can be applied to each column, multiple functions or methods can be applied to the same column, or different functions or methods can be applied to different columns, greatly enhancing the flexibility of data processing."
   ]
  },
  {
   "cell_type": "markdown",
   "metadata": {},
   "source": [
    "## True or False Question\n",
    "\n",
    "Q1. In pandas, the groupby method always requires the use of the aggregate function to summarize the grouped data.\n",
    "\n",
    "\n",
    "Answer: False\n",
    "\n",
    "\n",
    "You can also use other methods like sum, mean, etc., directly after groupby."
   ]
  },
  {
   "cell_type": "markdown",
   "metadata": {},
   "source": [
    "Q2. In pandas, when using the groupby method, the columns you group by become the new index of the returned object, unless as_index is set to False.\n",
    "\n",
    "Answer: True\n",
    "\n",
    "If you specified more than one column to group by, the new index will be a multi-index. As introduced in the recording, we'd better reset the index after groupby to avoid multi-index which might cause some problems in searching and sorting."
   ]
  }
 ],
 "metadata": {
  "language_info": {
   "name": "python"
  },
  "orig_nbformat": 4
 },
 "nbformat": 4,
 "nbformat_minor": 2
}
