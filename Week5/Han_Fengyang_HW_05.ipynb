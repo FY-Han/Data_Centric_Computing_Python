{
 "cells": [
  {
   "cell_type": "markdown",
   "id": "0330bcc5",
   "metadata": {},
   "source": [
    "## CMPINF 2100: Homework 05\n",
    "\n",
    "### Fengyang Han\n",
    "\n",
    "## Assigned: Tuesday of Week 05 at 11:00PM\n",
    "\n",
    "## DUE: Tuesday of Week 06 at 11:59PM\n",
    "\n",
    "## Overview\n",
    "\n",
    "This assignment is more open ended than the previous ones. You must explore three data sets using the skills you have learned up to this point in the course. The Week 05 lecture material discusses the ESSENTIAL Pandas methods methods that you must ALWAYS use when BEGINNING to explore data. You must use those methods here in this assignment. You must also use SPLIT-APPLY-COMBINE to explore if summary statistics change across grouping variables. The last problem requires you to use the ESSENTIAL Pandas methods to begin exploring data associated with one of the final projects of your choosing.\n",
    "\n",
    "**You must download the 3 data sets provided in the Canvas assignment page and save them to the appropriate directory on your computer.**\n",
    "\n",
    "## Required tasks for Problem 01 through 03\n",
    "\n",
    "For each of the 3 assigned data sets you must perform the following ESSENTIAL activities:\n",
    "\n",
    "* Display the number of rows and columns in the dataset  \n",
    "* Display the names of the columns and their associated data types  \n",
    "* Display the number of unique values for each column  \n",
    "* Display the number of MISSING values for each column  \n",
    "* Display summary statistics appropriate for the data type for each column\n",
    "* Count the number of rows associated with each unique value for:\n",
    "    * Non-numeric columns  \n",
    "    * Numeric columns with low number of unique values  \n",
    "\n",
    "You must also execute SPLIT-APPLY-COMBINE to summarize the data based on grouping variables. Specifically, you must group by non-numeric columns and calculate the following summary statistics:\n",
    "* Calculate the total number of rows for numeric columns  \n",
    "* Calculate the number of non missing rows for numeric columns\n",
    "* Calculate the mean and standard deviation of numeric columns\n",
    "* Calculate the standard error on the mean of numeric columns\n",
    "* Calculate the number of unique values for non-numeric columns\n",
    "\n",
    "You should consider grouping by numeric columns that have low number of unique values.  \n",
    "\n",
    "For each grouped DataFrame, you must answer the following:  \n",
    "* Does the average of the numeric variables CHANGE across the groups?  \n",
    "\n",
    "### Collaborators\n",
    "\n",
    "Stacey Wang\n",
    "\n",
    "## Problem 00\n",
    "\n",
    "You will work with the NumPy and Pandas modules in this assignment.\n",
    "\n",
    "Import NumPy and Pandas using their commonly accepted aliases.\n",
    "\n",
    "#### 00) - SOLUTION"
   ]
  },
  {
   "cell_type": "code",
   "execution_count": 52,
   "id": "c783197e",
   "metadata": {},
   "outputs": [],
   "source": [
    "###\n",
    "import numpy as np\n",
    "import pandas as pd"
   ]
  },
  {
   "cell_type": "markdown",
   "id": "dd0fc847",
   "metadata": {},
   "source": [
    "## Problem 01\n",
    "\n",
    "Download `hw05_prob_01.csv` from the Canvas site. Save the CSV file in the same directory as this Jupyter notebook.\n",
    "\n",
    "Read in the `hw05_prob_01.csv` CSV file and assign it to the `df01` object.\n",
    "\n",
    "Explore the `df01` object following **ALL** required actions listed previously.\n",
    "\n",
    "You must add more code cells and markdown cells to complete this problem.\n",
    "\n",
    "#### 01) - SOLUTION"
   ]
  },
  {
   "cell_type": "code",
   "execution_count": 53,
   "id": "5e7f4a9c",
   "metadata": {},
   "outputs": [],
   "source": [
    "###\n",
    "df01 = pd.read_csv('./hw05_prob_01.csv')"
   ]
  },
  {
   "cell_type": "code",
   "execution_count": 54,
   "id": "c3c2f93d",
   "metadata": {},
   "outputs": [
    {
     "name": "stdout",
     "output_type": "stream",
     "text": [
      "shape:(130, 4)\n"
     ]
    }
   ],
   "source": [
    "## Display number of rows and columns\n",
    "print(\"shape:\" + str(df01.shape))"
   ]
  },
  {
   "cell_type": "code",
   "execution_count": 55,
   "id": "c95615a2",
   "metadata": {},
   "outputs": [
    {
     "name": "stdout",
     "output_type": "stream",
     "text": [
      "<class 'pandas.core.frame.DataFrame'>\n",
      "RangeIndex: 130 entries, 0 to 129\n",
      "Data columns (total 4 columns):\n",
      " #   Column  Non-Null Count  Dtype  \n",
      "---  ------  --------------  -----  \n",
      " 0   A       130 non-null    object \n",
      " 1   B       130 non-null    object \n",
      " 2   C       130 non-null    object \n",
      " 3   x       130 non-null    float64\n",
      "dtypes: float64(1), object(3)\n",
      "memory usage: 4.2+ KB\n",
      "None\n"
     ]
    }
   ],
   "source": [
    "## Display names of the columns and their associated data types\n",
    "print(df01.info())"
   ]
  },
  {
   "cell_type": "code",
   "execution_count": 56,
   "id": "a07986e2",
   "metadata": {},
   "outputs": [
    {
     "name": "stdout",
     "output_type": "stream",
     "text": [
      "A      2\n",
      "B      2\n",
      "C      2\n",
      "x    130\n",
      "dtype: int64\n"
     ]
    }
   ],
   "source": [
    "## Display the number of unique values for each column \n",
    "print(df01.nunique(dropna=False))"
   ]
  },
  {
   "cell_type": "code",
   "execution_count": 57,
   "id": "eb1d2af4",
   "metadata": {},
   "outputs": [
    {
     "name": "stdout",
     "output_type": "stream",
     "text": [
      "A      2\n",
      "B      2\n",
      "C      2\n",
      "x    130\n",
      "dtype: int64\n"
     ]
    }
   ],
   "source": [
    "print(df01.nunique(dropna=True))"
   ]
  },
  {
   "cell_type": "code",
   "execution_count": 58,
   "id": "3bf412df",
   "metadata": {},
   "outputs": [
    {
     "name": "stdout",
     "output_type": "stream",
     "text": [
      "A    0\n",
      "B    0\n",
      "C    0\n",
      "x    0\n",
      "dtype: int64\n"
     ]
    }
   ],
   "source": [
    "## Display the number of missing values for each column\n",
    "print(df01.isna().sum())"
   ]
  },
  {
   "cell_type": "code",
   "execution_count": 59,
   "id": "75d11f47",
   "metadata": {},
   "outputs": [
    {
     "name": "stdout",
     "output_type": "stream",
     "text": [
      "          A    B    C           x\n",
      "count   130  130  130  130.000000\n",
      "unique    2    2    2         NaN\n",
      "top      a1   b1   C2         NaN\n",
      "freq     68   78   72         NaN\n",
      "mean    NaN  NaN  NaN    2.155995\n",
      "std     NaN  NaN  NaN    6.015095\n",
      "min     NaN  NaN  NaN   -7.185043\n",
      "25%     NaN  NaN  NaN   -0.715064\n",
      "50%     NaN  NaN  NaN    0.828413\n",
      "75%     NaN  NaN  NaN    4.375242\n",
      "max     NaN  NaN  NaN   15.382198\n"
     ]
    }
   ],
   "source": [
    "## Display summary statistics appropriate for the data type for each column\n",
    "print(df01.describe(include='all'))\n"
   ]
  },
  {
   "cell_type": "code",
   "execution_count": 60,
   "id": "f4e2129a",
   "metadata": {},
   "outputs": [
    {
     "data": {
      "text/plain": [
       "a1    68\n",
       "a2    62\n",
       "Name: A, dtype: int64"
      ]
     },
     "execution_count": 60,
     "metadata": {},
     "output_type": "execute_result"
    }
   ],
   "source": [
    "## Count the number of rows associated with each unique value for Non-numberic columns and Numeric columns with low number of unique values\n",
    "df01.A.value_counts(dropna=False)"
   ]
  },
  {
   "cell_type": "code",
   "execution_count": 61,
   "id": "4db032ff",
   "metadata": {},
   "outputs": [
    {
     "data": {
      "text/plain": [
       "b1    78\n",
       "b0    52\n",
       "Name: B, dtype: int64"
      ]
     },
     "execution_count": 61,
     "metadata": {},
     "output_type": "execute_result"
    }
   ],
   "source": [
    "df01.B.value_counts(dropna=False)"
   ]
  },
  {
   "cell_type": "code",
   "execution_count": 62,
   "id": "a0908121",
   "metadata": {},
   "outputs": [
    {
     "data": {
      "text/plain": [
       "C2    72\n",
       "C1    58\n",
       "Name: C, dtype: int64"
      ]
     },
     "execution_count": 62,
     "metadata": {},
     "output_type": "execute_result"
    }
   ],
   "source": [
    "df01.C.value_counts(dropna=False)"
   ]
  },
  {
   "cell_type": "code",
   "execution_count": 63,
   "id": "75d1eb62",
   "metadata": {},
   "outputs": [
    {
     "data": {
      "text/html": [
       "<div>\n",
       "<style scoped>\n",
       "    .dataframe tbody tr th:only-of-type {\n",
       "        vertical-align: middle;\n",
       "    }\n",
       "\n",
       "    .dataframe tbody tr th {\n",
       "        vertical-align: top;\n",
       "    }\n",
       "\n",
       "    .dataframe thead th {\n",
       "        text-align: right;\n",
       "    }\n",
       "</style>\n",
       "<table border=\"1\" class=\"dataframe\">\n",
       "  <thead>\n",
       "    <tr style=\"text-align: right;\">\n",
       "      <th></th>\n",
       "      <th>A</th>\n",
       "      <th>B</th>\n",
       "      <th>C</th>\n",
       "      <th>x_size</th>\n",
       "      <th>x_count</th>\n",
       "      <th>x_mean</th>\n",
       "      <th>x_std</th>\n",
       "      <th>x_sem</th>\n",
       "    </tr>\n",
       "  </thead>\n",
       "  <tbody>\n",
       "    <tr>\n",
       "      <th>0</th>\n",
       "      <td>a1</td>\n",
       "      <td>b0</td>\n",
       "      <td>C1</td>\n",
       "      <td>7</td>\n",
       "      <td>7</td>\n",
       "      <td>-5.497979</td>\n",
       "      <td>0.696923</td>\n",
       "      <td>0.263412</td>\n",
       "    </tr>\n",
       "    <tr>\n",
       "      <th>1</th>\n",
       "      <td>a1</td>\n",
       "      <td>b0</td>\n",
       "      <td>C2</td>\n",
       "      <td>22</td>\n",
       "      <td>22</td>\n",
       "      <td>13.542754</td>\n",
       "      <td>0.872442</td>\n",
       "      <td>0.186005</td>\n",
       "    </tr>\n",
       "    <tr>\n",
       "      <th>2</th>\n",
       "      <td>a1</td>\n",
       "      <td>b1</td>\n",
       "      <td>C1</td>\n",
       "      <td>25</td>\n",
       "      <td>25</td>\n",
       "      <td>-0.183137</td>\n",
       "      <td>0.654817</td>\n",
       "      <td>0.130963</td>\n",
       "    </tr>\n",
       "    <tr>\n",
       "      <th>3</th>\n",
       "      <td>a1</td>\n",
       "      <td>b1</td>\n",
       "      <td>C2</td>\n",
       "      <td>14</td>\n",
       "      <td>14</td>\n",
       "      <td>0.818355</td>\n",
       "      <td>0.687713</td>\n",
       "      <td>0.183799</td>\n",
       "    </tr>\n",
       "    <tr>\n",
       "      <th>4</th>\n",
       "      <td>a2</td>\n",
       "      <td>b0</td>\n",
       "      <td>C1</td>\n",
       "      <td>11</td>\n",
       "      <td>11</td>\n",
       "      <td>5.459841</td>\n",
       "      <td>0.571378</td>\n",
       "      <td>0.172277</td>\n",
       "    </tr>\n",
       "    <tr>\n",
       "      <th>5</th>\n",
       "      <td>a2</td>\n",
       "      <td>b0</td>\n",
       "      <td>C2</td>\n",
       "      <td>12</td>\n",
       "      <td>12</td>\n",
       "      <td>-0.580973</td>\n",
       "      <td>0.382814</td>\n",
       "      <td>0.110509</td>\n",
       "    </tr>\n",
       "    <tr>\n",
       "      <th>6</th>\n",
       "      <td>a2</td>\n",
       "      <td>b1</td>\n",
       "      <td>C1</td>\n",
       "      <td>15</td>\n",
       "      <td>15</td>\n",
       "      <td>-5.899792</td>\n",
       "      <td>0.632946</td>\n",
       "      <td>0.163426</td>\n",
       "    </tr>\n",
       "    <tr>\n",
       "      <th>7</th>\n",
       "      <td>a2</td>\n",
       "      <td>b1</td>\n",
       "      <td>C2</td>\n",
       "      <td>24</td>\n",
       "      <td>24</td>\n",
       "      <td>2.056517</td>\n",
       "      <td>0.767123</td>\n",
       "      <td>0.156588</td>\n",
       "    </tr>\n",
       "  </tbody>\n",
       "</table>\n",
       "</div>"
      ],
      "text/plain": [
       "    A   B   C  x_size  x_count     x_mean     x_std     x_sem\n",
       "0  a1  b0  C1       7        7  -5.497979  0.696923  0.263412\n",
       "1  a1  b0  C2      22       22  13.542754  0.872442  0.186005\n",
       "2  a1  b1  C1      25       25  -0.183137  0.654817  0.130963\n",
       "3  a1  b1  C2      14       14   0.818355  0.687713  0.183799\n",
       "4  a2  b0  C1      11       11   5.459841  0.571378  0.172277\n",
       "5  a2  b0  C2      12       12  -0.580973  0.382814  0.110509\n",
       "6  a2  b1  C1      15       15  -5.899792  0.632946  0.163426\n",
       "7  a2  b1  C2      24       24   2.056517  0.767123  0.156588"
      ]
     },
     "execution_count": 63,
     "metadata": {},
     "output_type": "execute_result"
    }
   ],
   "source": [
    "## SPLIT-APPLY-COMBINE Calculate the total number of rows for numeric columns\n",
    "## Calculate the number of non missing rows for numberic columns\n",
    "## Calculate the mean and standard deviation of numeric columns\n",
    "## Calculate the standard error on the mean of numeric columns\n",
    "## Calculate the number of unique values for non-numeric columns  \n",
    "\n",
    "df01.groupby(['A','B','C'],dropna=False).\\\n",
    "aggregate(\n",
    "            x_size = ('x','size'),\n",
    "            x_count = ('x','count'),\n",
    "            x_mean = ('x','mean'),\n",
    "            x_std = ('x','std'),\n",
    "            x_sem = ('x','sem')).\\\n",
    "reset_index()\n"
   ]
  },
  {
   "cell_type": "code",
   "execution_count": 64,
   "id": "c6a02399",
   "metadata": {},
   "outputs": [
    {
     "name": "stdout",
     "output_type": "stream",
     "text": [
      "It seems confusing, but it works\n"
     ]
    },
    {
     "data": {
      "text/html": [
       "<div>\n",
       "<style scoped>\n",
       "    .dataframe tbody tr th:only-of-type {\n",
       "        vertical-align: middle;\n",
       "    }\n",
       "\n",
       "    .dataframe tbody tr th {\n",
       "        vertical-align: top;\n",
       "    }\n",
       "\n",
       "    .dataframe thead th {\n",
       "        text-align: right;\n",
       "    }\n",
       "</style>\n",
       "<table border=\"1\" class=\"dataframe\">\n",
       "  <thead>\n",
       "    <tr style=\"text-align: right;\">\n",
       "      <th></th>\n",
       "      <th>A</th>\n",
       "      <th>B</th>\n",
       "      <th>C</th>\n",
       "      <th>A_nunique</th>\n",
       "      <th>B_nunique</th>\n",
       "      <th>C_nunique</th>\n",
       "    </tr>\n",
       "  </thead>\n",
       "  <tbody>\n",
       "    <tr>\n",
       "      <th>0</th>\n",
       "      <td>a1</td>\n",
       "      <td>b0</td>\n",
       "      <td>C1</td>\n",
       "      <td>1</td>\n",
       "      <td>1</td>\n",
       "      <td>1</td>\n",
       "    </tr>\n",
       "    <tr>\n",
       "      <th>1</th>\n",
       "      <td>a1</td>\n",
       "      <td>b0</td>\n",
       "      <td>C2</td>\n",
       "      <td>1</td>\n",
       "      <td>1</td>\n",
       "      <td>1</td>\n",
       "    </tr>\n",
       "    <tr>\n",
       "      <th>2</th>\n",
       "      <td>a1</td>\n",
       "      <td>b1</td>\n",
       "      <td>C1</td>\n",
       "      <td>1</td>\n",
       "      <td>1</td>\n",
       "      <td>1</td>\n",
       "    </tr>\n",
       "    <tr>\n",
       "      <th>3</th>\n",
       "      <td>a1</td>\n",
       "      <td>b1</td>\n",
       "      <td>C2</td>\n",
       "      <td>1</td>\n",
       "      <td>1</td>\n",
       "      <td>1</td>\n",
       "    </tr>\n",
       "    <tr>\n",
       "      <th>4</th>\n",
       "      <td>a2</td>\n",
       "      <td>b0</td>\n",
       "      <td>C1</td>\n",
       "      <td>1</td>\n",
       "      <td>1</td>\n",
       "      <td>1</td>\n",
       "    </tr>\n",
       "    <tr>\n",
       "      <th>5</th>\n",
       "      <td>a2</td>\n",
       "      <td>b0</td>\n",
       "      <td>C2</td>\n",
       "      <td>1</td>\n",
       "      <td>1</td>\n",
       "      <td>1</td>\n",
       "    </tr>\n",
       "    <tr>\n",
       "      <th>6</th>\n",
       "      <td>a2</td>\n",
       "      <td>b1</td>\n",
       "      <td>C1</td>\n",
       "      <td>1</td>\n",
       "      <td>1</td>\n",
       "      <td>1</td>\n",
       "    </tr>\n",
       "    <tr>\n",
       "      <th>7</th>\n",
       "      <td>a2</td>\n",
       "      <td>b1</td>\n",
       "      <td>C2</td>\n",
       "      <td>1</td>\n",
       "      <td>1</td>\n",
       "      <td>1</td>\n",
       "    </tr>\n",
       "  </tbody>\n",
       "</table>\n",
       "</div>"
      ],
      "text/plain": [
       "    A   B   C  A_nunique  B_nunique  C_nunique\n",
       "0  a1  b0  C1          1          1          1\n",
       "1  a1  b0  C2          1          1          1\n",
       "2  a1  b1  C1          1          1          1\n",
       "3  a1  b1  C2          1          1          1\n",
       "4  a2  b0  C1          1          1          1\n",
       "5  a2  b0  C2          1          1          1\n",
       "6  a2  b1  C1          1          1          1\n",
       "7  a2  b1  C2          1          1          1"
      ]
     },
     "execution_count": 64,
     "metadata": {},
     "output_type": "execute_result"
    }
   ],
   "source": [
    "print(\"It seems confusing, but it works\")\n",
    "df01.groupby(['A','B','C'],dropna=False).\\\n",
    "aggregate(\n",
    "            A_nunique = ('A','nunique'),\n",
    "            B_nunique = ('B','nunique'),\n",
    "            C_nunique = ('C','nunique')).\\\n",
    "reset_index()"
   ]
  },
  {
   "cell_type": "markdown",
   "id": "2b82851d",
   "metadata": {},
   "source": [
    "Yes, the average do CHANGE."
   ]
  },
  {
   "cell_type": "markdown",
   "id": "b7a596bb",
   "metadata": {},
   "source": [
    "## Problem 02\n",
    "\n",
    "Download `hw05_prob_02.csv` from the Canvas site. Save the CSV file in the same directory as this Jupyter notebook.\n",
    "\n",
    "Read in the `hw05_prob_02.csv` CSV file and assign it to the `df02` object.\n",
    "\n",
    "Explore the `df02` object following **ALL** required actions listed previously.\n",
    "\n",
    "You must add more code cells and markdown cells to complete this problem.\n",
    "\n",
    "#### 02) - SOLUTION"
   ]
  },
  {
   "cell_type": "code",
   "execution_count": 65,
   "id": "b4925711",
   "metadata": {},
   "outputs": [],
   "source": [
    "###\n",
    "df02 = pd.read_csv('./hw05_prob_02.csv')"
   ]
  },
  {
   "cell_type": "code",
   "execution_count": 66,
   "id": "7fdca5ca",
   "metadata": {},
   "outputs": [
    {
     "name": "stdout",
     "output_type": "stream",
     "text": [
      "shape:(368, 4)\n"
     ]
    }
   ],
   "source": [
    "## Display number of rows and columns\n",
    "print(\"shape:\" + str(df02.shape))"
   ]
  },
  {
   "cell_type": "code",
   "execution_count": 67,
   "id": "cca8fc8e",
   "metadata": {},
   "outputs": [
    {
     "name": "stdout",
     "output_type": "stream",
     "text": [
      "<class 'pandas.core.frame.DataFrame'>\n",
      "RangeIndex: 368 entries, 0 to 367\n",
      "Data columns (total 4 columns):\n",
      " #   Column  Non-Null Count  Dtype  \n",
      "---  ------  --------------  -----  \n",
      " 0   x       368 non-null    float64\n",
      " 1   y       352 non-null    float64\n",
      " 2   A       347 non-null    float64\n",
      " 3   G       368 non-null    int64  \n",
      "dtypes: float64(3), int64(1)\n",
      "memory usage: 11.6 KB\n",
      "None\n"
     ]
    }
   ],
   "source": [
    "## Display names of the columns and their associated data types\n",
    "print(df02.info())"
   ]
  },
  {
   "cell_type": "code",
   "execution_count": 68,
   "id": "b2098fb2",
   "metadata": {},
   "outputs": [
    {
     "name": "stdout",
     "output_type": "stream",
     "text": [
      "x    368\n",
      "y    352\n",
      "A      2\n",
      "G     14\n",
      "dtype: int64\n"
     ]
    }
   ],
   "source": [
    "## Display the number of unique values for each column\n",
    "print(df02.nunique())"
   ]
  },
  {
   "cell_type": "code",
   "execution_count": 69,
   "id": "3e12aea8",
   "metadata": {},
   "outputs": [
    {
     "data": {
      "text/plain": [
       "x     0\n",
       "y    16\n",
       "A    21\n",
       "G     0\n",
       "dtype: int64"
      ]
     },
     "execution_count": 69,
     "metadata": {},
     "output_type": "execute_result"
    }
   ],
   "source": [
    "## Display the number of missing values for each column\n",
    "df02.isna().sum()"
   ]
  },
  {
   "cell_type": "code",
   "execution_count": 70,
   "id": "22169b20",
   "metadata": {},
   "outputs": [
    {
     "name": "stdout",
     "output_type": "stream",
     "text": [
      "                x           y           A           G\n",
      "count  368.000000  352.000000  347.000000  368.000000\n",
      "mean     0.008874    0.287405    1.608069    6.744565\n",
      "std      1.017163    1.951770    0.488886    4.121450\n",
      "min     -2.698471   -7.737557    1.000000    1.000000\n",
      "25%     -0.696962   -0.599940    1.000000    3.000000\n",
      "50%     -0.027857    0.188779    2.000000    6.000000\n",
      "75%      0.607358    1.331244    2.000000   10.000000\n",
      "max      2.936346    7.875071    2.000000   14.000000\n"
     ]
    }
   ],
   "source": [
    "## Display summary statistics appropriate for the data type for each column\n",
    "print(df02.describe(include='all'))"
   ]
  },
  {
   "cell_type": "code",
   "execution_count": 71,
   "id": "483cb123",
   "metadata": {},
   "outputs": [
    {
     "data": {
      "text/plain": [
       "2.0    211\n",
       "1.0    136\n",
       "NaN     21\n",
       "Name: A, dtype: int64"
      ]
     },
     "execution_count": 71,
     "metadata": {},
     "output_type": "execute_result"
    }
   ],
   "source": [
    "## Count the number of rows associated with each unique value for Non-numberic columns and Numeric columns with low number of unique values\n",
    "df02.A.value_counts(dropna=False)"
   ]
  },
  {
   "cell_type": "code",
   "execution_count": 72,
   "id": "93fdd441",
   "metadata": {},
   "outputs": [
    {
     "data": {
      "text/html": [
       "<div>\n",
       "<style scoped>\n",
       "    .dataframe tbody tr th:only-of-type {\n",
       "        vertical-align: middle;\n",
       "    }\n",
       "\n",
       "    .dataframe tbody tr th {\n",
       "        vertical-align: top;\n",
       "    }\n",
       "\n",
       "    .dataframe thead th {\n",
       "        text-align: right;\n",
       "    }\n",
       "</style>\n",
       "<table border=\"1\" class=\"dataframe\">\n",
       "  <thead>\n",
       "    <tr style=\"text-align: right;\">\n",
       "      <th></th>\n",
       "      <th>A</th>\n",
       "      <th>x_size</th>\n",
       "      <th>y_size</th>\n",
       "      <th>G_size</th>\n",
       "      <th>x_count</th>\n",
       "      <th>y_count</th>\n",
       "      <th>G_count</th>\n",
       "      <th>x_mean</th>\n",
       "      <th>y_mean</th>\n",
       "      <th>G_mean</th>\n",
       "      <th>x_std</th>\n",
       "      <th>y_std</th>\n",
       "      <th>G_std</th>\n",
       "      <th>x_sem</th>\n",
       "      <th>y_sem</th>\n",
       "      <th>G_sem</th>\n",
       "    </tr>\n",
       "  </thead>\n",
       "  <tbody>\n",
       "    <tr>\n",
       "      <th>0</th>\n",
       "      <td>1.0</td>\n",
       "      <td>136</td>\n",
       "      <td>136</td>\n",
       "      <td>136</td>\n",
       "      <td>136</td>\n",
       "      <td>120</td>\n",
       "      <td>136</td>\n",
       "      <td>-0.071118</td>\n",
       "      <td>0.097019</td>\n",
       "      <td>8.573529</td>\n",
       "      <td>1.007348</td>\n",
       "      <td>1.935619</td>\n",
       "      <td>2.671197</td>\n",
       "      <td>0.086379</td>\n",
       "      <td>0.176697</td>\n",
       "      <td>0.229053</td>\n",
       "    </tr>\n",
       "    <tr>\n",
       "      <th>1</th>\n",
       "      <td>2.0</td>\n",
       "      <td>211</td>\n",
       "      <td>211</td>\n",
       "      <td>211</td>\n",
       "      <td>211</td>\n",
       "      <td>211</td>\n",
       "      <td>211</td>\n",
       "      <td>0.029215</td>\n",
       "      <td>0.435802</td>\n",
       "      <td>5.028436</td>\n",
       "      <td>1.020511</td>\n",
       "      <td>2.025692</td>\n",
       "      <td>3.871649</td>\n",
       "      <td>0.070255</td>\n",
       "      <td>0.139454</td>\n",
       "      <td>0.266535</td>\n",
       "    </tr>\n",
       "    <tr>\n",
       "      <th>2</th>\n",
       "      <td>NaN</td>\n",
       "      <td>21</td>\n",
       "      <td>21</td>\n",
       "      <td>21</td>\n",
       "      <td>21</td>\n",
       "      <td>21</td>\n",
       "      <td>21</td>\n",
       "      <td>0.322540</td>\n",
       "      <td>-0.115713</td>\n",
       "      <td>12.142857</td>\n",
       "      <td>1.024403</td>\n",
       "      <td>0.925330</td>\n",
       "      <td>4.661392</td>\n",
       "      <td>0.223543</td>\n",
       "      <td>0.201923</td>\n",
       "      <td>1.017199</td>\n",
       "    </tr>\n",
       "  </tbody>\n",
       "</table>\n",
       "</div>"
      ],
      "text/plain": [
       "     A  x_size  y_size  G_size  x_count  y_count  G_count    x_mean    y_mean  \\\n",
       "0  1.0     136     136     136      136      120      136 -0.071118  0.097019   \n",
       "1  2.0     211     211     211      211      211      211  0.029215  0.435802   \n",
       "2  NaN      21      21      21       21       21       21  0.322540 -0.115713   \n",
       "\n",
       "      G_mean     x_std     y_std     G_std     x_sem     y_sem     G_sem  \n",
       "0   8.573529  1.007348  1.935619  2.671197  0.086379  0.176697  0.229053  \n",
       "1   5.028436  1.020511  2.025692  3.871649  0.070255  0.139454  0.266535  \n",
       "2  12.142857  1.024403  0.925330  4.661392  0.223543  0.201923  1.017199  "
      ]
     },
     "execution_count": 72,
     "metadata": {},
     "output_type": "execute_result"
    }
   ],
   "source": [
    "## SPLIT-APPLY-COMBINE Calculate the total number of rows for numeric columns\n",
    "## Calculate the number of non missing rows for numberic columns\n",
    "## Calculate the mean and standard deviation of numeric columns\n",
    "## Calculate the standard error on the mean of numeric columns\n",
    "\n",
    "df02.groupby(['A'],dropna=False).\\\n",
    "aggregate(\n",
    "            x_size = ('x','size'),\n",
    "            y_size = ('y','size'),\n",
    "            G_size = ('G','size'),\n",
    "\n",
    "            x_count = ('x','count'),\n",
    "            y_count = ('y','count'),\n",
    "            G_count = ('G','count'),\n",
    "\n",
    "            x_mean = ('x','mean'),\n",
    "            y_mean = ('y','mean'),\n",
    "            G_mean = ('G','mean'),\n",
    "\n",
    "            x_std = ('x','std'),\n",
    "            y_std = ('y','std'),\n",
    "            G_std = ('G','std'),\n",
    "\n",
    "            x_sem = ('x','sem'),\n",
    "            y_sem = ('y','sem'),\n",
    "            G_sem = ('G','sem')).\\\n",
    "reset_index()"
   ]
  },
  {
   "cell_type": "code",
   "execution_count": 73,
   "id": "c5bd9f05",
   "metadata": {},
   "outputs": [],
   "source": [
    "## Calculate the number of unique values for non-numeric columns\n",
    "## No non-numeric columns"
   ]
  },
  {
   "cell_type": "markdown",
   "id": "13ba9917",
   "metadata": {},
   "source": [
    "Yes, the average do CHANGE across the groups."
   ]
  },
  {
   "cell_type": "markdown",
   "id": "a0644e43",
   "metadata": {},
   "source": [
    "## Problem 03\n",
    "\n",
    "Download `hw05_prob_03.csv` from the Canvas site. Save the CSV file in the same directory as this Jupyter notebook.\n",
    "\n",
    "Read in the `hw05_prob_03.csv` CSV file and assign it to the `df03` object.\n",
    "\n",
    "Explore the `df03` object following **ALL** required actions listed previously.\n",
    "\n",
    "You must add more code cells and markdown cells to complete this problem.\n",
    "\n",
    "#### 03) - SOLUTION"
   ]
  },
  {
   "cell_type": "code",
   "execution_count": 74,
   "id": "19fb6e6e",
   "metadata": {},
   "outputs": [],
   "source": [
    "df03 = pd.read_csv('./hw05_prob_03.csv')"
   ]
  },
  {
   "cell_type": "code",
   "execution_count": 75,
   "id": "fc5bde99",
   "metadata": {},
   "outputs": [
    {
     "name": "stdout",
     "output_type": "stream",
     "text": [
      "shape:(1407, 3)\n"
     ]
    }
   ],
   "source": [
    "## Display number of rows and columns\n",
    "print(\"shape:\" + str(df03.shape))"
   ]
  },
  {
   "cell_type": "code",
   "execution_count": 76,
   "id": "c80c0cfc",
   "metadata": {},
   "outputs": [
    {
     "name": "stdout",
     "output_type": "stream",
     "text": [
      "<class 'pandas.core.frame.DataFrame'>\n",
      "RangeIndex: 1407 entries, 0 to 1406\n",
      "Data columns (total 3 columns):\n",
      " #   Column  Non-Null Count  Dtype  \n",
      "---  ------  --------------  -----  \n",
      " 0   obs_id  1407 non-null   int64  \n",
      " 1   key     1407 non-null   object \n",
      " 2   value   1379 non-null   float64\n",
      "dtypes: float64(1), int64(1), object(1)\n",
      "memory usage: 33.1+ KB\n",
      "None\n"
     ]
    }
   ],
   "source": [
    "## Display names of the columns and their associated data types\n",
    "print(df03.info())"
   ]
  },
  {
   "cell_type": "code",
   "execution_count": 77,
   "id": "1cad52a2",
   "metadata": {},
   "outputs": [
    {
     "data": {
      "text/plain": [
       "obs_id     201\n",
       "key          7\n",
       "value     1379\n",
       "dtype: int64"
      ]
     },
     "execution_count": 77,
     "metadata": {},
     "output_type": "execute_result"
    }
   ],
   "source": [
    "## Display the number of unique values for each column\n",
    "df03.nunique()"
   ]
  },
  {
   "cell_type": "code",
   "execution_count": 78,
   "id": "78b17a8c",
   "metadata": {},
   "outputs": [
    {
     "data": {
      "text/plain": [
       "obs_id     0\n",
       "key        0\n",
       "value     28\n",
       "dtype: int64"
      ]
     },
     "execution_count": 78,
     "metadata": {},
     "output_type": "execute_result"
    }
   ],
   "source": [
    "## Display the number of missing values for each column\n",
    "df03.isna().sum()"
   ]
  },
  {
   "cell_type": "code",
   "execution_count": 79,
   "id": "90fbdcb5",
   "metadata": {},
   "outputs": [
    {
     "name": "stdout",
     "output_type": "stream",
     "text": [
      "             obs_id   key        value\n",
      "count   1407.000000  1407  1379.000000\n",
      "unique          NaN     7          NaN\n",
      "top             NaN    x1          NaN\n",
      "freq            NaN   201          NaN\n",
      "mean     101.000000   NaN    -2.222709\n",
      "std       58.043614   NaN     4.465882\n",
      "min        1.000000   NaN   -25.362015\n",
      "25%       51.000000   NaN    -2.683234\n",
      "50%      101.000000   NaN    -0.798222\n",
      "75%      151.000000   NaN     0.250730\n",
      "max      201.000000   NaN     4.209716\n"
     ]
    }
   ],
   "source": [
    "## Display summary statistics appropriate for the data type for each column\n",
    "print(df03.describe(include='all'))"
   ]
  },
  {
   "cell_type": "code",
   "execution_count": 80,
   "id": "cdb82b32",
   "metadata": {},
   "outputs": [
    {
     "data": {
      "text/plain": [
       "x1    201\n",
       "x2    201\n",
       "x3    201\n",
       "x4    201\n",
       "x5    201\n",
       "x6    201\n",
       "x7    201\n",
       "Name: key, dtype: int64"
      ]
     },
     "execution_count": 80,
     "metadata": {},
     "output_type": "execute_result"
    }
   ],
   "source": [
    "## Count the number of rows associated with each unique value for Non-numberic columns and Numeric columns with low number of unique values\n",
    "df03.key.value_counts(dropna=False)"
   ]
  },
  {
   "cell_type": "code",
   "execution_count": 83,
   "id": "dac343be",
   "metadata": {},
   "outputs": [
    {
     "data": {
      "text/html": [
       "<div>\n",
       "<style scoped>\n",
       "    .dataframe tbody tr th:only-of-type {\n",
       "        vertical-align: middle;\n",
       "    }\n",
       "\n",
       "    .dataframe tbody tr th {\n",
       "        vertical-align: top;\n",
       "    }\n",
       "\n",
       "    .dataframe thead th {\n",
       "        text-align: right;\n",
       "    }\n",
       "</style>\n",
       "<table border=\"1\" class=\"dataframe\">\n",
       "  <thead>\n",
       "    <tr style=\"text-align: right;\">\n",
       "      <th></th>\n",
       "      <th>key</th>\n",
       "      <th>obs_id_size</th>\n",
       "      <th>value_size</th>\n",
       "      <th>obs_id_count</th>\n",
       "      <th>value_count</th>\n",
       "      <th>obs_id_mean</th>\n",
       "      <th>value_mean</th>\n",
       "      <th>obs_id_std</th>\n",
       "      <th>value_std</th>\n",
       "      <th>obs_id_sem</th>\n",
       "      <th>value_sem</th>\n",
       "    </tr>\n",
       "  </thead>\n",
       "  <tbody>\n",
       "    <tr>\n",
       "      <th>0</th>\n",
       "      <td>x1</td>\n",
       "      <td>101.0</td>\n",
       "      <td>201</td>\n",
       "      <td>201</td>\n",
       "      <td>201</td>\n",
       "      <td>101.0</td>\n",
       "      <td>-0.160787</td>\n",
       "      <td>58.167861</td>\n",
       "      <td>1.735903</td>\n",
       "      <td>4.102845</td>\n",
       "      <td>0.122441</td>\n",
       "    </tr>\n",
       "    <tr>\n",
       "      <th>1</th>\n",
       "      <td>x2</td>\n",
       "      <td>101.0</td>\n",
       "      <td>201</td>\n",
       "      <td>201</td>\n",
       "      <td>201</td>\n",
       "      <td>101.0</td>\n",
       "      <td>0.100830</td>\n",
       "      <td>58.167861</td>\n",
       "      <td>0.095558</td>\n",
       "      <td>4.102845</td>\n",
       "      <td>0.006740</td>\n",
       "    </tr>\n",
       "    <tr>\n",
       "      <th>2</th>\n",
       "      <td>x3</td>\n",
       "      <td>101.0</td>\n",
       "      <td>201</td>\n",
       "      <td>201</td>\n",
       "      <td>197</td>\n",
       "      <td>101.0</td>\n",
       "      <td>-0.050132</td>\n",
       "      <td>58.167861</td>\n",
       "      <td>1.544633</td>\n",
       "      <td>4.102845</td>\n",
       "      <td>0.110051</td>\n",
       "    </tr>\n",
       "    <tr>\n",
       "      <th>3</th>\n",
       "      <td>x4</td>\n",
       "      <td>101.0</td>\n",
       "      <td>201</td>\n",
       "      <td>201</td>\n",
       "      <td>201</td>\n",
       "      <td>101.0</td>\n",
       "      <td>-10.187219</td>\n",
       "      <td>58.167861</td>\n",
       "      <td>5.079706</td>\n",
       "      <td>4.102845</td>\n",
       "      <td>0.358295</td>\n",
       "    </tr>\n",
       "    <tr>\n",
       "      <th>4</th>\n",
       "      <td>x5</td>\n",
       "      <td>101.0</td>\n",
       "      <td>201</td>\n",
       "      <td>201</td>\n",
       "      <td>201</td>\n",
       "      <td>101.0</td>\n",
       "      <td>1.061053</td>\n",
       "      <td>58.167861</td>\n",
       "      <td>0.935690</td>\n",
       "      <td>4.102845</td>\n",
       "      <td>0.065998</td>\n",
       "    </tr>\n",
       "    <tr>\n",
       "      <th>5</th>\n",
       "      <td>x6</td>\n",
       "      <td>101.0</td>\n",
       "      <td>201</td>\n",
       "      <td>201</td>\n",
       "      <td>197</td>\n",
       "      <td>101.0</td>\n",
       "      <td>-1.463831</td>\n",
       "      <td>58.167861</td>\n",
       "      <td>0.591750</td>\n",
       "      <td>4.102845</td>\n",
       "      <td>0.042160</td>\n",
       "    </tr>\n",
       "    <tr>\n",
       "      <th>6</th>\n",
       "      <td>x7</td>\n",
       "      <td>101.0</td>\n",
       "      <td>201</td>\n",
       "      <td>201</td>\n",
       "      <td>181</td>\n",
       "      <td>101.0</td>\n",
       "      <td>-5.085382</td>\n",
       "      <td>58.167861</td>\n",
       "      <td>3.002404</td>\n",
       "      <td>4.102845</td>\n",
       "      <td>0.223167</td>\n",
       "    </tr>\n",
       "  </tbody>\n",
       "</table>\n",
       "</div>"
      ],
      "text/plain": [
       "  key  obs_id_size  value_size  obs_id_count  value_count  obs_id_mean  \\\n",
       "0  x1        101.0         201           201          201        101.0   \n",
       "1  x2        101.0         201           201          201        101.0   \n",
       "2  x3        101.0         201           201          197        101.0   \n",
       "3  x4        101.0         201           201          201        101.0   \n",
       "4  x5        101.0         201           201          201        101.0   \n",
       "5  x6        101.0         201           201          197        101.0   \n",
       "6  x7        101.0         201           201          181        101.0   \n",
       "\n",
       "   value_mean  obs_id_std  value_std  obs_id_sem  value_sem  \n",
       "0   -0.160787   58.167861   1.735903    4.102845   0.122441  \n",
       "1    0.100830   58.167861   0.095558    4.102845   0.006740  \n",
       "2   -0.050132   58.167861   1.544633    4.102845   0.110051  \n",
       "3  -10.187219   58.167861   5.079706    4.102845   0.358295  \n",
       "4    1.061053   58.167861   0.935690    4.102845   0.065998  \n",
       "5   -1.463831   58.167861   0.591750    4.102845   0.042160  \n",
       "6   -5.085382   58.167861   3.002404    4.102845   0.223167  "
      ]
     },
     "execution_count": 83,
     "metadata": {},
     "output_type": "execute_result"
    }
   ],
   "source": [
    "## SPLIT-APPLY-COMBINE Calculate the total number of rows for numeric columns\n",
    "## Calculate the number of non missing rows for numberic columns\n",
    "## Calculate the mean and standard deviation of numeric columns\n",
    "## Calculate the standard error on the mean of numeric columns\n",
    "## Calculate the number of unique values for non-numeric columns\n",
    "\n",
    "df03.groupby(['key'],dropna=False).\\\n",
    "aggregate(obs_id_size = ('obs_id','size'),\n",
    "          value_size = ('value','size'),\n",
    "\n",
    "            obs_id_count = ('obs_id','count'),\n",
    "            value_count = ('value','count'),\n",
    "\n",
    "            obs_id_mean = ('obs_id','mean'),\n",
    "            value_mean = ('value','mean'),\n",
    "\n",
    "            obs_id_std = ('obs_id','std'),\n",
    "            value_std = ('value','std'),\n",
    "\n",
    "            obs_id_sem = ('obs_id','sem'),\n",
    "            value_sem = ('value','sem')).\\\n",
    "reset_index()\n",
    "          \n",
    "\n",
    "          "
   ]
  },
  {
   "cell_type": "code",
   "execution_count": 31,
   "id": "45670368",
   "metadata": {},
   "outputs": [
    {
     "data": {
      "text/html": [
       "<div>\n",
       "<style scoped>\n",
       "    .dataframe tbody tr th:only-of-type {\n",
       "        vertical-align: middle;\n",
       "    }\n",
       "\n",
       "    .dataframe tbody tr th {\n",
       "        vertical-align: top;\n",
       "    }\n",
       "\n",
       "    .dataframe thead th {\n",
       "        text-align: right;\n",
       "    }\n",
       "</style>\n",
       "<table border=\"1\" class=\"dataframe\">\n",
       "  <thead>\n",
       "    <tr style=\"text-align: right;\">\n",
       "      <th></th>\n",
       "      <th>key</th>\n",
       "      <th>key_nunique</th>\n",
       "    </tr>\n",
       "  </thead>\n",
       "  <tbody>\n",
       "    <tr>\n",
       "      <th>0</th>\n",
       "      <td>x1</td>\n",
       "      <td>1</td>\n",
       "    </tr>\n",
       "    <tr>\n",
       "      <th>1</th>\n",
       "      <td>x2</td>\n",
       "      <td>1</td>\n",
       "    </tr>\n",
       "    <tr>\n",
       "      <th>2</th>\n",
       "      <td>x3</td>\n",
       "      <td>1</td>\n",
       "    </tr>\n",
       "    <tr>\n",
       "      <th>3</th>\n",
       "      <td>x4</td>\n",
       "      <td>1</td>\n",
       "    </tr>\n",
       "    <tr>\n",
       "      <th>4</th>\n",
       "      <td>x5</td>\n",
       "      <td>1</td>\n",
       "    </tr>\n",
       "    <tr>\n",
       "      <th>5</th>\n",
       "      <td>x6</td>\n",
       "      <td>1</td>\n",
       "    </tr>\n",
       "    <tr>\n",
       "      <th>6</th>\n",
       "      <td>x7</td>\n",
       "      <td>1</td>\n",
       "    </tr>\n",
       "  </tbody>\n",
       "</table>\n",
       "</div>"
      ],
      "text/plain": [
       "  key  key_nunique\n",
       "0  x1            1\n",
       "1  x2            1\n",
       "2  x3            1\n",
       "3  x4            1\n",
       "4  x5            1\n",
       "5  x6            1\n",
       "6  x7            1"
      ]
     },
     "execution_count": 31,
     "metadata": {},
     "output_type": "execute_result"
    }
   ],
   "source": [
    "## Calculate the number of unique values for non-numeric columns\n",
    "df03.groupby(['key'],dropna=False).\\\n",
    "aggregate(key_nunique = ('key','nunique')).\\\n",
    "reset_index()"
   ]
  },
  {
   "cell_type": "markdown",
   "id": "33a56aac",
   "metadata": {},
   "source": [
    "The value column average do CHANGE across the groups.\n",
    "But, the obs_id column average do NOT CHANGE across the groups."
   ]
  },
  {
   "cell_type": "markdown",
   "id": "c7d6aa02",
   "metadata": {},
   "source": [
    "## Problem 04\n",
    "\n",
    "You must download the data associated with one of the Final Projects from the Canvas site. Save the file(s) in the same directory as this Jupyter notebook.\n",
    "\n",
    "Read in the data associated with one of the Final Projects. You must perform the ESSENTIAL activities listed previously.\n",
    "\n",
    "You do **NOT** need to SPLIT-APPLY-COMBINE to explore across groups for this assignment.\n",
    "\n",
    "#### 04) - SOLUTION"
   ]
  },
  {
   "cell_type": "code",
   "execution_count": 32,
   "id": "ffbb1a74",
   "metadata": {},
   "outputs": [],
   "source": [
    "df_pj = pd.read_csv('./trial_inputs.csv')"
   ]
  },
  {
   "cell_type": "code",
   "execution_count": 33,
   "id": "4c17ece9",
   "metadata": {},
   "outputs": [
    {
     "name": "stdout",
     "output_type": "stream",
     "text": [
      "shape:(240, 7)\n"
     ]
    }
   ],
   "source": [
    "## Display number of rows and columns\n",
    "print(\"shape:\" + str(df_pj.shape))"
   ]
  },
  {
   "cell_type": "code",
   "execution_count": 34,
   "id": "07ae2bbe",
   "metadata": {},
   "outputs": [
    {
     "name": "stdout",
     "output_type": "stream",
     "text": [
      "<class 'pandas.core.frame.DataFrame'>\n",
      "RangeIndex: 240 entries, 0 to 239\n",
      "Data columns (total 7 columns):\n",
      " #   Column    Non-Null Count  Dtype \n",
      "---  ------    --------------  ----- \n",
      " 0   trial_id  240 non-null    int64 \n",
      " 1   x1        240 non-null    int64 \n",
      " 2   x2        240 non-null    int64 \n",
      " 3   x3        240 non-null    int64 \n",
      " 4   x4        240 non-null    int64 \n",
      " 5   x5        240 non-null    int64 \n",
      " 6   x6        240 non-null    object\n",
      "dtypes: int64(6), object(1)\n",
      "memory usage: 13.2+ KB\n",
      "None\n"
     ]
    }
   ],
   "source": [
    "## Display names of the columns and their associated data types\n",
    "print(df_pj.info())"
   ]
  },
  {
   "cell_type": "code",
   "execution_count": 35,
   "id": "ec62b15d",
   "metadata": {},
   "outputs": [
    {
     "data": {
      "text/plain": [
       "trial_id    240\n",
       "x1            3\n",
       "x2            3\n",
       "x3            2\n",
       "x4            2\n",
       "x5            3\n",
       "x6            4\n",
       "dtype: int64"
      ]
     },
     "execution_count": 35,
     "metadata": {},
     "output_type": "execute_result"
    }
   ],
   "source": [
    "## Display the number of unique values for each column\n",
    "df_pj.nunique()"
   ]
  },
  {
   "cell_type": "code",
   "execution_count": 36,
   "id": "3f521f71",
   "metadata": {},
   "outputs": [
    {
     "data": {
      "text/plain": [
       "trial_id    0\n",
       "x1          0\n",
       "x2          0\n",
       "x3          0\n",
       "x4          0\n",
       "x5          0\n",
       "x6          0\n",
       "dtype: int64"
      ]
     },
     "execution_count": 36,
     "metadata": {},
     "output_type": "execute_result"
    }
   ],
   "source": [
    "## Display the number of missing values for each column\n",
    "df_pj.isna().sum()"
   ]
  },
  {
   "cell_type": "code",
   "execution_count": 37,
   "id": "9b701731",
   "metadata": {},
   "outputs": [
    {
     "name": "stdout",
     "output_type": "stream",
     "text": [
      "         trial_id          x1          x2         x3         x4          x5  \\\n",
      "count   240.00000  240.000000  240.000000  240.00000  240.00000  240.000000   \n",
      "unique        NaN         NaN         NaN        NaN        NaN         NaN   \n",
      "top           NaN         NaN         NaN        NaN        NaN         NaN   \n",
      "freq          NaN         NaN         NaN        NaN        NaN         NaN   \n",
      "mean    120.50000    0.000000    0.000000    0.00000    0.00000    0.000000   \n",
      "std      69.42622    0.731823    0.731823    1.00209    1.00209    0.731823   \n",
      "min       1.00000   -1.000000   -1.000000   -1.00000   -1.00000   -1.000000   \n",
      "25%      60.75000   -1.000000   -1.000000   -1.00000   -1.00000   -1.000000   \n",
      "50%     120.50000    0.000000    0.000000    0.00000    0.00000    0.000000   \n",
      "75%     180.25000    1.000000    1.000000    1.00000    1.00000    1.000000   \n",
      "max     240.00000    1.000000    1.000000    1.00000    1.00000    1.000000   \n",
      "\n",
      "         x6  \n",
      "count   240  \n",
      "unique    4  \n",
      "top       A  \n",
      "freq     60  \n",
      "mean    NaN  \n",
      "std     NaN  \n",
      "min     NaN  \n",
      "25%     NaN  \n",
      "50%     NaN  \n",
      "75%     NaN  \n",
      "max     NaN  \n"
     ]
    }
   ],
   "source": [
    "## Display summary statistics appropriate for the data type for each column\n",
    "print(df_pj.describe(include='all'))"
   ]
  },
  {
   "cell_type": "code",
   "execution_count": 38,
   "id": "4ea027ac",
   "metadata": {},
   "outputs": [
    {
     "data": {
      "text/plain": [
       " 0    112\n",
       "-1     64\n",
       " 1     64\n",
       "Name: x1, dtype: int64"
      ]
     },
     "execution_count": 38,
     "metadata": {},
     "output_type": "execute_result"
    }
   ],
   "source": [
    "## Count the number of rows associated with each unique value for Non-numberic columns and Numeric columns with low number of unique values\n",
    "df_pj.x1.value_counts(dropna=False)"
   ]
  },
  {
   "cell_type": "code",
   "execution_count": 39,
   "id": "be91ec1b",
   "metadata": {},
   "outputs": [
    {
     "data": {
      "text/plain": [
       " 0    112\n",
       "-1     64\n",
       " 1     64\n",
       "Name: x2, dtype: int64"
      ]
     },
     "execution_count": 39,
     "metadata": {},
     "output_type": "execute_result"
    }
   ],
   "source": [
    "df_pj.x2.value_counts(dropna=False)"
   ]
  },
  {
   "cell_type": "code",
   "execution_count": 40,
   "id": "4f6e5c30",
   "metadata": {},
   "outputs": [
    {
     "data": {
      "text/plain": [
       "-1    120\n",
       " 1    120\n",
       "Name: x3, dtype: int64"
      ]
     },
     "execution_count": 40,
     "metadata": {},
     "output_type": "execute_result"
    }
   ],
   "source": [
    "df_pj.x3.value_counts(dropna=False)"
   ]
  },
  {
   "cell_type": "code",
   "execution_count": 41,
   "id": "f8574aa0",
   "metadata": {},
   "outputs": [
    {
     "data": {
      "text/plain": [
       "-1    120\n",
       " 1    120\n",
       "Name: x4, dtype: int64"
      ]
     },
     "execution_count": 41,
     "metadata": {},
     "output_type": "execute_result"
    }
   ],
   "source": [
    "df_pj.x4.value_counts(dropna=False)"
   ]
  },
  {
   "cell_type": "code",
   "execution_count": 42,
   "id": "e178b476",
   "metadata": {},
   "outputs": [
    {
     "data": {
      "text/plain": [
       " 0    112\n",
       "-1     64\n",
       " 1     64\n",
       "Name: x5, dtype: int64"
      ]
     },
     "execution_count": 42,
     "metadata": {},
     "output_type": "execute_result"
    }
   ],
   "source": [
    "df_pj.x5.value_counts(dropna=False)"
   ]
  },
  {
   "cell_type": "code",
   "execution_count": 43,
   "id": "65ffe26d",
   "metadata": {},
   "outputs": [
    {
     "data": {
      "text/plain": [
       "A    60\n",
       "B    60\n",
       "C    60\n",
       "D    60\n",
       "Name: x6, dtype: int64"
      ]
     },
     "execution_count": 43,
     "metadata": {},
     "output_type": "execute_result"
    }
   ],
   "source": [
    "df_pj.x6.value_counts(dropna=False)"
   ]
  },
  {
   "cell_type": "code",
   "execution_count": 44,
   "id": "1888b0ea",
   "metadata": {},
   "outputs": [],
   "source": [
    "df_pj_out = pd.read_csv('./trial_outputs.csv')"
   ]
  },
  {
   "cell_type": "code",
   "execution_count": 45,
   "id": "e966038a",
   "metadata": {},
   "outputs": [
    {
     "name": "stdout",
     "output_type": "stream",
     "text": [
      "shape:(17431, 3)\n"
     ]
    }
   ],
   "source": [
    "## Display number of rows and columns\n",
    "print(\"shape:\" + str(df_pj_out.shape))"
   ]
  },
  {
   "cell_type": "code",
   "execution_count": 46,
   "id": "0010089f",
   "metadata": {},
   "outputs": [
    {
     "name": "stdout",
     "output_type": "stream",
     "text": [
      "<class 'pandas.core.frame.DataFrame'>\n",
      "RangeIndex: 17431 entries, 0 to 17430\n",
      "Data columns (total 3 columns):\n",
      " #   Column    Non-Null Count  Dtype  \n",
      "---  ------    --------------  -----  \n",
      " 0   trial_id  17431 non-null  int64  \n",
      " 1   cycle     17431 non-null  int64  \n",
      " 2   y         17431 non-null  float64\n",
      "dtypes: float64(1), int64(2)\n",
      "memory usage: 408.7 KB\n",
      "None\n"
     ]
    }
   ],
   "source": [
    "## Display names of the columns and their associated data types\n",
    "print(df_pj_out.info())"
   ]
  },
  {
   "cell_type": "code",
   "execution_count": 47,
   "id": "4980b7ed",
   "metadata": {},
   "outputs": [
    {
     "data": {
      "text/plain": [
       "trial_id      240\n",
       "cycle         100\n",
       "y           17431\n",
       "dtype: int64"
      ]
     },
     "execution_count": 47,
     "metadata": {},
     "output_type": "execute_result"
    }
   ],
   "source": [
    "## Display the number of unique values for each column\n",
    "df_pj_out.nunique()"
   ]
  },
  {
   "cell_type": "code",
   "execution_count": 48,
   "id": "f891c7f2",
   "metadata": {},
   "outputs": [
    {
     "data": {
      "text/plain": [
       "trial_id    0\n",
       "cycle       0\n",
       "y           0\n",
       "dtype: int64"
      ]
     },
     "execution_count": 48,
     "metadata": {},
     "output_type": "execute_result"
    }
   ],
   "source": [
    "## Display the number of missing values for each column\n",
    "df_pj_out.isna().sum()"
   ]
  },
  {
   "cell_type": "code",
   "execution_count": 49,
   "id": "7606d3f9",
   "metadata": {},
   "outputs": [
    {
     "name": "stdout",
     "output_type": "stream",
     "text": [
      "           trial_id         cycle             y\n",
      "count  17431.000000  17431.000000  17431.000000\n",
      "mean     120.738454     43.145086      0.000259\n",
      "std       67.263248     28.278423      0.000050\n",
      "min        1.000000      1.000000      0.000161\n",
      "25%       62.000000     19.000000      0.000224\n",
      "50%      117.000000     39.000000      0.000260\n",
      "75%      174.000000     66.000000      0.000298\n",
      "max      240.000000    100.000000      0.000359\n"
     ]
    }
   ],
   "source": [
    "## Display summary statistics appropriate for the data type for each column\n",
    "print(df_pj_out.describe(include='all'))\n"
   ]
  },
  {
   "cell_type": "code",
   "execution_count": 50,
   "id": "5f405747",
   "metadata": {},
   "outputs": [
    {
     "data": {
      "text/plain": [
       "1      240\n",
       "5      240\n",
       "7      240\n",
       "6      240\n",
       "2      240\n",
       "      ... \n",
       "96     122\n",
       "97     119\n",
       "98     118\n",
       "99     118\n",
       "100    118\n",
       "Name: cycle, Length: 100, dtype: int64"
      ]
     },
     "execution_count": 50,
     "metadata": {},
     "output_type": "execute_result"
    }
   ],
   "source": [
    "## Count the number of rows associated with each unique value for Non-numberic columns and Numeric columns with low number of unique values\n",
    "df_pj_out.cycle.value_counts(dropna=False)"
   ]
  }
 ],
 "metadata": {
  "kernelspec": {
   "display_name": "Python 3 (ipykernel)",
   "language": "python",
   "name": "python3"
  },
  "language_info": {
   "codemirror_mode": {
    "name": "ipython",
    "version": 3
   },
   "file_extension": ".py",
   "mimetype": "text/x-python",
   "name": "python",
   "nbconvert_exporter": "python",
   "pygments_lexer": "ipython3",
   "version": "3.9.13"
  }
 },
 "nbformat": 4,
 "nbformat_minor": 5
}
