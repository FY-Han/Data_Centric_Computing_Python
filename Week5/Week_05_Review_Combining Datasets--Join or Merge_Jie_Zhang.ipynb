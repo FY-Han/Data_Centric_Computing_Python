{
 "cells": [
  {
   "cell_type": "markdown",
   "id": "5d1a8449",
   "metadata": {},
   "source": [
    "Both join and merge are fundamental operations in data manipulation and database design. They are used to combine datasets based on common column values."
   ]
  },
  {
   "cell_type": "markdown",
   "id": "2bf48531",
   "metadata": {},
   "source": [
    "### Joining datasets:\n",
    "\n",
    "The join method in pandas is used to combine DataFrames based on index values. By default, join operates on indices, but you can also join on columns."
   ]
  },
  {
   "cell_type": "code",
   "execution_count": 6,
   "id": "b7bb8de9",
   "metadata": {},
   "outputs": [],
   "source": [
    "import pandas as pd"
   ]
  },
  {
   "cell_type": "code",
   "execution_count": 7,
   "id": "3dd8708c",
   "metadata": {},
   "outputs": [
    {
     "name": "stdout",
     "output_type": "stream",
     "text": [
      "      A    B    C    D\n",
      "K0   A0   B0   C0   D0\n",
      "K1   A1   B1  NaN  NaN\n",
      "K2   A2   B2   C2   D2\n",
      "K3  NaN  NaN   C3   D3\n"
     ]
    }
   ],
   "source": [
    "import pandas as pd\n",
    "\n",
    "df1 = pd.DataFrame({\n",
    "    'A': ['A0', 'A1', 'A2'],\n",
    "    'B': ['B0', 'B1', 'B2']\n",
    "}, index=['K0', 'K1', 'K2'])\n",
    "\n",
    "df2 = pd.DataFrame({\n",
    "    'C': ['C0', 'C2', 'C3'],\n",
    "    'D': ['D0', 'D2', 'D3']\n",
    "}, index=['K0', 'K2', 'K3'])\n",
    "\n",
    "result = df1.join(df2, how='outer')  # 'outer' join includes all indices from both DataFrames.\n",
    "\n",
    "print(result)"
   ]
  },
  {
   "cell_type": "markdown",
   "id": "a1f62d44",
   "metadata": {},
   "source": [
    "### Merging datasets:\n",
    "\n",
    "The merge function is more flexible than join and is primarily used to combine datasets based on column values."
   ]
  },
  {
   "cell_type": "code",
   "execution_count": 8,
   "id": "6f294304",
   "metadata": {},
   "outputs": [
    {
     "name": "stdout",
     "output_type": "stream",
     "text": [
      "  key    A    B    C    D\n",
      "0  K0   A0   B0   C0   D0\n",
      "1  K1   A1   B1  NaN  NaN\n",
      "2  K2   A2   B2   C2   D2\n",
      "3  K3  NaN  NaN   C3   D3\n"
     ]
    }
   ],
   "source": [
    "df1 = pd.DataFrame({\n",
    "    'key': ['K0', 'K1', 'K2'],\n",
    "    'A': ['A0', 'A1', 'A2'],\n",
    "    'B': ['B0', 'B1', 'B2']\n",
    "})\n",
    "\n",
    "df2 = pd.DataFrame({\n",
    "    'key': ['K0', 'K2', 'K3'],\n",
    "    'C': ['C0', 'C2', 'C3'],\n",
    "    'D': ['D0', 'D2', 'D3']\n",
    "})\n",
    "\n",
    "result = pd.merge(df1, df2, on='key', how='outer')\n",
    "\n",
    "print(result)"
   ]
  },
  {
   "cell_type": "markdown",
   "id": "40155e3e",
   "metadata": {},
   "source": [
    "### Merge types:\n",
    "\n",
    "Inner (default): Only rows with matching keys in both dataframes are returned.\n",
    "\n",
    "Outer: All rows from both dataframes are returned. Missing values are filled with NaN.\n",
    "\n",
    "Left: All rows from the left dataframe and any rows from the right dataframe with matching keys are returned.\n",
    "\n",
    "Right: All rows from the right dataframe and any rows from the left dataframe with matching keys are returned."
   ]
  },
  {
   "cell_type": "markdown",
   "id": "8d5bf49c",
   "metadata": {},
   "source": [
    "### Importance in Database Design:\n",
    "\n",
    "Combining datasets using join or merge ensures that relationships between data are maintained. This is particularly crucial when working with relational databases where referential integrity is a concern.\n",
    "\n",
    "Instead of storing repetitive data, databases can store related data in separate tables and combine them when necessary. This makes operations like updates more efficient and reduces storage needs.\n",
    "\n",
    "Using joins and merges allows for flexibility in querying. You can obtain a holistic view from multiple tables, which would otherwise be scattered across the database.\n",
    "\n",
    "By designing databases where related data is separated into different tables and then combined when necessary, you reduce the risk of data redundancy."
   ]
  },
  {
   "cell_type": "markdown",
   "id": "4894be0b",
   "metadata": {},
   "source": [
    "### Values MISSINGS\n",
    "\n",
    "When join or merge datasets, there are scenarios where certain records do not have corresponding matches in the other dataset. In such cases, the result will contain missing values. The nature and location of these missing values depend on the type of join/merge used.\n",
    "\n",
    "Inner Join/Merge: Only the records that have matching values in both datasets will be present in the result. Records that are in one dataset but not in the other will be excluded.There will be no missing values in the result because all non-matching records are omitted.\n",
    "\n",
    "Outer Join/Merge: All records from both datasets will be present in the result. If a record in one dataset does not have a match in the other dataset, the result will have missing values (NaN in pandas) for all columns of the dataset where the match is missing.\n",
    "\n",
    "Left Join/Merge: All records from the left dataset and only the matching records from the right dataset will be present. If a record in the left dataset doesn't have a corresponding match in the right dataset, the result will have missing values for all columns of the right dataset.\n",
    "\n",
    "Right Join/Merge: All records from the right dataset and only the matching records from the left dataset will be present. If a record in the right dataset doesn't have a corresponding match in the left dataset, the result will have missing values for all columns of the left dataset."
   ]
  },
  {
   "cell_type": "markdown",
   "id": "39c46dcf",
   "metadata": {},
   "source": [
    "### The differences between pandas' JOIN/MERGE and SQL's JOIN/MERGE operations.\n",
    "\n",
    "**Functionality**\n",
    "\n",
    "pandas' join and merge are primarily for data combination.\n",
    "SQL's JOIN is also for data combination.\n",
    "SQL's MERGE serves a dual purpose of synchronization (insert, update, delete based on join conditions).\n",
    "\n",
    "**Use Cases:**\n",
    "\n",
    "pandas operations are best suited for data analysis and manipulation in a Python environment.\n",
    "SQL operations are best for managing and querying data within relational databases.\n",
    "Immutable vs Mutable Operations:\n",
    "\n",
    "By default, pandas' operations return new DataFrames and do not modify the original ones.\n",
    "SQL's MERGE modifies the target table directly.\n",
    "\n",
    "**Syntax and Environment:**\n",
    "\n",
    "pandas operates within Python using method calls on DataFrames.\n",
    "SQL's operations use declarative syntax and are executed within a database environment.\n",
    "In essence, while both pandas and SQL offer join and merge-like operations, the context, usage, and underlying mechanics can differ significantly."
   ]
  },
  {
   "cell_type": "markdown",
   "id": "33ac1311",
   "metadata": {},
   "source": [
    "### Multiple Choice Questions:\n",
    "\n",
    "1.Which parameter in pandas' merge function allows you to specify the type of merge to be performed?\n",
    "a) type\n",
    "b) kind\n",
    "c) how\n",
    "d) method\n",
    "\n",
    "2.If you are performing a LEFT JOIN between df1 and df2 and a key is present in df1 but not in df2, the resulting dataframe will have:\n",
    "a) No missing values.\n",
    "b) Missing values for all columns of df1.\n",
    "c) Missing values for all columns of df2.\n",
    "d) An error is raised.\n",
    "\n",
    "### True/False Questions:\n",
    "\n",
    "1.If you perform a RIGHT JOIN in pandas between df1 and df2, and a certain key exists in df1 but not in df2, the resultant DataFrame will contain missing values for columns from df2.\n",
    "\n",
    "A. True\n",
    "B. False\n",
    "\n",
    "2.After an INNER JOIN, the resulting DataFrame will never have missing values, irrespective of the DataFrames being joined.\n",
    "\n",
    "A. True\n",
    "B. False\n",
    "\n",
    "**Answers:**\n",
    "\n",
    "Multiple Choice:\n",
    "\n",
    "c) how\n",
    "c) Missing values for all columns of df2.\n",
    "\n",
    "True/False:\n",
    "\n",
    "False\n",
    "True"
   ]
  },
  {
   "cell_type": "code",
   "execution_count": null,
   "id": "4752f11d",
   "metadata": {},
   "outputs": [],
   "source": []
  }
 ],
 "metadata": {
  "kernelspec": {
   "display_name": "Python 3 (ipykernel)",
   "language": "python",
   "name": "python3"
  },
  "language_info": {
   "codemirror_mode": {
    "name": "ipython",
    "version": 3
   },
   "file_extension": ".py",
   "mimetype": "text/x-python",
   "name": "python",
   "nbconvert_exporter": "python",
   "pygments_lexer": "ipython3",
   "version": "3.9.17"
  }
 },
 "nbformat": 4,
 "nbformat_minor": 5
}
