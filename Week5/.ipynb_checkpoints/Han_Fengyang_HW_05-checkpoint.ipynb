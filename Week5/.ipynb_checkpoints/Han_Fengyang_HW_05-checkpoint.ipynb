{
 "cells": [
  {
   "cell_type": "markdown",
   "id": "0330bcc5",
   "metadata": {},
   "source": [
    "## CMPINF 2100: Homework 05\n",
    "\n",
    "### Fengyang Han\n",
    "\n",
    "## Assigned: Tuesday of Week 05 at 11:00PM\n",
    "\n",
    "## DUE: Tuesday of Week 06 at 11:59PM\n",
    "\n",
    "## Overview\n",
    "\n",
    "This assignment is more open ended than the previous ones. You must explore three data sets using the skills you have learned up to this point in the course. The Week 05 lecture material discusses the ESSENTIAL Pandas methods methods that you must ALWAYS use when BEGINNING to explore data. You must use those methods here in this assignment. You must also use SPLIT-APPLY-COMBINE to explore if summary statistics change across grouping variables. The last problem requires you to use the ESSENTIAL Pandas methods to begin exploring data associated with one of the final projects of your choosing.\n",
    "\n",
    "**You must download the 3 data sets provided in the Canvas assignment page and save them to the appropriate directory on your computer.**\n",
    "\n",
    "## Required tasks for Problem 01 through 03\n",
    "\n",
    "For each of the 3 assigned data sets you must perform the following ESSENTIAL activities:\n",
    "\n",
    "* Display the number of rows and columns in the dataset  \n",
    "* Display the names of the columns and their associated data types  \n",
    "* Display the number of unique values for each column  \n",
    "* Display the number of MISSING values for each column  \n",
    "* Display summary statistics appropriate for the data type for each column\n",
    "* Count the number of rows associated with each unique value for:\n",
    "    * Non-numeric columns  \n",
    "    * Numeric columns with low number of unique values  \n",
    "\n",
    "You must also execute SPLIT-APPLY-COMBINE to summarize the data based on grouping variables. Specifically, you must group by non-numeric columns and calculate the following summary statistics:\n",
    "* Calculate the total number of rows for numeric columns  \n",
    "* Calculate the number of non missing rows for numeric columns\n",
    "* Calculate the mean and standard deviation of numeric columns\n",
    "* Calculate the standard error on the mean of numeric columns\n",
    "* Calculate the number of unique values for non-numeric columns\n",
    "\n",
    "You should consider grouping by numeric columns that have low number of unique values.  \n",
    "\n",
    "For each grouped DataFrame, you must answer the following:  \n",
    "* Does the average of the numeric variables CHANGE across the groups?  \n",
    "\n",
    "### Collaborators\n",
    "\n",
    "Stacey Wang\n",
    "\n",
    "## Problem 00\n",
    "\n",
    "You will work with the NumPy and Pandas modules in this assignment.\n",
    "\n",
    "Import NumPy and Pandas using their commonly accepted aliases.\n",
    "\n",
    "#### 00) - SOLUTION"
   ]
  },
  {
   "cell_type": "code",
   "execution_count": 1,
   "id": "c783197e",
   "metadata": {},
   "outputs": [],
   "source": [
    "###\n",
    "import numpy as np\n",
    "import pandas as pd"
   ]
  },
  {
   "cell_type": "markdown",
   "id": "dd0fc847",
   "metadata": {},
   "source": [
    "## Problem 01\n",
    "\n",
    "Download `hw05_prob_01.csv` from the Canvas site. Save the CSV file in the same directory as this Jupyter notebook.\n",
    "\n",
    "Read in the `hw05_prob_01.csv` CSV file and assign it to the `df01` object.\n",
    "\n",
    "Explore the `df01` object following **ALL** required actions listed previously.\n",
    "\n",
    "You must add more code cells and markdown cells to complete this problem.\n",
    "\n",
    "#### 01) - SOLUTION"
   ]
  },
  {
   "cell_type": "code",
   "execution_count": 2,
   "id": "5e7f4a9c",
   "metadata": {},
   "outputs": [],
   "source": [
    "###\n",
    "df01 = pd.read_csv('./hw05_prob_01.csv')"
   ]
  },
  {
   "cell_type": "code",
   "execution_count": 3,
   "id": "c3c2f93d",
   "metadata": {},
   "outputs": [
    {
     "name": "stdout",
     "output_type": "stream",
     "text": [
      "shape:(130, 4)\n"
     ]
    }
   ],
   "source": [
    "## Display number of rows and columns\n",
    "print(\"shape:\" + str(df01.shape))"
   ]
  },
  {
   "cell_type": "code",
   "execution_count": 4,
   "id": "c95615a2",
   "metadata": {},
   "outputs": [
    {
     "name": "stdout",
     "output_type": "stream",
     "text": [
      "<class 'pandas.core.frame.DataFrame'>\n",
      "RangeIndex: 130 entries, 0 to 129\n",
      "Data columns (total 4 columns):\n",
      " #   Column  Non-Null Count  Dtype  \n",
      "---  ------  --------------  -----  \n",
      " 0   A       130 non-null    object \n",
      " 1   B       130 non-null    object \n",
      " 2   C       130 non-null    object \n",
      " 3   x       130 non-null    float64\n",
      "dtypes: float64(1), object(3)\n",
      "memory usage: 4.2+ KB\n",
      "None\n"
     ]
    }
   ],
   "source": [
    "## Display names of the columns and their associated data types\n",
    "print(df01.info())"
   ]
  },
  {
   "cell_type": "code",
   "execution_count": 5,
   "id": "a07986e2",
   "metadata": {},
   "outputs": [
    {
     "name": "stdout",
     "output_type": "stream",
     "text": [
      "A      2\n",
      "B      2\n",
      "C      2\n",
      "x    130\n",
      "dtype: int64\n"
     ]
    }
   ],
   "source": [
    "## Display the number of unique values for each column \n",
    "print(df01.nunique(dropna=False))"
   ]
  },
  {
   "cell_type": "code",
   "execution_count": 6,
   "id": "eb1d2af4",
   "metadata": {},
   "outputs": [
    {
     "name": "stdout",
     "output_type": "stream",
     "text": [
      "A      2\n",
      "B      2\n",
      "C      2\n",
      "x    130\n",
      "dtype: int64\n"
     ]
    }
   ],
   "source": [
    "print(df01.nunique(dropna=True))"
   ]
  },
  {
   "cell_type": "code",
   "execution_count": 7,
   "id": "3bf412df",
   "metadata": {},
   "outputs": [
    {
     "name": "stdout",
     "output_type": "stream",
     "text": [
      "A    0\n",
      "B    0\n",
      "C    0\n",
      "x    0\n",
      "dtype: int64\n"
     ]
    }
   ],
   "source": [
    "## Display the number of missing values for each column\n",
    "print(df01.isna().sum())"
   ]
  },
  {
   "cell_type": "code",
   "execution_count": 8,
   "id": "75d11f47",
   "metadata": {},
   "outputs": [
    {
     "name": "stdout",
     "output_type": "stream",
     "text": [
      "          A    B    C           x\n",
      "count   130  130  130  130.000000\n",
      "unique    2    2    2         NaN\n",
      "top      a1   b1   C2         NaN\n",
      "freq     68   78   72         NaN\n",
      "mean    NaN  NaN  NaN    2.155995\n",
      "std     NaN  NaN  NaN    6.015095\n",
      "min     NaN  NaN  NaN   -7.185043\n",
      "25%     NaN  NaN  NaN   -0.715064\n",
      "50%     NaN  NaN  NaN    0.828413\n",
      "75%     NaN  NaN  NaN    4.375242\n",
      "max     NaN  NaN  NaN   15.382198\n"
     ]
    }
   ],
   "source": [
    "## Display summary statistics appropriate for the data type for each column\n",
    "print(df01.describe(include='all'))\n"
   ]
  },
  {
   "cell_type": "code",
   "execution_count": 9,
   "id": "f4e2129a",
   "metadata": {},
   "outputs": [
    {
     "data": {
      "text/plain": [
       "a1    68\n",
       "a2    62\n",
       "Name: A, dtype: int64"
      ]
     },
     "execution_count": 9,
     "metadata": {},
     "output_type": "execute_result"
    }
   ],
   "source": [
    "## Count the number of rows associated with each unique value for Non-numberic columns and Numeric columns with low number of unique values\n",
    "df01.A.value_counts(dropna=False)"
   ]
  },
  {
   "cell_type": "code",
   "execution_count": 10,
   "id": "4db032ff",
   "metadata": {},
   "outputs": [
    {
     "data": {
      "text/plain": [
       "b1    78\n",
       "b0    52\n",
       "Name: B, dtype: int64"
      ]
     },
     "execution_count": 10,
     "metadata": {},
     "output_type": "execute_result"
    }
   ],
   "source": [
    "df01.B.value_counts(dropna=False)"
   ]
  },
  {
   "cell_type": "code",
   "execution_count": 11,
   "id": "a0908121",
   "metadata": {},
   "outputs": [
    {
     "data": {
      "text/plain": [
       "C2    72\n",
       "C1    58\n",
       "Name: C, dtype: int64"
      ]
     },
     "execution_count": 11,
     "metadata": {},
     "output_type": "execute_result"
    }
   ],
   "source": [
    "df01.C.value_counts(dropna=False)"
   ]
  },
  {
   "cell_type": "code",
   "execution_count": 12,
   "id": "75d1eb62",
   "metadata": {},
   "outputs": [
    {
     "data": {
      "text/html": [
       "<div>\n",
       "<style scoped>\n",
       "    .dataframe tbody tr th:only-of-type {\n",
       "        vertical-align: middle;\n",
       "    }\n",
       "\n",
       "    .dataframe tbody tr th {\n",
       "        vertical-align: top;\n",
       "    }\n",
       "\n",
       "    .dataframe thead th {\n",
       "        text-align: right;\n",
       "    }\n",
       "</style>\n",
       "<table border=\"1\" class=\"dataframe\">\n",
       "  <thead>\n",
       "    <tr style=\"text-align: right;\">\n",
       "      <th></th>\n",
       "      <th></th>\n",
       "      <th></th>\n",
       "      <th>x</th>\n",
       "    </tr>\n",
       "    <tr>\n",
       "      <th>A</th>\n",
       "      <th>B</th>\n",
       "      <th>C</th>\n",
       "      <th></th>\n",
       "    </tr>\n",
       "  </thead>\n",
       "  <tbody>\n",
       "    <tr>\n",
       "      <th rowspan=\"4\" valign=\"top\">a1</th>\n",
       "      <th rowspan=\"2\" valign=\"top\">b0</th>\n",
       "      <th>C1</th>\n",
       "      <td>7</td>\n",
       "    </tr>\n",
       "    <tr>\n",
       "      <th>C2</th>\n",
       "      <td>22</td>\n",
       "    </tr>\n",
       "    <tr>\n",
       "      <th rowspan=\"2\" valign=\"top\">b1</th>\n",
       "      <th>C1</th>\n",
       "      <td>25</td>\n",
       "    </tr>\n",
       "    <tr>\n",
       "      <th>C2</th>\n",
       "      <td>14</td>\n",
       "    </tr>\n",
       "    <tr>\n",
       "      <th rowspan=\"4\" valign=\"top\">a2</th>\n",
       "      <th rowspan=\"2\" valign=\"top\">b0</th>\n",
       "      <th>C1</th>\n",
       "      <td>11</td>\n",
       "    </tr>\n",
       "    <tr>\n",
       "      <th>C2</th>\n",
       "      <td>12</td>\n",
       "    </tr>\n",
       "    <tr>\n",
       "      <th rowspan=\"2\" valign=\"top\">b1</th>\n",
       "      <th>C1</th>\n",
       "      <td>15</td>\n",
       "    </tr>\n",
       "    <tr>\n",
       "      <th>C2</th>\n",
       "      <td>24</td>\n",
       "    </tr>\n",
       "  </tbody>\n",
       "</table>\n",
       "</div>"
      ],
      "text/plain": [
       "           x\n",
       "A  B  C     \n",
       "a1 b0 C1   7\n",
       "      C2  22\n",
       "   b1 C1  25\n",
       "      C2  14\n",
       "a2 b0 C1  11\n",
       "      C2  12\n",
       "   b1 C1  15\n",
       "      C2  24"
      ]
     },
     "execution_count": 12,
     "metadata": {},
     "output_type": "execute_result"
    }
   ],
   "source": [
    "## SPLIT-APPLY-COMBINE Calculate the total number of rows for numeric columns\n",
    "df01.groupby(['A','B','C'],dropna=False).count()"
   ]
  },
  {
   "cell_type": "code",
   "execution_count": 13,
   "id": "35440e00",
   "metadata": {},
   "outputs": [
    {
     "data": {
      "text/html": [
       "<div>\n",
       "<style scoped>\n",
       "    .dataframe tbody tr th:only-of-type {\n",
       "        vertical-align: middle;\n",
       "    }\n",
       "\n",
       "    .dataframe tbody tr th {\n",
       "        vertical-align: top;\n",
       "    }\n",
       "\n",
       "    .dataframe thead th {\n",
       "        text-align: right;\n",
       "    }\n",
       "</style>\n",
       "<table border=\"1\" class=\"dataframe\">\n",
       "  <thead>\n",
       "    <tr style=\"text-align: right;\">\n",
       "      <th></th>\n",
       "      <th></th>\n",
       "      <th></th>\n",
       "      <th>x</th>\n",
       "    </tr>\n",
       "    <tr>\n",
       "      <th>A</th>\n",
       "      <th>B</th>\n",
       "      <th>C</th>\n",
       "      <th></th>\n",
       "    </tr>\n",
       "  </thead>\n",
       "  <tbody>\n",
       "    <tr>\n",
       "      <th rowspan=\"4\" valign=\"top\">a1</th>\n",
       "      <th rowspan=\"2\" valign=\"top\">b0</th>\n",
       "      <th>C1</th>\n",
       "      <td>7</td>\n",
       "    </tr>\n",
       "    <tr>\n",
       "      <th>C2</th>\n",
       "      <td>22</td>\n",
       "    </tr>\n",
       "    <tr>\n",
       "      <th rowspan=\"2\" valign=\"top\">b1</th>\n",
       "      <th>C1</th>\n",
       "      <td>25</td>\n",
       "    </tr>\n",
       "    <tr>\n",
       "      <th>C2</th>\n",
       "      <td>14</td>\n",
       "    </tr>\n",
       "    <tr>\n",
       "      <th rowspan=\"4\" valign=\"top\">a2</th>\n",
       "      <th rowspan=\"2\" valign=\"top\">b0</th>\n",
       "      <th>C1</th>\n",
       "      <td>11</td>\n",
       "    </tr>\n",
       "    <tr>\n",
       "      <th>C2</th>\n",
       "      <td>12</td>\n",
       "    </tr>\n",
       "    <tr>\n",
       "      <th rowspan=\"2\" valign=\"top\">b1</th>\n",
       "      <th>C1</th>\n",
       "      <td>15</td>\n",
       "    </tr>\n",
       "    <tr>\n",
       "      <th>C2</th>\n",
       "      <td>24</td>\n",
       "    </tr>\n",
       "  </tbody>\n",
       "</table>\n",
       "</div>"
      ],
      "text/plain": [
       "           x\n",
       "A  B  C     \n",
       "a1 b0 C1   7\n",
       "      C2  22\n",
       "   b1 C1  25\n",
       "      C2  14\n",
       "a2 b0 C1  11\n",
       "      C2  12\n",
       "   b1 C1  15\n",
       "      C2  24"
      ]
     },
     "execution_count": 13,
     "metadata": {},
     "output_type": "execute_result"
    }
   ],
   "source": [
    "## Calculate the number of non missing rows for numberic columns\n",
    "df01.groupby(['A','B','C'],dropna=True).count()"
   ]
  },
  {
   "cell_type": "code",
   "execution_count": 14,
   "id": "3308ed51",
   "metadata": {},
   "outputs": [
    {
     "data": {
      "text/html": [
       "<div>\n",
       "<style scoped>\n",
       "    .dataframe tbody tr th:only-of-type {\n",
       "        vertical-align: middle;\n",
       "    }\n",
       "\n",
       "    .dataframe tbody tr th {\n",
       "        vertical-align: top;\n",
       "    }\n",
       "\n",
       "    .dataframe thead th {\n",
       "        text-align: right;\n",
       "    }\n",
       "</style>\n",
       "<table border=\"1\" class=\"dataframe\">\n",
       "  <thead>\n",
       "    <tr style=\"text-align: right;\">\n",
       "      <th></th>\n",
       "      <th>A</th>\n",
       "      <th>B</th>\n",
       "      <th>C</th>\n",
       "      <th>x_avg</th>\n",
       "      <th>x_std</th>\n",
       "    </tr>\n",
       "  </thead>\n",
       "  <tbody>\n",
       "    <tr>\n",
       "      <th>0</th>\n",
       "      <td>a1</td>\n",
       "      <td>b0</td>\n",
       "      <td>C1</td>\n",
       "      <td>-5.497979</td>\n",
       "      <td>0.696923</td>\n",
       "    </tr>\n",
       "    <tr>\n",
       "      <th>1</th>\n",
       "      <td>a1</td>\n",
       "      <td>b0</td>\n",
       "      <td>C2</td>\n",
       "      <td>13.542754</td>\n",
       "      <td>0.872442</td>\n",
       "    </tr>\n",
       "    <tr>\n",
       "      <th>2</th>\n",
       "      <td>a1</td>\n",
       "      <td>b1</td>\n",
       "      <td>C1</td>\n",
       "      <td>-0.183137</td>\n",
       "      <td>0.654817</td>\n",
       "    </tr>\n",
       "    <tr>\n",
       "      <th>3</th>\n",
       "      <td>a1</td>\n",
       "      <td>b1</td>\n",
       "      <td>C2</td>\n",
       "      <td>0.818355</td>\n",
       "      <td>0.687713</td>\n",
       "    </tr>\n",
       "    <tr>\n",
       "      <th>4</th>\n",
       "      <td>a2</td>\n",
       "      <td>b0</td>\n",
       "      <td>C1</td>\n",
       "      <td>5.459841</td>\n",
       "      <td>0.571378</td>\n",
       "    </tr>\n",
       "    <tr>\n",
       "      <th>5</th>\n",
       "      <td>a2</td>\n",
       "      <td>b0</td>\n",
       "      <td>C2</td>\n",
       "      <td>-0.580973</td>\n",
       "      <td>0.382814</td>\n",
       "    </tr>\n",
       "    <tr>\n",
       "      <th>6</th>\n",
       "      <td>a2</td>\n",
       "      <td>b1</td>\n",
       "      <td>C1</td>\n",
       "      <td>-5.899792</td>\n",
       "      <td>0.632946</td>\n",
       "    </tr>\n",
       "    <tr>\n",
       "      <th>7</th>\n",
       "      <td>a2</td>\n",
       "      <td>b1</td>\n",
       "      <td>C2</td>\n",
       "      <td>2.056517</td>\n",
       "      <td>0.767123</td>\n",
       "    </tr>\n",
       "  </tbody>\n",
       "</table>\n",
       "</div>"
      ],
      "text/plain": [
       "    A   B   C      x_avg     x_std\n",
       "0  a1  b0  C1  -5.497979  0.696923\n",
       "1  a1  b0  C2  13.542754  0.872442\n",
       "2  a1  b1  C1  -0.183137  0.654817\n",
       "3  a1  b1  C2   0.818355  0.687713\n",
       "4  a2  b0  C1   5.459841  0.571378\n",
       "5  a2  b0  C2  -0.580973  0.382814\n",
       "6  a2  b1  C1  -5.899792  0.632946\n",
       "7  a2  b1  C2   2.056517  0.767123"
      ]
     },
     "execution_count": 14,
     "metadata": {},
     "output_type": "execute_result"
    }
   ],
   "source": [
    "## Calculate the mean and standard deviation of numeric columns\n",
    "df01.groupby(['A','B','C'],dropna=False).\\\n",
    "aggregate(x_avg = ('x','mean'),\n",
    "          x_std = ('x','std')).\\\n",
    "reset_index()"
   ]
  },
  {
   "cell_type": "code",
   "execution_count": 15,
   "id": "595cd17e",
   "metadata": {},
   "outputs": [
    {
     "data": {
      "text/plain": [
       "6.230367390115699"
      ]
     },
     "execution_count": 15,
     "metadata": {},
     "output_type": "execute_result"
    }
   ],
   "source": [
    "## Calculate the standard error on the mean of numeric columns\n",
    "df01.groupby(['A','B','C'],dropna=True).\\\n",
    "aggregate(x_avg = ('x','mean'),\n",
    "          x_std = ('x','std')).\\\n",
    "reset_index().x_avg.std(ddof=1)"
   ]
  },
  {
   "cell_type": "code",
   "execution_count": 16,
   "id": "f93c4b47",
   "metadata": {},
   "outputs": [
    {
     "data": {
      "text/html": [
       "<div>\n",
       "<style scoped>\n",
       "    .dataframe tbody tr th:only-of-type {\n",
       "        vertical-align: middle;\n",
       "    }\n",
       "\n",
       "    .dataframe tbody tr th {\n",
       "        vertical-align: top;\n",
       "    }\n",
       "\n",
       "    .dataframe thead th {\n",
       "        text-align: right;\n",
       "    }\n",
       "</style>\n",
       "<table border=\"1\" class=\"dataframe\">\n",
       "  <thead>\n",
       "    <tr style=\"text-align: right;\">\n",
       "      <th></th>\n",
       "      <th>A</th>\n",
       "      <th>B</th>\n",
       "      <th>C</th>\n",
       "      <th>A_nunique</th>\n",
       "      <th>B_nunique</th>\n",
       "      <th>C_nunique</th>\n",
       "    </tr>\n",
       "  </thead>\n",
       "  <tbody>\n",
       "    <tr>\n",
       "      <th>0</th>\n",
       "      <td>a1</td>\n",
       "      <td>b0</td>\n",
       "      <td>C1</td>\n",
       "      <td>1</td>\n",
       "      <td>1</td>\n",
       "      <td>1</td>\n",
       "    </tr>\n",
       "    <tr>\n",
       "      <th>1</th>\n",
       "      <td>a1</td>\n",
       "      <td>b0</td>\n",
       "      <td>C2</td>\n",
       "      <td>1</td>\n",
       "      <td>1</td>\n",
       "      <td>1</td>\n",
       "    </tr>\n",
       "    <tr>\n",
       "      <th>2</th>\n",
       "      <td>a1</td>\n",
       "      <td>b1</td>\n",
       "      <td>C1</td>\n",
       "      <td>1</td>\n",
       "      <td>1</td>\n",
       "      <td>1</td>\n",
       "    </tr>\n",
       "    <tr>\n",
       "      <th>3</th>\n",
       "      <td>a1</td>\n",
       "      <td>b1</td>\n",
       "      <td>C2</td>\n",
       "      <td>1</td>\n",
       "      <td>1</td>\n",
       "      <td>1</td>\n",
       "    </tr>\n",
       "    <tr>\n",
       "      <th>4</th>\n",
       "      <td>a2</td>\n",
       "      <td>b0</td>\n",
       "      <td>C1</td>\n",
       "      <td>1</td>\n",
       "      <td>1</td>\n",
       "      <td>1</td>\n",
       "    </tr>\n",
       "    <tr>\n",
       "      <th>5</th>\n",
       "      <td>a2</td>\n",
       "      <td>b0</td>\n",
       "      <td>C2</td>\n",
       "      <td>1</td>\n",
       "      <td>1</td>\n",
       "      <td>1</td>\n",
       "    </tr>\n",
       "    <tr>\n",
       "      <th>6</th>\n",
       "      <td>a2</td>\n",
       "      <td>b1</td>\n",
       "      <td>C1</td>\n",
       "      <td>1</td>\n",
       "      <td>1</td>\n",
       "      <td>1</td>\n",
       "    </tr>\n",
       "    <tr>\n",
       "      <th>7</th>\n",
       "      <td>a2</td>\n",
       "      <td>b1</td>\n",
       "      <td>C2</td>\n",
       "      <td>1</td>\n",
       "      <td>1</td>\n",
       "      <td>1</td>\n",
       "    </tr>\n",
       "  </tbody>\n",
       "</table>\n",
       "</div>"
      ],
      "text/plain": [
       "    A   B   C  A_nunique  B_nunique  C_nunique\n",
       "0  a1  b0  C1          1          1          1\n",
       "1  a1  b0  C2          1          1          1\n",
       "2  a1  b1  C1          1          1          1\n",
       "3  a1  b1  C2          1          1          1\n",
       "4  a2  b0  C1          1          1          1\n",
       "5  a2  b0  C2          1          1          1\n",
       "6  a2  b1  C1          1          1          1\n",
       "7  a2  b1  C2          1          1          1"
      ]
     },
     "execution_count": 16,
     "metadata": {},
     "output_type": "execute_result"
    }
   ],
   "source": [
    "## Calculate the number of unique values for non-numeric columns\n",
    "df01.groupby(['A','B','C'],dropna=False).\\\n",
    "aggregate(A_nunique = ('A','nunique'),\n",
    "            B_nunique = ('B','nunique'),\n",
    "            C_nunique = ('C','nunique')).\\\n",
    "reset_index()\n"
   ]
  },
  {
   "cell_type": "markdown",
   "id": "b7a596bb",
   "metadata": {},
   "source": [
    "## Problem 02\n",
    "\n",
    "Download `hw05_prob_02.csv` from the Canvas site. Save the CSV file in the same directory as this Jupyter notebook.\n",
    "\n",
    "Read in the `hw05_prob_02.csv` CSV file and assign it to the `df02` object.\n",
    "\n",
    "Explore the `df02` object following **ALL** required actions listed previously.\n",
    "\n",
    "You must add more code cells and markdown cells to complete this problem.\n",
    "\n",
    "#### 02) - SOLUTION"
   ]
  },
  {
   "cell_type": "code",
   "execution_count": 17,
   "id": "b4925711",
   "metadata": {},
   "outputs": [],
   "source": [
    "###\n",
    "df02 = pd.read_csv('./hw05_prob_02.csv')"
   ]
  },
  {
   "cell_type": "code",
   "execution_count": 18,
   "id": "7fdca5ca",
   "metadata": {},
   "outputs": [
    {
     "name": "stdout",
     "output_type": "stream",
     "text": [
      "shape:(368, 4)\n"
     ]
    }
   ],
   "source": [
    "## Display number of rows and columns\n",
    "print(\"shape:\" + str(df02.shape))"
   ]
  },
  {
   "cell_type": "code",
   "execution_count": 19,
   "id": "cca8fc8e",
   "metadata": {},
   "outputs": [
    {
     "name": "stdout",
     "output_type": "stream",
     "text": [
      "<class 'pandas.core.frame.DataFrame'>\n",
      "RangeIndex: 368 entries, 0 to 367\n",
      "Data columns (total 4 columns):\n",
      " #   Column  Non-Null Count  Dtype  \n",
      "---  ------  --------------  -----  \n",
      " 0   x       368 non-null    float64\n",
      " 1   y       352 non-null    float64\n",
      " 2   A       347 non-null    float64\n",
      " 3   G       368 non-null    int64  \n",
      "dtypes: float64(3), int64(1)\n",
      "memory usage: 11.6 KB\n",
      "None\n"
     ]
    }
   ],
   "source": [
    "## Display names of the columns and their associated data types\n",
    "print(df02.info())"
   ]
  },
  {
   "cell_type": "code",
   "execution_count": 20,
   "id": "b2098fb2",
   "metadata": {},
   "outputs": [
    {
     "name": "stdout",
     "output_type": "stream",
     "text": [
      "x    368\n",
      "y    352\n",
      "A      2\n",
      "G     14\n",
      "dtype: int64\n"
     ]
    }
   ],
   "source": [
    "## Display the number of unique values for each column\n",
    "print(df02.nunique())"
   ]
  },
  {
   "cell_type": "code",
   "execution_count": 21,
   "id": "3e12aea8",
   "metadata": {},
   "outputs": [
    {
     "data": {
      "text/plain": [
       "x     0\n",
       "y    16\n",
       "A    21\n",
       "G     0\n",
       "dtype: int64"
      ]
     },
     "execution_count": 21,
     "metadata": {},
     "output_type": "execute_result"
    }
   ],
   "source": [
    "## Display the number of missing values for each column\n",
    "df02.isna().sum()"
   ]
  },
  {
   "cell_type": "code",
   "execution_count": 22,
   "id": "22169b20",
   "metadata": {},
   "outputs": [
    {
     "name": "stdout",
     "output_type": "stream",
     "text": [
      "                x           y           A           G\n",
      "count  368.000000  352.000000  347.000000  368.000000\n",
      "mean     0.008874    0.287405    1.608069    6.744565\n",
      "std      1.017163    1.951770    0.488886    4.121450\n",
      "min     -2.698471   -7.737557    1.000000    1.000000\n",
      "25%     -0.696962   -0.599940    1.000000    3.000000\n",
      "50%     -0.027857    0.188779    2.000000    6.000000\n",
      "75%      0.607358    1.331244    2.000000   10.000000\n",
      "max      2.936346    7.875071    2.000000   14.000000\n"
     ]
    }
   ],
   "source": [
    "## Display summary statistics appropriate for the data type for each column\n",
    "print(df02.describe(include='all'))"
   ]
  },
  {
   "cell_type": "code",
   "execution_count": 23,
   "id": "483cb123",
   "metadata": {},
   "outputs": [
    {
     "data": {
      "text/plain": [
       " NaN         16\n",
       " 1.226548     1\n",
       "-1.461986     1\n",
       " 5.096197     1\n",
       " 4.478876     1\n",
       "             ..\n",
       " 0.155207     1\n",
       "-0.048821     1\n",
       " 0.001583     1\n",
       " 0.247763     1\n",
       " 1.795239     1\n",
       "Name: y, Length: 353, dtype: int64"
      ]
     },
     "execution_count": 23,
     "metadata": {},
     "output_type": "execute_result"
    }
   ],
   "source": [
    "## Count the number of rows associated with each unique value for Non-numberic columns and Numeric columns with low number of unique values\n",
    "df02.y.value_counts(dropna=False)"
   ]
  },
  {
   "cell_type": "code",
   "execution_count": 24,
   "id": "d99ecb9f",
   "metadata": {},
   "outputs": [
    {
     "data": {
      "text/plain": [
       "2.0    211\n",
       "1.0    136\n",
       "NaN     21\n",
       "Name: A, dtype: int64"
      ]
     },
     "execution_count": 24,
     "metadata": {},
     "output_type": "execute_result"
    }
   ],
   "source": [
    "df02.A.value_counts(dropna=False)"
   ]
  },
  {
   "cell_type": "code",
   "execution_count": 25,
   "id": "6cfc93b7",
   "metadata": {},
   "outputs": [
    {
     "data": {
      "text/html": [
       "<div>\n",
       "<style scoped>\n",
       "    .dataframe tbody tr th:only-of-type {\n",
       "        vertical-align: middle;\n",
       "    }\n",
       "\n",
       "    .dataframe tbody tr th {\n",
       "        vertical-align: top;\n",
       "    }\n",
       "\n",
       "    .dataframe thead th {\n",
       "        text-align: right;\n",
       "    }\n",
       "</style>\n",
       "<table border=\"1\" class=\"dataframe\">\n",
       "  <thead>\n",
       "    <tr style=\"text-align: right;\">\n",
       "      <th></th>\n",
       "      <th>x</th>\n",
       "      <th>y</th>\n",
       "      <th>G</th>\n",
       "    </tr>\n",
       "    <tr>\n",
       "      <th>A</th>\n",
       "      <th></th>\n",
       "      <th></th>\n",
       "      <th></th>\n",
       "    </tr>\n",
       "  </thead>\n",
       "  <tbody>\n",
       "    <tr>\n",
       "      <th>1.0</th>\n",
       "      <td>136</td>\n",
       "      <td>120</td>\n",
       "      <td>136</td>\n",
       "    </tr>\n",
       "    <tr>\n",
       "      <th>2.0</th>\n",
       "      <td>211</td>\n",
       "      <td>211</td>\n",
       "      <td>211</td>\n",
       "    </tr>\n",
       "    <tr>\n",
       "      <th>NaN</th>\n",
       "      <td>21</td>\n",
       "      <td>21</td>\n",
       "      <td>21</td>\n",
       "    </tr>\n",
       "  </tbody>\n",
       "</table>\n",
       "</div>"
      ],
      "text/plain": [
       "       x    y    G\n",
       "A                 \n",
       "1.0  136  120  136\n",
       "2.0  211  211  211\n",
       "NaN   21   21   21"
      ]
     },
     "execution_count": 25,
     "metadata": {},
     "output_type": "execute_result"
    }
   ],
   "source": [
    "## SPLIT-APPLY-COMBINE Calculate the total number of rows for numeric columns\n",
    "df02.groupby(['A'],dropna=False).count()"
   ]
  },
  {
   "cell_type": "code",
   "execution_count": 26,
   "id": "89a53301",
   "metadata": {},
   "outputs": [
    {
     "data": {
      "text/html": [
       "<div>\n",
       "<style scoped>\n",
       "    .dataframe tbody tr th:only-of-type {\n",
       "        vertical-align: middle;\n",
       "    }\n",
       "\n",
       "    .dataframe tbody tr th {\n",
       "        vertical-align: top;\n",
       "    }\n",
       "\n",
       "    .dataframe thead th {\n",
       "        text-align: right;\n",
       "    }\n",
       "</style>\n",
       "<table border=\"1\" class=\"dataframe\">\n",
       "  <thead>\n",
       "    <tr style=\"text-align: right;\">\n",
       "      <th></th>\n",
       "      <th>x</th>\n",
       "      <th>y</th>\n",
       "      <th>G</th>\n",
       "    </tr>\n",
       "    <tr>\n",
       "      <th>A</th>\n",
       "      <th></th>\n",
       "      <th></th>\n",
       "      <th></th>\n",
       "    </tr>\n",
       "  </thead>\n",
       "  <tbody>\n",
       "    <tr>\n",
       "      <th>1.0</th>\n",
       "      <td>136</td>\n",
       "      <td>120</td>\n",
       "      <td>136</td>\n",
       "    </tr>\n",
       "    <tr>\n",
       "      <th>2.0</th>\n",
       "      <td>211</td>\n",
       "      <td>211</td>\n",
       "      <td>211</td>\n",
       "    </tr>\n",
       "  </tbody>\n",
       "</table>\n",
       "</div>"
      ],
      "text/plain": [
       "       x    y    G\n",
       "A                 \n",
       "1.0  136  120  136\n",
       "2.0  211  211  211"
      ]
     },
     "execution_count": 26,
     "metadata": {},
     "output_type": "execute_result"
    }
   ],
   "source": [
    "## Calculate the number of non missing rows for numberic columns\n",
    "df02.groupby(['A'],dropna=True).count()"
   ]
  },
  {
   "cell_type": "code",
   "execution_count": 27,
   "id": "c19a8ab3",
   "metadata": {},
   "outputs": [
    {
     "data": {
      "text/html": [
       "<div>\n",
       "<style scoped>\n",
       "    .dataframe tbody tr th:only-of-type {\n",
       "        vertical-align: middle;\n",
       "    }\n",
       "\n",
       "    .dataframe tbody tr th {\n",
       "        vertical-align: top;\n",
       "    }\n",
       "\n",
       "    .dataframe thead th {\n",
       "        text-align: right;\n",
       "    }\n",
       "</style>\n",
       "<table border=\"1\" class=\"dataframe\">\n",
       "  <thead>\n",
       "    <tr style=\"text-align: right;\">\n",
       "      <th></th>\n",
       "      <th>A</th>\n",
       "      <th>x_avg</th>\n",
       "      <th>x_std</th>\n",
       "      <th>y_avg</th>\n",
       "      <th>y_std</th>\n",
       "      <th>G_avg</th>\n",
       "      <th>G_std</th>\n",
       "    </tr>\n",
       "  </thead>\n",
       "  <tbody>\n",
       "    <tr>\n",
       "      <th>0</th>\n",
       "      <td>1.0</td>\n",
       "      <td>-0.071118</td>\n",
       "      <td>1.007348</td>\n",
       "      <td>0.097019</td>\n",
       "      <td>1.935619</td>\n",
       "      <td>8.573529</td>\n",
       "      <td>2.671197</td>\n",
       "    </tr>\n",
       "    <tr>\n",
       "      <th>1</th>\n",
       "      <td>2.0</td>\n",
       "      <td>0.029215</td>\n",
       "      <td>1.020511</td>\n",
       "      <td>0.435802</td>\n",
       "      <td>2.025692</td>\n",
       "      <td>5.028436</td>\n",
       "      <td>3.871649</td>\n",
       "    </tr>\n",
       "    <tr>\n",
       "      <th>2</th>\n",
       "      <td>NaN</td>\n",
       "      <td>0.322540</td>\n",
       "      <td>1.024403</td>\n",
       "      <td>-0.115713</td>\n",
       "      <td>0.925330</td>\n",
       "      <td>12.142857</td>\n",
       "      <td>4.661392</td>\n",
       "    </tr>\n",
       "  </tbody>\n",
       "</table>\n",
       "</div>"
      ],
      "text/plain": [
       "     A     x_avg     x_std     y_avg     y_std      G_avg     G_std\n",
       "0  1.0 -0.071118  1.007348  0.097019  1.935619   8.573529  2.671197\n",
       "1  2.0  0.029215  1.020511  0.435802  2.025692   5.028436  3.871649\n",
       "2  NaN  0.322540  1.024403 -0.115713  0.925330  12.142857  4.661392"
      ]
     },
     "execution_count": 27,
     "metadata": {},
     "output_type": "execute_result"
    }
   ],
   "source": [
    "## Calculate the mean and standard deviation of numeric columns\n",
    "df02.groupby(['A'],dropna=False).\\\n",
    "aggregate(x_avg = ('x','mean'),\n",
    "          x_std = ('x','std'),\n",
    "          y_avg = ('y','mean'),\n",
    "          y_std = ('y','std'),\n",
    "          G_avg = ('G','mean'),\n",
    "          G_std = ('G','std')).\\\n",
    "reset_index()"
   ]
  },
  {
   "cell_type": "code",
   "execution_count": 28,
   "id": "6aea868d",
   "metadata": {},
   "outputs": [
    {
     "data": {
      "text/plain": [
       "x_avg    0.070946\n",
       "y_avg    0.239556\n",
       "G_avg    2.506760\n",
       "dtype: float64"
      ]
     },
     "execution_count": 28,
     "metadata": {},
     "output_type": "execute_result"
    }
   ],
   "source": [
    "## Calculate the standard error on the mean of numeric columns\n",
    "df02.groupby(['A'],dropna=True).\\\n",
    "aggregate(x_avg = ('x','mean'),\n",
    "          x_std = ('x','std'),\n",
    "          y_avg = ('y','mean'),\n",
    "          y_std = ('y','std'),\n",
    "          G_avg = ('G','mean'),\n",
    "          G_std = ('G','std')).\\\n",
    "reset_index()[['x_avg','y_avg','G_avg']].std(ddof=1)\n"
   ]
  },
  {
   "cell_type": "code",
   "execution_count": 29,
   "id": "c5bd9f05",
   "metadata": {},
   "outputs": [],
   "source": [
    "## Calculate the number of unique values for non-numeric columns\n",
    "## No non-numeric columns"
   ]
  },
  {
   "cell_type": "markdown",
   "id": "a0644e43",
   "metadata": {},
   "source": [
    "## Problem 03\n",
    "\n",
    "Download `hw05_prob_03.csv` from the Canvas site. Save the CSV file in the same directory as this Jupyter notebook.\n",
    "\n",
    "Read in the `hw05_prob_03.csv` CSV file and assign it to the `df03` object.\n",
    "\n",
    "Explore the `df03` object following **ALL** required actions listed previously.\n",
    "\n",
    "You must add more code cells and markdown cells to complete this problem.\n",
    "\n",
    "#### 03) - SOLUTION"
   ]
  },
  {
   "cell_type": "code",
   "execution_count": 30,
   "id": "19fb6e6e",
   "metadata": {},
   "outputs": [],
   "source": [
    "##\n",
    "df03 = pd.read_csv('./hw05_prob_03.csv')"
   ]
  },
  {
   "cell_type": "code",
   "execution_count": 31,
   "id": "fc5bde99",
   "metadata": {},
   "outputs": [
    {
     "name": "stdout",
     "output_type": "stream",
     "text": [
      "shape:(1407, 3)\n"
     ]
    }
   ],
   "source": [
    "## Display number of rows and columns\n",
    "print(\"shape:\" + str(df03.shape))"
   ]
  },
  {
   "cell_type": "code",
   "execution_count": 32,
   "id": "c80c0cfc",
   "metadata": {},
   "outputs": [
    {
     "name": "stdout",
     "output_type": "stream",
     "text": [
      "<class 'pandas.core.frame.DataFrame'>\n",
      "RangeIndex: 1407 entries, 0 to 1406\n",
      "Data columns (total 3 columns):\n",
      " #   Column  Non-Null Count  Dtype  \n",
      "---  ------  --------------  -----  \n",
      " 0   obs_id  1407 non-null   int64  \n",
      " 1   key     1407 non-null   object \n",
      " 2   value   1379 non-null   float64\n",
      "dtypes: float64(1), int64(1), object(1)\n",
      "memory usage: 33.1+ KB\n",
      "None\n"
     ]
    }
   ],
   "source": [
    "## Display names of the columns and their associated data types\n",
    "print(df03.info())"
   ]
  },
  {
   "cell_type": "code",
   "execution_count": 33,
   "id": "1cad52a2",
   "metadata": {},
   "outputs": [
    {
     "data": {
      "text/plain": [
       "obs_id     201\n",
       "key          7\n",
       "value     1379\n",
       "dtype: int64"
      ]
     },
     "execution_count": 33,
     "metadata": {},
     "output_type": "execute_result"
    }
   ],
   "source": [
    "## Display the number of unique values for each column\n",
    "df03.nunique()"
   ]
  },
  {
   "cell_type": "code",
   "execution_count": 34,
   "id": "78b17a8c",
   "metadata": {},
   "outputs": [
    {
     "data": {
      "text/plain": [
       "obs_id     0\n",
       "key        0\n",
       "value     28\n",
       "dtype: int64"
      ]
     },
     "execution_count": 34,
     "metadata": {},
     "output_type": "execute_result"
    }
   ],
   "source": [
    "## Display the number of missing values for each column\n",
    "df03.isna().sum()"
   ]
  },
  {
   "cell_type": "code",
   "execution_count": 35,
   "id": "90fbdcb5",
   "metadata": {},
   "outputs": [
    {
     "name": "stdout",
     "output_type": "stream",
     "text": [
      "             obs_id   key        value\n",
      "count   1407.000000  1407  1379.000000\n",
      "unique          NaN     7          NaN\n",
      "top             NaN    x1          NaN\n",
      "freq            NaN   201          NaN\n",
      "mean     101.000000   NaN    -2.222709\n",
      "std       58.043614   NaN     4.465882\n",
      "min        1.000000   NaN   -25.362015\n",
      "25%       51.000000   NaN    -2.683234\n",
      "50%      101.000000   NaN    -0.798222\n",
      "75%      151.000000   NaN     0.250730\n",
      "max      201.000000   NaN     4.209716\n"
     ]
    }
   ],
   "source": [
    "## Display summary statistics appropriate for the data type for each column\n",
    "print(df03.describe(include='all'))"
   ]
  },
  {
   "cell_type": "code",
   "execution_count": 36,
   "id": "cdb82b32",
   "metadata": {},
   "outputs": [
    {
     "data": {
      "text/plain": [
       "x1    201\n",
       "x2    201\n",
       "x3    201\n",
       "x4    201\n",
       "x5    201\n",
       "x6    201\n",
       "x7    201\n",
       "Name: key, dtype: int64"
      ]
     },
     "execution_count": 36,
     "metadata": {},
     "output_type": "execute_result"
    }
   ],
   "source": [
    "## Count the number of rows associated with each unique value for Non-numberic columns and Numeric columns with low number of unique values\n",
    "df03.key.value_counts(dropna=False)"
   ]
  },
  {
   "cell_type": "code",
   "execution_count": 37,
   "id": "d7b22e37",
   "metadata": {},
   "outputs": [
    {
     "data": {
      "text/html": [
       "<div>\n",
       "<style scoped>\n",
       "    .dataframe tbody tr th:only-of-type {\n",
       "        vertical-align: middle;\n",
       "    }\n",
       "\n",
       "    .dataframe tbody tr th {\n",
       "        vertical-align: top;\n",
       "    }\n",
       "\n",
       "    .dataframe thead th {\n",
       "        text-align: right;\n",
       "    }\n",
       "</style>\n",
       "<table border=\"1\" class=\"dataframe\">\n",
       "  <thead>\n",
       "    <tr style=\"text-align: right;\">\n",
       "      <th></th>\n",
       "      <th>obs_id</th>\n",
       "      <th>value</th>\n",
       "    </tr>\n",
       "    <tr>\n",
       "      <th>key</th>\n",
       "      <th></th>\n",
       "      <th></th>\n",
       "    </tr>\n",
       "  </thead>\n",
       "  <tbody>\n",
       "    <tr>\n",
       "      <th>x1</th>\n",
       "      <td>201</td>\n",
       "      <td>201</td>\n",
       "    </tr>\n",
       "    <tr>\n",
       "      <th>x2</th>\n",
       "      <td>201</td>\n",
       "      <td>201</td>\n",
       "    </tr>\n",
       "    <tr>\n",
       "      <th>x3</th>\n",
       "      <td>201</td>\n",
       "      <td>197</td>\n",
       "    </tr>\n",
       "    <tr>\n",
       "      <th>x4</th>\n",
       "      <td>201</td>\n",
       "      <td>201</td>\n",
       "    </tr>\n",
       "    <tr>\n",
       "      <th>x5</th>\n",
       "      <td>201</td>\n",
       "      <td>201</td>\n",
       "    </tr>\n",
       "    <tr>\n",
       "      <th>x6</th>\n",
       "      <td>201</td>\n",
       "      <td>197</td>\n",
       "    </tr>\n",
       "    <tr>\n",
       "      <th>x7</th>\n",
       "      <td>201</td>\n",
       "      <td>181</td>\n",
       "    </tr>\n",
       "  </tbody>\n",
       "</table>\n",
       "</div>"
      ],
      "text/plain": [
       "     obs_id  value\n",
       "key               \n",
       "x1      201    201\n",
       "x2      201    201\n",
       "x3      201    197\n",
       "x4      201    201\n",
       "x5      201    201\n",
       "x6      201    197\n",
       "x7      201    181"
      ]
     },
     "execution_count": 37,
     "metadata": {},
     "output_type": "execute_result"
    }
   ],
   "source": [
    "## SPLIT-APPLY-COMBINE Calculate the total number of rows for numeric columns\n",
    "df03.groupby(['key'],dropna=False).count()"
   ]
  },
  {
   "cell_type": "code",
   "execution_count": 38,
   "id": "2c7d1e08",
   "metadata": {},
   "outputs": [
    {
     "data": {
      "text/html": [
       "<div>\n",
       "<style scoped>\n",
       "    .dataframe tbody tr th:only-of-type {\n",
       "        vertical-align: middle;\n",
       "    }\n",
       "\n",
       "    .dataframe tbody tr th {\n",
       "        vertical-align: top;\n",
       "    }\n",
       "\n",
       "    .dataframe thead th {\n",
       "        text-align: right;\n",
       "    }\n",
       "</style>\n",
       "<table border=\"1\" class=\"dataframe\">\n",
       "  <thead>\n",
       "    <tr style=\"text-align: right;\">\n",
       "      <th></th>\n",
       "      <th>obs_id</th>\n",
       "      <th>value</th>\n",
       "    </tr>\n",
       "    <tr>\n",
       "      <th>key</th>\n",
       "      <th></th>\n",
       "      <th></th>\n",
       "    </tr>\n",
       "  </thead>\n",
       "  <tbody>\n",
       "    <tr>\n",
       "      <th>x1</th>\n",
       "      <td>201</td>\n",
       "      <td>201</td>\n",
       "    </tr>\n",
       "    <tr>\n",
       "      <th>x2</th>\n",
       "      <td>201</td>\n",
       "      <td>201</td>\n",
       "    </tr>\n",
       "    <tr>\n",
       "      <th>x3</th>\n",
       "      <td>201</td>\n",
       "      <td>197</td>\n",
       "    </tr>\n",
       "    <tr>\n",
       "      <th>x4</th>\n",
       "      <td>201</td>\n",
       "      <td>201</td>\n",
       "    </tr>\n",
       "    <tr>\n",
       "      <th>x5</th>\n",
       "      <td>201</td>\n",
       "      <td>201</td>\n",
       "    </tr>\n",
       "    <tr>\n",
       "      <th>x6</th>\n",
       "      <td>201</td>\n",
       "      <td>197</td>\n",
       "    </tr>\n",
       "    <tr>\n",
       "      <th>x7</th>\n",
       "      <td>201</td>\n",
       "      <td>181</td>\n",
       "    </tr>\n",
       "  </tbody>\n",
       "</table>\n",
       "</div>"
      ],
      "text/plain": [
       "     obs_id  value\n",
       "key               \n",
       "x1      201    201\n",
       "x2      201    201\n",
       "x3      201    197\n",
       "x4      201    201\n",
       "x5      201    201\n",
       "x6      201    197\n",
       "x7      201    181"
      ]
     },
     "execution_count": 38,
     "metadata": {},
     "output_type": "execute_result"
    }
   ],
   "source": [
    "## Calculate the number of non missing rows for numberic columns\n",
    "df03.groupby(['key'],dropna=True).count()"
   ]
  },
  {
   "cell_type": "code",
   "execution_count": 39,
   "id": "f7b931f6",
   "metadata": {},
   "outputs": [
    {
     "data": {
      "text/html": [
       "<div>\n",
       "<style scoped>\n",
       "    .dataframe tbody tr th:only-of-type {\n",
       "        vertical-align: middle;\n",
       "    }\n",
       "\n",
       "    .dataframe tbody tr th {\n",
       "        vertical-align: top;\n",
       "    }\n",
       "\n",
       "    .dataframe thead th {\n",
       "        text-align: right;\n",
       "    }\n",
       "</style>\n",
       "<table border=\"1\" class=\"dataframe\">\n",
       "  <thead>\n",
       "    <tr style=\"text-align: right;\">\n",
       "      <th></th>\n",
       "      <th>key</th>\n",
       "      <th>obs_id_avg</th>\n",
       "      <th>obs_id_std</th>\n",
       "      <th>value_avg</th>\n",
       "      <th>value_std</th>\n",
       "    </tr>\n",
       "  </thead>\n",
       "  <tbody>\n",
       "    <tr>\n",
       "      <th>0</th>\n",
       "      <td>x1</td>\n",
       "      <td>101.0</td>\n",
       "      <td>58.167861</td>\n",
       "      <td>-0.160787</td>\n",
       "      <td>1.735903</td>\n",
       "    </tr>\n",
       "    <tr>\n",
       "      <th>1</th>\n",
       "      <td>x2</td>\n",
       "      <td>101.0</td>\n",
       "      <td>58.167861</td>\n",
       "      <td>0.100830</td>\n",
       "      <td>0.095558</td>\n",
       "    </tr>\n",
       "    <tr>\n",
       "      <th>2</th>\n",
       "      <td>x3</td>\n",
       "      <td>101.0</td>\n",
       "      <td>58.167861</td>\n",
       "      <td>-0.050132</td>\n",
       "      <td>1.544633</td>\n",
       "    </tr>\n",
       "    <tr>\n",
       "      <th>3</th>\n",
       "      <td>x4</td>\n",
       "      <td>101.0</td>\n",
       "      <td>58.167861</td>\n",
       "      <td>-10.187219</td>\n",
       "      <td>5.079706</td>\n",
       "    </tr>\n",
       "    <tr>\n",
       "      <th>4</th>\n",
       "      <td>x5</td>\n",
       "      <td>101.0</td>\n",
       "      <td>58.167861</td>\n",
       "      <td>1.061053</td>\n",
       "      <td>0.935690</td>\n",
       "    </tr>\n",
       "    <tr>\n",
       "      <th>5</th>\n",
       "      <td>x6</td>\n",
       "      <td>101.0</td>\n",
       "      <td>58.167861</td>\n",
       "      <td>-1.463831</td>\n",
       "      <td>0.591750</td>\n",
       "    </tr>\n",
       "    <tr>\n",
       "      <th>6</th>\n",
       "      <td>x7</td>\n",
       "      <td>101.0</td>\n",
       "      <td>58.167861</td>\n",
       "      <td>-5.085382</td>\n",
       "      <td>3.002404</td>\n",
       "    </tr>\n",
       "  </tbody>\n",
       "</table>\n",
       "</div>"
      ],
      "text/plain": [
       "  key  obs_id_avg  obs_id_std  value_avg  value_std\n",
       "0  x1       101.0   58.167861  -0.160787   1.735903\n",
       "1  x2       101.0   58.167861   0.100830   0.095558\n",
       "2  x3       101.0   58.167861  -0.050132   1.544633\n",
       "3  x4       101.0   58.167861 -10.187219   5.079706\n",
       "4  x5       101.0   58.167861   1.061053   0.935690\n",
       "5  x6       101.0   58.167861  -1.463831   0.591750\n",
       "6  x7       101.0   58.167861  -5.085382   3.002404"
      ]
     },
     "execution_count": 39,
     "metadata": {},
     "output_type": "execute_result"
    }
   ],
   "source": [
    "## Calculate the mean and standard deviation of numeric columns\n",
    "df03.groupby(['key'],dropna=False).\\\n",
    "aggregate(obs_id_avg = ('obs_id','mean'),\n",
    "          obs_id_std = ('obs_id','std'),\n",
    "          value_avg = ('value','mean'),\n",
    "            value_std = ('value','std')).\\\n",
    "reset_index()"
   ]
  },
  {
   "cell_type": "code",
   "execution_count": 40,
   "id": "b7569992",
   "metadata": {},
   "outputs": [
    {
     "data": {
      "text/plain": [
       "obs_id_avg    0.000000\n",
       "value_avg     4.028036\n",
       "dtype: float64"
      ]
     },
     "execution_count": 40,
     "metadata": {},
     "output_type": "execute_result"
    }
   ],
   "source": [
    "## Calculate the standard error on the mean of numeric columns\n",
    "df03.groupby(['key'],dropna=True).\\\n",
    "aggregate(obs_id_avg = ('obs_id','mean'),\n",
    "          obs_id_std = ('obs_id','std'),\n",
    "          value_avg = ('value','mean'),\n",
    "            value_std = ('value','std')).\\\n",
    "reset_index()[['obs_id_avg','value_avg']].std(ddof=1)"
   ]
  },
  {
   "cell_type": "code",
   "execution_count": 41,
   "id": "45670368",
   "metadata": {},
   "outputs": [
    {
     "data": {
      "text/html": [
       "<div>\n",
       "<style scoped>\n",
       "    .dataframe tbody tr th:only-of-type {\n",
       "        vertical-align: middle;\n",
       "    }\n",
       "\n",
       "    .dataframe tbody tr th {\n",
       "        vertical-align: top;\n",
       "    }\n",
       "\n",
       "    .dataframe thead th {\n",
       "        text-align: right;\n",
       "    }\n",
       "</style>\n",
       "<table border=\"1\" class=\"dataframe\">\n",
       "  <thead>\n",
       "    <tr style=\"text-align: right;\">\n",
       "      <th></th>\n",
       "      <th>key</th>\n",
       "      <th>key_nunique</th>\n",
       "    </tr>\n",
       "  </thead>\n",
       "  <tbody>\n",
       "    <tr>\n",
       "      <th>0</th>\n",
       "      <td>x1</td>\n",
       "      <td>1</td>\n",
       "    </tr>\n",
       "    <tr>\n",
       "      <th>1</th>\n",
       "      <td>x2</td>\n",
       "      <td>1</td>\n",
       "    </tr>\n",
       "    <tr>\n",
       "      <th>2</th>\n",
       "      <td>x3</td>\n",
       "      <td>1</td>\n",
       "    </tr>\n",
       "    <tr>\n",
       "      <th>3</th>\n",
       "      <td>x4</td>\n",
       "      <td>1</td>\n",
       "    </tr>\n",
       "    <tr>\n",
       "      <th>4</th>\n",
       "      <td>x5</td>\n",
       "      <td>1</td>\n",
       "    </tr>\n",
       "    <tr>\n",
       "      <th>5</th>\n",
       "      <td>x6</td>\n",
       "      <td>1</td>\n",
       "    </tr>\n",
       "    <tr>\n",
       "      <th>6</th>\n",
       "      <td>x7</td>\n",
       "      <td>1</td>\n",
       "    </tr>\n",
       "  </tbody>\n",
       "</table>\n",
       "</div>"
      ],
      "text/plain": [
       "  key  key_nunique\n",
       "0  x1            1\n",
       "1  x2            1\n",
       "2  x3            1\n",
       "3  x4            1\n",
       "4  x5            1\n",
       "5  x6            1\n",
       "6  x7            1"
      ]
     },
     "execution_count": 41,
     "metadata": {},
     "output_type": "execute_result"
    }
   ],
   "source": [
    "## Calculate the number of unique values for non-numeric columns\n",
    "df03.groupby(['key'],dropna=False).\\\n",
    "aggregate(key_nunique = ('key','nunique')).\\\n",
    "reset_index()"
   ]
  },
  {
   "cell_type": "markdown",
   "id": "c7d6aa02",
   "metadata": {},
   "source": [
    "## Problem 04\n",
    "\n",
    "You must download the data associated with one of the Final Projects from the Canvas site. Save the file(s) in the same directory as this Jupyter notebook.\n",
    "\n",
    "Read in the data associated with one of the Final Projects. You must perform the ESSENTIAL activities listed previously.\n",
    "\n",
    "You do **NOT** need to SPLIT-APPLY-COMBINE to explore across groups for this assignment.\n",
    "\n",
    "#### 04) - SOLUTION"
   ]
  },
  {
   "cell_type": "code",
   "execution_count": null,
   "id": "ffbb1a74",
   "metadata": {},
   "outputs": [],
   "source": []
  }
 ],
 "metadata": {
  "kernelspec": {
   "display_name": "Python 3 (ipykernel)",
   "language": "python",
   "name": "python3"
  },
  "language_info": {
   "codemirror_mode": {
    "name": "ipython",
    "version": 3
   },
   "file_extension": ".py",
   "mimetype": "text/x-python",
   "name": "python",
   "nbconvert_exporter": "python",
   "pygments_lexer": "ipython3",
   "version": "3.9.13"
  }
 },
 "nbformat": 4,
 "nbformat_minor": 5
}
