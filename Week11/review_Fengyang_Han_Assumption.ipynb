{
 "cells": [
  {
   "cell_type": "markdown",
   "metadata": {},
   "source": [
    "# Brief Summary\n",
    "\n",
    "## FENGYANG HAN\n",
    "\n",
    "\n",
    "In linear regression, it is assumed that the residuals are normally distributed, which is particularly crucial when dealing with large sample sizes.\n",
    "\n",
    "The residuals are defined as follow: $$\\epsilon_i = y_i - \\hat{y_i}$$\n",
    "\n",
    "$$\\epsilon_i \\sim N(0, \\sigma^2)$$\n",
    "\n",
    "The residuals are independent of each other.\n",
    "\n",
    "It should also be noted that normal distribution works well for large sample sizes, but it is not a good assumption for small sample sizes."
   ]
  },
  {
   "cell_type": "markdown",
   "metadata": {},
   "source": [
    "For the binary classification problem, we assume that the data is linearly separable. In other words, there exists a hyperplane that can separate the data into two classes. \n",
    "\n",
    "The hyperplane is defined as follow: $$\\beta_0 + \\beta_1 x_1 + \\beta_2 x_2 + ... + \\beta_p x_p = 0$$\n",
    "\n",
    "Therefore, the probability of a data point belonging to a certain class is defined as follow: \n",
    "$$P(y_i = 1 | x_i) = \\frac{1}{1 + e^{-(\\beta_0 + \\beta_1 x_1 + \\beta_2 x_2 + ... + \\beta_p x_p)}}$$\n",
    "$$P(y_i = 0 | x_i) = 1 - P(y_i = 1 | x_i)$$\n",
    "\n",
    "This binary classification also works well for large sample sizes."
   ]
  },
  {
   "cell_type": "markdown",
   "metadata": {},
   "source": [
    "## Review Questions\n",
    "Question 1 (TRUE/FALSE):\n",
    "In linear regression,  it is particularly crucial when dealing with large sample sizes, if it is assumed that the residuals are normally distributed."
   ]
  },
  {
   "cell_type": "markdown",
   "metadata": {},
   "source": [
    "False\n",
    "\n",
    "it is particularly crucial when dealing with small sample sizes. Since accroding to the central limit theorem, the residuals are normally distributed when the sample size is large."
   ]
  },
  {
   "cell_type": "markdown",
   "metadata": {},
   "source": [
    "Question 2\n",
    "Which of the following are assumptions specific to logistic regression, a type of binary classification model?\n",
    "- The relationship between independent and dependent variables is linear.\n",
    "- The dependent variable is binary.\n",
    "- The log odds of the outcome is a linear combination of the independent variables.\n",
    "- Observations are independent of each other.\n",
    "- None of above\n"
   ]
  },
  {
   "cell_type": "markdown",
   "metadata": {},
   "source": [
    "B, D, E\n",
    "\n",
    "We have continuous input and binary output, so A is incorrect and B is correct.\n",
    "\n",
    "The log odds of the outcome is a linear combination of the independent variables, so C is correct.\n",
    "\n",
    "The observations are independent of each other, so D is correct."
   ]
  }
 ],
 "metadata": {
  "language_info": {
   "name": "python"
  }
 },
 "nbformat": 4,
 "nbformat_minor": 2
}
