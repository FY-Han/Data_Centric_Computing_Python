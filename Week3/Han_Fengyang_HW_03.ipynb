{
 "cells": [
  {
   "cell_type": "markdown",
   "id": "0452667f",
   "metadata": {},
   "source": [
    "## CMPINF 2100: Homework 03\n",
    "\n",
    "### Fengyang Han\n",
    "\n",
    "## Assigned: Tuesday of Week 03 at 11:00PM\n",
    "\n",
    "## DUE: Tuesday of Week 04 at 11:59PM\n",
    "\n",
    "You will execute several important data analysis operations in this assignment. You will count using list methods and organize your results via iteration techniques into dictionaries. You will also practice splitting and summarizing data using NumPy arrays. This assignment therefore lets you practice important data organization techniques and data summary actions. We will use all of these operations later in the semester when we learn how to explore, summarize, and model data.  \n",
    "\n",
    "You may add as many code and markdown cells as you see fit to answer the questions.\n",
    "\n",
    "### Collaborators\n",
    "\n",
    "Stacey Wang\n",
    "\n",
    "## Preliminaries\n",
    "\n",
    "The first few problems are associated with the Pittsburgh Pirates, the local Major League Baseball (MLB) team in Pittsburgh, PA. The MLB consists of 30 baseball teams. A single game is between 2 teams, a Home team and an Away team. The two teams usually play 3 to 4 games in a row, before changing to different opponents. The consecutive games between the same two teams are referred to as a \"series\" in baseball nomenclature.\n",
    "\n",
    "You will work with a list where each element provides the name of the team the Pirates played against. Specifically, seven series of games are created and assigned to the `opponents` object in the cell below. The object is created to be easy to visually confirm the number of games within each series against an opposing team. Note that the `\\` character continues the line of code across multiple lines."
   ]
  },
  {
   "cell_type": "code",
   "execution_count": 4,
   "id": "b6c006c9",
   "metadata": {},
   "outputs": [],
   "source": [
    "opponents = 3 * ['Cardinals'] + 3 * ['Brewers'] \\\n",
    "+ 3 * ['Cubs'] + 4 * ['Twins'] \\\n",
    "+ 3 * ['Tigers'] + 3 * ['Cardinals'] + 3 * ['Reds']"
   ]
  },
  {
   "cell_type": "markdown",
   "id": "0c761ee1",
   "metadata": {},
   "source": [
    "The `opponents` object is printed for you below."
   ]
  },
  {
   "cell_type": "code",
   "execution_count": 5,
   "id": "f950d119",
   "metadata": {},
   "outputs": [
    {
     "name": "stdout",
     "output_type": "stream",
     "text": [
      "['Cardinals', 'Cardinals', 'Cardinals', 'Brewers', 'Brewers', 'Brewers', 'Cubs', 'Cubs', 'Cubs', 'Twins', 'Twins', 'Twins', 'Twins', 'Tigers', 'Tigers', 'Tigers', 'Cardinals', 'Cardinals', 'Cardinals', 'Reds', 'Reds', 'Reds']\n"
     ]
    }
   ],
   "source": [
    "print( opponents )"
   ]
  },
  {
   "cell_type": "markdown",
   "id": "93de2f2b",
   "metadata": {},
   "source": [
    "## Problem 01\n",
    "\n",
    "Let's begin by focusing on the `opponents` object itself.\n",
    "\n",
    "### 1a) - QUESTION\n",
    "\n",
    "Print the `opponents` object data type to the screen.\n",
    "\n",
    "#### 1a) - SOLUTION"
   ]
  },
  {
   "cell_type": "code",
   "execution_count": 6,
   "id": "e06455df",
   "metadata": {},
   "outputs": [
    {
     "name": "stdout",
     "output_type": "stream",
     "text": [
      "<class 'list'>\n"
     ]
    }
   ],
   "source": [
    "###\n",
    "print(type(opponents))"
   ]
  },
  {
   "cell_type": "markdown",
   "id": "e1ea65dc",
   "metadata": {},
   "source": [
    "### 1b) - QUESTION\n",
    "\n",
    "Each element in the `opponents` object corresponds to a game. How many games did the Pirates play over the seven series contained within the `opponents` object? Print you rresult to the screen.\n",
    "\n",
    "#### 1b) - SOLUTION"
   ]
  },
  {
   "cell_type": "code",
   "execution_count": 7,
   "id": "c66d9fbf",
   "metadata": {},
   "outputs": [
    {
     "name": "stdout",
     "output_type": "stream",
     "text": [
      "22\n"
     ]
    }
   ],
   "source": [
    "###\n",
    "print(len(opponents))"
   ]
  },
  {
   "cell_type": "markdown",
   "id": "5d79feee",
   "metadata": {},
   "source": [
    "### 1c) - QUESTION\n",
    "\n",
    "Determine the **UNIQUE** or **DISTINCT** teams the Pirates played against within `opponents`. Assign the result to the `unique_teams` variable. Print the names of the unique teams to the screen.\n",
    "\n",
    "#### 1c) - SOLUTION ?"
   ]
  },
  {
   "cell_type": "code",
   "execution_count": 19,
   "id": "1a23d0c1",
   "metadata": {},
   "outputs": [
    {
     "name": "stdout",
     "output_type": "stream",
     "text": [
      "{'Cardinals', 'Twins', 'Reds', 'Tigers', 'Brewers', 'Cubs'}\n",
      "<class 'set'>\n"
     ]
    }
   ],
   "source": [
    "###\n",
    "# import numpy as np\n",
    "# import pandas as pd\n",
    "\n",
    "# unique_teams = np.unique(opponents)\n",
    "# print(unique_teams)\n",
    "# print(type(unique_teams))\n",
    "\n",
    "# unique_teams = pd.Series(opponents).unique()\n",
    "# print(unique_teams)\n",
    "# print(type(unique_teams))\n",
    "\n",
    "unique_teams = set(opponents)\n",
    "print(unique_teams)"
   ]
  },
  {
   "cell_type": "markdown",
   "id": "fdc5e0f2",
   "metadata": {},
   "source": [
    "### 1d) - QUESTION\n",
    "\n",
    "What is the data type associated with the `unique_teams` object? As a hint, your `unique_teams` object must be a DIFFERENT data type from `opponents`. \n",
    "\n",
    "What makes the `unique_teams` data type \"special\" or different from the `opponents` data type? Type your response by adding a Markdown cell below.\n",
    "\n",
    "#### 1d) - SOLUTION"
   ]
  },
  {
   "cell_type": "code",
   "execution_count": 21,
   "id": "549c5d75",
   "metadata": {},
   "outputs": [
    {
     "name": "stdout",
     "output_type": "stream",
     "text": [
      "<class 'set'>\n"
     ]
    }
   ],
   "source": [
    "###\n",
    "print(type(unique_teams))"
   ]
  },
  {
   "cell_type": "markdown",
   "id": "83409998",
   "metadata": {},
   "source": [
    "The unique_teams is a set, which is like a dictionary type do not use KEY. Every element in it is unique."
   ]
  },
  {
   "cell_type": "markdown",
   "id": "53f034b3",
   "metadata": {},
   "source": [
    "### 1e) - QUESTION\n",
    "\n",
    "Convert the `unique_teams` object to a list and assign the result to the `teams_list` object.\n",
    "\n",
    "Print the `teams_list` object to the screen.\n",
    "\n",
    "#### 1e) - SOLUTION"
   ]
  },
  {
   "cell_type": "code",
   "execution_count": 23,
   "id": "15eae011",
   "metadata": {},
   "outputs": [
    {
     "name": "stdout",
     "output_type": "stream",
     "text": [
      "['Cardinals', 'Twins', 'Reds', 'Tigers', 'Brewers', 'Cubs']\n",
      "<class 'list'>\n"
     ]
    }
   ],
   "source": [
    "###\n",
    "teams_list = list(unique_teams)\n",
    "print(teams_list)\n",
    "print(type(teams_list))"
   ]
  },
  {
   "cell_type": "markdown",
   "id": "48bf3402",
   "metadata": {},
   "source": [
    "### 1f) - QUESTION\n",
    "\n",
    "Sort the `teams_list` object and print the sorted list to the screen.\n",
    "\n",
    "Is the ordering the same as what was displayed in the previous problem?\n",
    "\n",
    "#### 1f) - SOLUTION"
   ]
  },
  {
   "cell_type": "code",
   "execution_count": 27,
   "id": "aea9362b",
   "metadata": {},
   "outputs": [
    {
     "name": "stdout",
     "output_type": "stream",
     "text": [
      "['Brewers', 'Cardinals', 'Cubs', 'Reds', 'Tigers', 'Twins']\n"
     ]
    }
   ],
   "source": [
    "###\n",
    "teams_list.sort()\n",
    "print(teams_list)"
   ]
  },
  {
   "cell_type": "markdown",
   "id": "25782c7e",
   "metadata": {},
   "source": [
    "It is not in the same order. The sorted function sort the elements in an alphabetical order."
   ]
  },
  {
   "cell_type": "markdown",
   "id": "b3aad908",
   "metadata": {},
   "source": [
    "## Problem 02\n",
    "\n",
    "Now that you know the unique teams the Pirates played against, it is time to start counting!\n",
    "\n",
    "### 2a) - QUESTION\n",
    "\n",
    "Let's start by counting a single team. Count the number of times the Pirates played the Cardinals. Print the result to the screen.\n",
    "\n",
    "*HINT*: You can count by hand to make sure your result is correct.\n",
    "\n",
    "#### 2a) - SOLUTION"
   ]
  },
  {
   "cell_type": "code",
   "execution_count": 30,
   "id": "ebee99dc",
   "metadata": {},
   "outputs": [
    {
     "name": "stdout",
     "output_type": "stream",
     "text": [
      "6\n"
     ]
    }
   ],
   "source": [
    "###\n",
    "\n",
    "# Cardinals_Cnt = 0\n",
    "\n",
    "# for i in opponents:\n",
    "#     if i == \"Cardinals\":\n",
    "#         Cardinals_Cnt += 1\n",
    "\n",
    "# print(Cardinals_Cnt)\n",
    "\n",
    "print(opponents.count(\"Cardinals\"))\n"
   ]
  },
  {
   "cell_type": "markdown",
   "id": "cd3f4780",
   "metadata": {},
   "source": [
    "### 2b) - QUESTION\n",
    "\n",
    "You counted the number of games against a single team in 2a). However, the Pirates played against more than just 1 team within the `opponents` object. As a reminder, all unique teams are contained with the `teams_list` object. \n",
    "\n",
    "You must now count the number of games the Pirates played against each team in `teams_list`. You **must** assign the result to a list named `games_per_team_list`. You **must** add elements to the `games_per_team_list` list by using a for-loop and the `.append()` method.\n",
    "\n",
    "Once completed, print the `games_per_team_list` object to the screen.\n",
    "\n",
    "#### 2b) - SOLUTION"
   ]
  },
  {
   "cell_type": "code",
   "execution_count": 31,
   "id": "8fd9df47",
   "metadata": {},
   "outputs": [
    {
     "name": "stdout",
     "output_type": "stream",
     "text": [
      "[3, 6, 3, 3, 3, 4]\n"
     ]
    }
   ],
   "source": [
    "###\n",
    "# games_per_team_list = []\n",
    "\n",
    "# for team in teams_list:\n",
    "#     cnt = 0\n",
    "\n",
    "#     for i in opponents:\n",
    "#         if i == team:\n",
    "#             cnt += 1\n",
    "    \n",
    "#     games_per_team_list.append(cnt)\n",
    "\n",
    "# print(games_per_team_list)\n",
    "\n",
    "games_per_team_list = []\n",
    "\n",
    "for team in teams_list:\n",
    "    games_per_team_list.append(opponents.count(team))\n",
    "print(games_per_team_list)"
   ]
  },
  {
   "cell_type": "markdown",
   "id": "01edc022",
   "metadata": {},
   "source": [
    "### 2c) - QUESTION\n",
    "\n",
    "There is nothing incorrect about using for-loops, but we learned about a more streamlined approach to iteratively applying operations. You must repeat counting operation but this time using a **list comprehension**. Assign the result to the `games_per_team_comp` object. Once completed, print your result to the screen.\n",
    "\n",
    "#### 2c) - SOLUTION"
   ]
  },
  {
   "cell_type": "code",
   "execution_count": 33,
   "id": "6aa65221",
   "metadata": {},
   "outputs": [
    {
     "name": "stdout",
     "output_type": "stream",
     "text": [
      "[3, 6, 3, 3, 3, 4]\n"
     ]
    }
   ],
   "source": [
    "###\n",
    "games_per_team_comp = [ opponents.count(team) for team in teams_list ]\n",
    "print(games_per_team_comp)"
   ]
  },
  {
   "cell_type": "markdown",
   "id": "5840561c",
   "metadata": {},
   "source": [
    "### 2d) - QUESTION\n",
    "\n",
    "Use a conditional test to confirm that `games_per_team_comp` and `games_per_team_list` contain the same values.\n",
    "\n",
    "Print the result of the conditional test to the screen.\n",
    "\n",
    "#### 2d) - SOLUTION"
   ]
  },
  {
   "cell_type": "code",
   "execution_count": 36,
   "id": "53f94f1e",
   "metadata": {},
   "outputs": [
    {
     "name": "stdout",
     "output_type": "stream",
     "text": [
      "True\n"
     ]
    }
   ],
   "source": [
    "###\n",
    "\n",
    "if (games_per_team_comp == games_per_team_list):\n",
    "    print(True)\n",
    "else:\n",
    "    print(False)"
   ]
  },
  {
   "cell_type": "markdown",
   "id": "11716a92",
   "metadata": {},
   "source": [
    "## Problem 03\n",
    "\n",
    "You organized the counts for each team into a list. Great! But, do you know which value (Team) is associated with which count? Unfortunately, you have run into a limitation of the Python list! It can only store values. Lists cannot store any other contextual information about the values! It would be great if the counts **AND** the Team name associated with the count could be stored together! That's exactly what the Python dictionary allows us to do!\n",
    "\n",
    "You will repeat the counting operation from the previous problem, but organize the results into a Dictionary.\n",
    "\n",
    "### 3a) - QUESTION\n",
    "\n",
    "However, before working with Dictionaries let's pause and consider the differences between the data types.\n",
    "\n",
    "Describe a few differences between Python lists and Dictionaries in a Markdown cell below.\n",
    "\n",
    "#### 3a) - SOLUTION\n",
    "\n",
    "Add your Markdown cell below."
   ]
  },
  {
   "cell_type": "markdown",
   "id": "99fb8d8d",
   "metadata": {},
   "source": [
    "Lists: \n",
    "-   ordered elements with index\n",
    "-   retrieve elements via index\n",
    "-   elements can be same\n",
    "\n",
    "Dictionaries:\n",
    "-   unordered key-value pairs\n",
    "-   retrieve itmes via keys\n",
    "-   keys are unique"
   ]
  },
  {
   "cell_type": "markdown",
   "id": "82bf237f",
   "metadata": {},
   "source": [
    "### 3b) - QUESTION\n",
    "\n",
    "Let's now count and organize the results within a Dictionary!\n",
    "\n",
    "Create a Dictionary with ITEMS corresponds to the Team as the KEY and the count (number of games played against the Pirates) as the VALUE. You **must** fill the ITEMS in the Dictionary using a for-loop. You are allowed to use the `teams_list` and `games_per_team_list` (or `games_per_team_comp`) objects you created in the previous problems to help with this question. \n",
    "\n",
    "Assign the result to the `games_per_team_dict` dictionary.\n",
    "\n",
    "Print the `games_per_team_dict` object to the screen, once it has been created.\n",
    "\n",
    "#### 3b) - SOLUTION"
   ]
  },
  {
   "cell_type": "code",
   "execution_count": 40,
   "id": "bc152d6f",
   "metadata": {},
   "outputs": [
    {
     "name": "stdout",
     "output_type": "stream",
     "text": [
      "{'Brewers': 3, 'Cardinals': 6, 'Cubs': 3, 'Reds': 3, 'Tigers': 3, 'Twins': 4}\n",
      "{'Brewers': 3, 'Cardinals': 6, 'Cubs': 3, 'Reds': 3, 'Tigers': 3, 'Twins': 4}\n"
     ]
    }
   ],
   "source": [
    "###\n",
    "\n",
    "games_per_team_dict = {}\n",
    "for team in teams_list:\n",
    "    games_per_team_dict[team] = opponents.count(team)\n",
    "print(games_per_team_dict)\n",
    "\n",
    "\n",
    "games_per_team_dict = {}\n",
    "for i in range(len(teams_list)):\n",
    "    games_per_team_dict[teams_list[i]] = games_per_team_comp[i]\n",
    "print(games_per_team_dict)"
   ]
  },
  {
   "cell_type": "markdown",
   "id": "6d8bb3d6",
   "metadata": {},
   "source": [
    "### 3c) - QUESTION\n",
    "\n",
    "The list comprehension provides a more streamlined way of populating values within lists. The **dictionary comprehension** gives a similar streamlined approach for storing results in Dictionaries! You must now use a dictionary comprehension to programmatically create the dictionary `games_per_team_dict_comp` which stores the count as the VALUE and the team as the KEY. You may use the `teams_list` and `games_per_team_list` to help with this question.\n",
    "\n",
    "Print the `games_per_team_dict_comp` object to the screen, \n",
    "\n",
    "*HINT*: The `zip()` function will help you here...\n",
    "\n",
    "#### 3c) - SOLUTION"
   ]
  },
  {
   "cell_type": "code",
   "execution_count": 45,
   "id": "e7f19328",
   "metadata": {},
   "outputs": [
    {
     "name": "stdout",
     "output_type": "stream",
     "text": [
      "{'Brewers': 3, 'Cardinals': 6, 'Cubs': 3, 'Reds': 3, 'Tigers': 3, 'Twins': 4}\n"
     ]
    }
   ],
   "source": [
    "###\n",
    "games_per_team_dict_comp = dict(zip(teams_list,games_per_team_list))\n",
    "\n",
    "print(games_per_team_dict_comp)"
   ]
  },
  {
   "cell_type": "markdown",
   "id": "96b330da",
   "metadata": {},
   "source": [
    "### 3d) - QUESTION\n",
    "\n",
    "Use a conditional test to confirm that `games_per_team_dict` and `games_per_team_dict_comp` contain the same ITEMS.\n",
    "\n",
    "Print the result of the conditional test to the screen.\n",
    "\n",
    "#### 3d) - SOLUTION"
   ]
  },
  {
   "cell_type": "code",
   "execution_count": 60,
   "id": "e5300f2d",
   "metadata": {},
   "outputs": [
    {
     "name": "stdout",
     "output_type": "stream",
     "text": [
      "True\n"
     ]
    }
   ],
   "source": [
    "###\n",
    "if (games_per_team_dict == games_per_team_dict_comp):\n",
    "    print(True)"
   ]
  },
  {
   "cell_type": "markdown",
   "id": "ac9f5c93",
   "metadata": {},
   "source": [
    "## Problem 04\n",
    "\n",
    "Counting is very important! We will return to counting in a few weeks. The remainder of the assignment introduces NumPy arrays.\n",
    "\n",
    "### 4a) - QUESTION\n",
    "\n",
    "Import the NumPy module as the common alias `np`.\n",
    "\n",
    "#### 4a) - SOLUTION"
   ]
  },
  {
   "cell_type": "code",
   "execution_count": 47,
   "id": "b8ce59c3",
   "metadata": {},
   "outputs": [],
   "source": [
    "###\n",
    "import numpy as np"
   ]
  },
  {
   "cell_type": "markdown",
   "id": "f6c6b0fe",
   "metadata": {},
   "source": [
    "### 4b) - QUESTION\n",
    "\n",
    "Let's begin by creating and manipulating a NumPy 1D array.\n",
    "\n",
    "Use the `np.arange()` function to create a 1D array of 20 elements starting from the value 0. Assign the result to the `my_1d_array` object. Print the **data type** of the `my_1d_array` to the screen.\n",
    "\n",
    "#### 4b) - SOLUTION"
   ]
  },
  {
   "cell_type": "code",
   "execution_count": 49,
   "id": "e7e2176b",
   "metadata": {},
   "outputs": [
    {
     "name": "stdout",
     "output_type": "stream",
     "text": [
      "<class 'numpy.ndarray'>\n"
     ]
    }
   ],
   "source": [
    "###\n",
    "my_1d_array = np.arange(0,20)\n",
    "print(type(my_1d_array))"
   ]
  },
  {
   "cell_type": "markdown",
   "id": "d7f5ce0f",
   "metadata": {},
   "source": [
    "### 4c) - QUESTION\n",
    "\n",
    "Use the appropriate attributes to print the number of dimensions, the size, and the shape associated with `my_1d_array`.\n",
    "\n",
    "#### 4c) - SOLUTION"
   ]
  },
  {
   "cell_type": "code",
   "execution_count": 51,
   "id": "23d25543",
   "metadata": {},
   "outputs": [
    {
     "name": "stdout",
     "output_type": "stream",
     "text": [
      "1\n",
      "20\n",
      "(20,)\n"
     ]
    }
   ],
   "source": [
    "###\n",
    "print(my_1d_array.ndim)\n",
    "print(my_1d_array.size)\n",
    "print(my_1d_array.shape)"
   ]
  },
  {
   "cell_type": "markdown",
   "id": "5d435b9e",
   "metadata": {},
   "source": [
    "### 4d) - QUESTION\n",
    "\n",
    "Conditionally subset the `my_1d_array` and return all values where `my_1d_array` is greater than 10. Display the result to the screen.\n",
    "\n",
    "#### 4d) - SOLUTION"
   ]
  },
  {
   "cell_type": "code",
   "execution_count": 52,
   "id": "cb850955",
   "metadata": {},
   "outputs": [
    {
     "data": {
      "text/plain": [
       "array([11, 12, 13, 14, 15, 16, 17, 18, 19])"
      ]
     },
     "execution_count": 52,
     "metadata": {},
     "output_type": "execute_result"
    }
   ],
   "source": [
    "###\n",
    "my_1d_array [ my_1d_array > 10 ]"
   ]
  },
  {
   "cell_type": "markdown",
   "id": "a5faed86",
   "metadata": {},
   "source": [
    "### 4e) - QUESTION\n",
    "\n",
    "Let's now consider extending beyond the 1D array. The cell below defines a list of lists, `list_of_lists_a`. "
   ]
  },
  {
   "cell_type": "code",
   "execution_count": 53,
   "id": "1ebb6108",
   "metadata": {},
   "outputs": [],
   "source": [
    "list_of_lists_a = [[0, 0, 0, 0, 0],\n",
    "                  [1, 1, 1, 1, 1],\n",
    "                  [2, 2, 2, 2, 2]]"
   ]
  },
  {
   "cell_type": "markdown",
   "id": "add0cb8f",
   "metadata": {},
   "source": [
    "You must convert this list of lists into a NumPy array and assign the result to the `array_from_list_a` object."
   ]
  },
  {
   "cell_type": "markdown",
   "id": "88ff5f04",
   "metadata": {},
   "source": [
    "#### 4e) - SOLUTION"
   ]
  },
  {
   "cell_type": "code",
   "execution_count": 2,
   "id": "c5f065a1",
   "metadata": {},
   "outputs": [
    {
     "ename": "NameError",
     "evalue": "name 'np' is not defined",
     "output_type": "error",
     "traceback": [
      "\u001b[1;31m---------------------------------------------------------------------------\u001b[0m",
      "\u001b[1;31mNameError\u001b[0m                                 Traceback (most recent call last)",
      "\u001b[1;32m~\\AppData\\Local\\Temp\\ipykernel_5808\\1632911691.py\u001b[0m in \u001b[0;36m<module>\u001b[1;34m\u001b[0m\n\u001b[0;32m      1\u001b[0m \u001b[1;31m###\u001b[0m\u001b[1;33m\u001b[0m\u001b[1;33m\u001b[0m\u001b[0m\n\u001b[1;32m----> 2\u001b[1;33m \u001b[0marray_from_list_a\u001b[0m \u001b[1;33m=\u001b[0m \u001b[0mnp\u001b[0m\u001b[1;33m.\u001b[0m\u001b[0marray\u001b[0m\u001b[1;33m(\u001b[0m\u001b[0mlist_of_lists_a\u001b[0m\u001b[1;33m)\u001b[0m\u001b[1;33m\u001b[0m\u001b[1;33m\u001b[0m\u001b[0m\n\u001b[0m\u001b[0;32m      3\u001b[0m \u001b[0mprint\u001b[0m\u001b[1;33m(\u001b[0m\u001b[0marray_from_list_\u001b[0m\u001b[1;33m)\u001b[0m\u001b[1;33m\u001b[0m\u001b[1;33m\u001b[0m\u001b[0m\n",
      "\u001b[1;31mNameError\u001b[0m: name 'np' is not defined"
     ]
    }
   ],
   "source": [
    "###\n",
    "array_from_list_a = np.array(list_of_lists_a)\n",
    "print(array_from_list_a)"
   ]
  },
  {
   "cell_type": "code",
   "execution_count": 61,
   "id": "700b8299",
   "metadata": {},
   "outputs": [
    {
     "data": {
      "text/plain": [
       "array([[0, 0, 0, 0, 0],\n",
       "       [1, 1, 1, 1, 1],\n",
       "       [2, 2, 2, 2, 2]])"
      ]
     },
     "execution_count": 61,
     "metadata": {},
     "output_type": "execute_result"
    }
   ],
   "source": [
    "array_from_list_a"
   ]
  },
  {
   "cell_type": "code",
   "execution_count": 10,
   "id": "269bd376",
   "metadata": {},
   "outputs": [
    {
     "ename": "ZeroDivisionError",
     "evalue": "division by zero",
     "output_type": "error",
     "traceback": [
      "\u001b[1;31m---------------------------------------------------------------------------\u001b[0m",
      "\u001b[1;31mZeroDivisionError\u001b[0m                         Traceback (most recent call last)",
      "\u001b[1;32m~\\AppData\\Local\\Temp\\ipykernel_5808\\809965128.py\u001b[0m in \u001b[0;36m<module>\u001b[1;34m\u001b[0m\n\u001b[0;32m      7\u001b[0m     \u001b[1;32mreturn\u001b[0m \u001b[0mfun1\u001b[0m\u001b[1;33m(\u001b[0m\u001b[0md\u001b[0m\u001b[1;33m,\u001b[0m\u001b[0me\u001b[0m\u001b[1;33m)\u001b[0m\u001b[1;33m\u001b[0m\u001b[1;33m\u001b[0m\u001b[0m\n\u001b[0;32m      8\u001b[0m \u001b[1;33m\u001b[0m\u001b[0m\n\u001b[1;32m----> 9\u001b[1;33m \u001b[0mprint\u001b[0m\u001b[1;33m(\u001b[0m\u001b[0mfun2\u001b[0m\u001b[1;33m(\u001b[0m\u001b[1;36m1\u001b[0m\u001b[1;33m)\u001b[0m\u001b[1;33m)\u001b[0m\u001b[1;33m\u001b[0m\u001b[1;33m\u001b[0m\u001b[0m\n\u001b[0m",
      "\u001b[1;32m~\\AppData\\Local\\Temp\\ipykernel_5808\\809965128.py\u001b[0m in \u001b[0;36mfun2\u001b[1;34m(c)\u001b[0m\n\u001b[0;32m      5\u001b[0m     \u001b[0md\u001b[0m \u001b[1;33m=\u001b[0m \u001b[0mc\u001b[0m\u001b[1;33m+\u001b[0m\u001b[1;36m1\u001b[0m\u001b[1;33m\u001b[0m\u001b[1;33m\u001b[0m\u001b[0m\n\u001b[0;32m      6\u001b[0m     \u001b[0me\u001b[0m \u001b[1;33m=\u001b[0m \u001b[0mc\u001b[0m\u001b[1;33m-\u001b[0m\u001b[1;36m1\u001b[0m\u001b[1;33m\u001b[0m\u001b[1;33m\u001b[0m\u001b[0m\n\u001b[1;32m----> 7\u001b[1;33m     \u001b[1;32mreturn\u001b[0m \u001b[0mfun1\u001b[0m\u001b[1;33m(\u001b[0m\u001b[0md\u001b[0m\u001b[1;33m,\u001b[0m\u001b[0me\u001b[0m\u001b[1;33m)\u001b[0m\u001b[1;33m\u001b[0m\u001b[1;33m\u001b[0m\u001b[0m\n\u001b[0m\u001b[0;32m      8\u001b[0m \u001b[1;33m\u001b[0m\u001b[0m\n\u001b[0;32m      9\u001b[0m \u001b[0mprint\u001b[0m\u001b[1;33m(\u001b[0m\u001b[0mfun2\u001b[0m\u001b[1;33m(\u001b[0m\u001b[1;36m1\u001b[0m\u001b[1;33m)\u001b[0m\u001b[1;33m)\u001b[0m\u001b[1;33m\u001b[0m\u001b[1;33m\u001b[0m\u001b[0m\n",
      "\u001b[1;32m~\\AppData\\Local\\Temp\\ipykernel_5808\\809965128.py\u001b[0m in \u001b[0;36mfun1\u001b[1;34m(a, b)\u001b[0m\n\u001b[0;32m      1\u001b[0m \u001b[1;32mdef\u001b[0m \u001b[0mfun1\u001b[0m\u001b[1;33m(\u001b[0m\u001b[0ma\u001b[0m\u001b[1;33m,\u001b[0m\u001b[0mb\u001b[0m\u001b[1;33m)\u001b[0m\u001b[1;33m:\u001b[0m\u001b[1;33m\u001b[0m\u001b[1;33m\u001b[0m\u001b[0m\n\u001b[1;32m----> 2\u001b[1;33m     \u001b[1;32mreturn\u001b[0m \u001b[0ma\u001b[0m \u001b[1;33m/\u001b[0m \u001b[0mb\u001b[0m\u001b[1;33m\u001b[0m\u001b[1;33m\u001b[0m\u001b[0m\n\u001b[0m\u001b[0;32m      3\u001b[0m \u001b[1;33m\u001b[0m\u001b[0m\n\u001b[0;32m      4\u001b[0m \u001b[1;32mdef\u001b[0m \u001b[0mfun2\u001b[0m\u001b[1;33m(\u001b[0m\u001b[0mc\u001b[0m\u001b[1;33m)\u001b[0m\u001b[1;33m:\u001b[0m\u001b[1;33m\u001b[0m\u001b[1;33m\u001b[0m\u001b[0m\n\u001b[0;32m      5\u001b[0m     \u001b[0md\u001b[0m \u001b[1;33m=\u001b[0m \u001b[0mc\u001b[0m\u001b[1;33m+\u001b[0m\u001b[1;36m1\u001b[0m\u001b[1;33m\u001b[0m\u001b[1;33m\u001b[0m\u001b[0m\n",
      "\u001b[1;31mZeroDivisionError\u001b[0m: division by zero"
     ]
    }
   ],
   "source": [
    "def fun1(a,b):\n",
    "    return a / b\n",
    "\n",
    "def fun2(c):\n",
    "    d = c+1\n",
    "    e = c-1\n",
    "    return fun1(d,e)\n",
    "\n",
    "print(fun2(1))"
   ]
  },
  {
   "cell_type": "code",
   "execution_count": 11,
   "id": "ec8a9e22",
   "metadata": {},
   "outputs": [
    {
     "name": "stdout",
     "output_type": "stream",
     "text": [
      "> \u001b[1;32mc:\\users\\fengyeng\\appdata\\local\\temp\\ipykernel_5808\\809965128.py\u001b[0m(2)\u001b[0;36mfun1\u001b[1;34m()\u001b[0m\n",
      "\n",
      "ipdb> list\n",
      "\u001b[0;32m      1 \u001b[0m\u001b[1;32mdef\u001b[0m \u001b[0mfun1\u001b[0m\u001b[1;33m(\u001b[0m\u001b[0ma\u001b[0m\u001b[1;33m,\u001b[0m\u001b[0mb\u001b[0m\u001b[1;33m)\u001b[0m\u001b[1;33m:\u001b[0m\u001b[1;33m\u001b[0m\u001b[1;33m\u001b[0m\u001b[0m\n",
      "\u001b[1;32m----> 2 \u001b[1;33m    \u001b[1;32mreturn\u001b[0m \u001b[0ma\u001b[0m \u001b[1;33m/\u001b[0m \u001b[0mb\u001b[0m\u001b[1;33m\u001b[0m\u001b[1;33m\u001b[0m\u001b[0m\n",
      "\u001b[0m\u001b[0;32m      3 \u001b[0m\u001b[1;33m\u001b[0m\u001b[0m\n",
      "\u001b[0;32m      4 \u001b[0m\u001b[1;32mdef\u001b[0m \u001b[0mfun2\u001b[0m\u001b[1;33m(\u001b[0m\u001b[0mc\u001b[0m\u001b[1;33m)\u001b[0m\u001b[1;33m:\u001b[0m\u001b[1;33m\u001b[0m\u001b[1;33m\u001b[0m\u001b[0m\n",
      "\u001b[0;32m      5 \u001b[0m    \u001b[0md\u001b[0m \u001b[1;33m=\u001b[0m \u001b[0mc\u001b[0m\u001b[1;33m+\u001b[0m\u001b[1;36m1\u001b[0m\u001b[1;33m\u001b[0m\u001b[1;33m\u001b[0m\u001b[0m\n",
      "\u001b[0;32m      6 \u001b[0m    \u001b[0me\u001b[0m \u001b[1;33m=\u001b[0m \u001b[0mc\u001b[0m\u001b[1;33m-\u001b[0m\u001b[1;36m1\u001b[0m\u001b[1;33m\u001b[0m\u001b[1;33m\u001b[0m\u001b[0m\n",
      "\u001b[0;32m      7 \u001b[0m    \u001b[1;32mreturn\u001b[0m \u001b[0mfun1\u001b[0m\u001b[1;33m(\u001b[0m\u001b[0md\u001b[0m\u001b[1;33m,\u001b[0m\u001b[0me\u001b[0m\u001b[1;33m)\u001b[0m\u001b[1;33m\u001b[0m\u001b[1;33m\u001b[0m\u001b[0m\n",
      "\u001b[0;32m      8 \u001b[0m\u001b[1;33m\u001b[0m\u001b[0m\n",
      "\u001b[0;32m      9 \u001b[0m\u001b[0mprint\u001b[0m\u001b[1;33m(\u001b[0m\u001b[0mfun2\u001b[0m\u001b[1;33m(\u001b[0m\u001b[1;36m1\u001b[0m\u001b[1;33m)\u001b[0m\u001b[1;33m)\u001b[0m\u001b[1;33m\u001b[0m\u001b[1;33m\u001b[0m\u001b[0m\n",
      "\n",
      "ipdb> print(d)\n",
      "*** NameError: name 'd' is not defined\n",
      "ipdb> up\n",
      "> \u001b[1;32mc:\\users\\fengyeng\\appdata\\local\\temp\\ipykernel_5808\\809965128.py\u001b[0m(7)\u001b[0;36mfun2\u001b[1;34m()\u001b[0m\n",
      "\n",
      "ipdb> print d\n",
      "*** SyntaxError: Missing parentheses in call to 'print'. Did you mean print(d)?\n",
      "ipdb> print(d)\n",
      "2\n",
      "--KeyboardInterrupt--\n",
      "\n",
      "KeyboardInterrupt: Interrupted by user\n"
     ]
    }
   ],
   "source": [
    "%debug"
   ]
  },
  {
   "cell_type": "markdown",
   "id": "396313bc",
   "metadata": {},
   "source": [
    "### 4f) - QUESTION\n",
    "\n",
    "Use the appropriate attributes to print the number of dimensions, the size, and the shape associated with `array_from_list_a`.\n",
    "\n",
    "#### 4f) - SOLUTION"
   ]
  },
  {
   "cell_type": "code",
   "execution_count": 56,
   "id": "7d5a959c",
   "metadata": {},
   "outputs": [
    {
     "name": "stdout",
     "output_type": "stream",
     "text": [
      "2\n",
      "15\n",
      "(3, 5)\n"
     ]
    }
   ],
   "source": [
    "###\n",
    "print(array_from_list_a.ndim)\n",
    "print(array_from_list_a.size)\n",
    "print(array_from_list_a.shape)"
   ]
  },
  {
   "cell_type": "markdown",
   "id": "d9428fef",
   "metadata": {},
   "source": [
    "### 4g) - QUESTION\n",
    "\n",
    "What is the difference between the attributes associated with `my_1d_array` and those associated with `array_from_list_a`?\n",
    "\n",
    "Type your response in a Markdown cell below.\n",
    "\n",
    "#### 4g) - SOLUTION"
   ]
  },
  {
   "cell_type": "markdown",
   "id": "7e1ec157",
   "metadata": {},
   "source": [
    "my_1d_array is a 1 demension array with 20 numbers and size twenty, therefore, it's shape is (1,20). The array_from_list_a contains only one element, but it has two dimention. But itss size is 15, and shape (3,5)."
   ]
  },
  {
   "cell_type": "markdown",
   "id": "cdfe8e9f",
   "metadata": {},
   "source": [
    "## Problem 05\n",
    "\n",
    "Let's continue to practice manipulating NumPy arrays.\n",
    "\n",
    "### 5a) - QUESTION\n",
    "\n",
    "The cell below defines another list of lists, `list_of_lists_b`."
   ]
  },
  {
   "cell_type": "code",
   "execution_count": 58,
   "id": "23c476c5",
   "metadata": {},
   "outputs": [],
   "source": [
    "list_of_lists_b = [[3, 3, 3, 3, 3],\n",
    "                  [4, 4, 4, 4, 4]]"
   ]
  },
  {
   "cell_type": "markdown",
   "id": "3d773e17",
   "metadata": {},
   "source": [
    "You must convert the `list_of_lists_b` object into a NumPy array and assign the result to the `array_from_list_b` object.\n",
    "\n",
    "Display the SHAPE of the `array_from_list_b` object to the screen.\n",
    "\n",
    "#### 5a) - SOLUTION"
   ]
  },
  {
   "cell_type": "code",
   "execution_count": 59,
   "id": "34257cf2",
   "metadata": {},
   "outputs": [
    {
     "data": {
      "text/plain": [
       "(2, 5)"
      ]
     },
     "execution_count": 59,
     "metadata": {},
     "output_type": "execute_result"
    }
   ],
   "source": [
    "###\n",
    "array_from_list_b = np.array(list_of_lists_b)\n",
    "array_from_list_b.shape"
   ]
  },
  {
   "cell_type": "markdown",
   "id": "113945e0",
   "metadata": {},
   "source": [
    "### 5b) - QUESTION\n",
    "\n",
    "You will now concatenate the `array_from_list_a` and `array_from_list_b` arrays. Concatenate or stack them VERTICALLY and assign the result to the `my_stacked_array`. \n",
    "\n",
    "Would the number of dimensions of `my_stacked_array` be different from either of the arrays you combined to create it? Print the appropriate attribute to the screen to check your answer.\n",
    "\n",
    "#### 5b) - SOLUTION"
   ]
  },
  {
   "cell_type": "code",
   "execution_count": null,
   "id": "1ffd0baf",
   "metadata": {},
   "outputs": [],
   "source": [
    "###"
   ]
  },
  {
   "cell_type": "markdown",
   "id": "7bfb4598",
   "metadata": {},
   "source": [
    "### 5c) - QUESTION\n",
    "\n",
    "Slice the `my_stacked_array` object by selecting the first two columns and all rows EXCEPT the last row. Assign the result to the `my_subset_array` object. Print the `my_subset_array` object to the screen.\n",
    "\n",
    "*NOTE*: Please use the default subset/slice approach for this question.\n",
    "\n",
    "#### 5c) - SOLUTION"
   ]
  },
  {
   "cell_type": "code",
   "execution_count": null,
   "id": "e4b8c928",
   "metadata": {},
   "outputs": [],
   "source": [
    "###"
   ]
  },
  {
   "cell_type": "markdown",
   "id": "909d9d57",
   "metadata": {},
   "source": [
    "### 5d) - QUESTION\n",
    "\n",
    "Let's now modify the values in the smaller array.  \n",
    "\n",
    "Assign the ZEROTH row and ZEROTH column in `my_subset_array` to 99. \n",
    "\n",
    "Assign the LAST row and ZEROTH column in `my_subset_array` to -99.\n",
    "\n",
    "Assign the ZEROTH row and LAST column in `my_subset_array` to 9999.  \n",
    "\n",
    "Assign the LAST row and LAST column in `my_subset_array` to -9999. \n",
    "\n",
    "Print the `my_subset_array` to the screen.\n",
    "\n",
    "#### 5d) - SOLUTION"
   ]
  },
  {
   "cell_type": "code",
   "execution_count": null,
   "id": "53c5c1b3",
   "metadata": {},
   "outputs": [],
   "source": [
    "###"
   ]
  },
  {
   "cell_type": "markdown",
   "id": "96842566",
   "metadata": {},
   "source": [
    "### 5e) - QUESTION\n",
    "\n",
    "Did your action in the last question change the `my_stacked_array` object? \n",
    "\n",
    "Why or why not?\n",
    "\n",
    "Print `my_stacked_array` to the screen to confirm you are correct.\n",
    "\n",
    "#### 5e) - SOLUTION"
   ]
  },
  {
   "cell_type": "code",
   "execution_count": null,
   "id": "9b9c1e83",
   "metadata": {},
   "outputs": [],
   "source": [
    "###"
   ]
  },
  {
   "cell_type": "markdown",
   "id": "6b7d4cda",
   "metadata": {},
   "source": [
    "## Problem 06\n",
    "\n",
    "You have created, concatenated, sliced, and manipulated NumPy arrays. It is now time to practice **summarizing** arrays!\n",
    "\n",
    "You will continue to use the `my_stacked_array` object for this problem.\n",
    "\n",
    "**IMPORTANT**: You **must** answer this question **AFTER** the previous question.\n",
    "\n",
    "### 6a) - QUESTION\n",
    "\n",
    "The `my_stacked_array` object has ROWS and COLUMNS. You will practice summarizing the **COLUMNS** first.\n",
    "\n",
    "Use the appropriate NumPy method to calculate the **sample average** for each COLUMN in `my_stacked_array`. \n",
    "\n",
    "You do not need to assign the result to a new object, simply print the result to the screen.\n",
    "\n",
    "#### 6a) - SOLUTION"
   ]
  },
  {
   "cell_type": "code",
   "execution_count": null,
   "id": "83777834",
   "metadata": {},
   "outputs": [],
   "source": [
    "###"
   ]
  },
  {
   "cell_type": "markdown",
   "id": "0743d7b1",
   "metadata": {},
   "source": [
    "### 6b) - QUESTION\n",
    "\n",
    "Use the appropriate NumPy method to calculate the **sample standard deviation** for each COLUMN in `my_stacked_array`.\n",
    "\n",
    "You do not need to assign the result to a new object, simply print the result to the screen.\n",
    "\n",
    "*HINT*: You MUST use the unbiased estimate!\n",
    "\n",
    "#### 6b) - SOLUTION"
   ]
  },
  {
   "cell_type": "code",
   "execution_count": null,
   "id": "3041679a",
   "metadata": {},
   "outputs": [],
   "source": [
    "###"
   ]
  },
  {
   "cell_type": "markdown",
   "id": "67a3c385",
   "metadata": {},
   "source": [
    "### 6c) - QUESTION\n",
    "\n",
    "Let's now practice summarizing the **ROWS** within `my_stacked_array`.\n",
    "\n",
    "Use the appropriate NumPy method to calculate the **sample average** for each ROW in `my_stacked_array`.\n",
    "\n",
    "You do not need to assign the result to a new object, simply print the result to the screen.\n",
    "\n",
    "#### 6c) - SOLUTION"
   ]
  },
  {
   "cell_type": "code",
   "execution_count": null,
   "id": "e553537e",
   "metadata": {},
   "outputs": [],
   "source": [
    "###"
   ]
  },
  {
   "cell_type": "markdown",
   "id": "0b64604e",
   "metadata": {},
   "source": [
    "### 6d) - QUESTION\n",
    "\n",
    "Use the appropriate NumPy method to calculate the **sample standard deviation** for each ROW in `my_stacked_array`.\n",
    "\n",
    "You do not need to assign the result to a new object, simply print the result to the screen.\n",
    "\n",
    "*HINT*: You MUST use the unbiased estimate!\n",
    "\n",
    "#### 6d) - SOLUTION"
   ]
  },
  {
   "cell_type": "code",
   "execution_count": null,
   "id": "ba3638f4",
   "metadata": {},
   "outputs": [],
   "source": [
    "###"
   ]
  },
  {
   "cell_type": "markdown",
   "id": "2d708c70",
   "metadata": {},
   "source": [
    "### 6e) - QUESTION\n",
    "\n",
    "You summarized the NumPy array several different ways. First, summarizing the COLUMNS and then summarizing the ROWS.\n",
    "\n",
    "How many values were displayed when you summarized the COLUMNS?\n",
    "\n",
    "How many values were displayed when you summarized the ROWS?\n",
    "\n",
    "Why are the number of summarized the same or different? Type your response in a Markdown cell below.\n",
    "\n",
    "#### 6e) - SOLUTION"
   ]
  },
  {
   "cell_type": "code",
   "execution_count": null,
   "id": "131565f6",
   "metadata": {},
   "outputs": [],
   "source": []
  },
  {
   "cell_type": "markdown",
   "id": "086e4e05",
   "metadata": {},
   "source": [
    "## Problem 07\n",
    "\n",
    "You performed a simulation in the previous assignment to estimate the standard error on the mean. The samples were generated assuming a Gaussian distribution with mean (location) equal to 100 and standard deviation (scale) equal to 25. You estimated the standard error using 5000 replications for multiple sample sizes.\n",
    "\n",
    "You will perform the same kind of simulation again but this time using NumPy to generate the random numbers, organize the samples, and summarize the samples appropriately. The end of the lecture of material in Week 03 will help you with this portion of the assignment. \n",
    "\n",
    "Your simulation must include the following:\n",
    "\n",
    "* Initialize the NumPy random number generator with the seed equal to 2100\n",
    "* Generate samples using a Gaussian random number generator with mean 100 and standard deviation 25\n",
    "* Generate 5000 replications for each sample size and organize the NumPy array 2D array\n",
    "* The replications must correspond to the COLUMNS while the sample size must correspond to the ROWS of the 2D array\n",
    "* Summarize samples by calculating the sample average for each replication using the appropriate NumPy method\n",
    "* Calculate the SEM by calculating the standard deviation of the averages using the appropriate NumPy method\n",
    "    * Your standard deviation MUST be unbiased!!!  \n",
    "* You must iterate over various sample sizes using a list comprehension\n",
    "    * The sample sizes you must use are provided in a list below\n",
    "* You must visualize the SEM with respect to the sample size on a plot\n",
    "    * The plot is started for you since we have not discussed creating plots yet\n",
    "\n",
    "The specific sample sizes you must use are provided below:"
   ]
  },
  {
   "cell_type": "code",
   "execution_count": null,
   "id": "99ca15e4",
   "metadata": {},
   "outputs": [],
   "source": [
    "sample_size_use = [5, 10, 20, 40, 80, 160, 320, 640, 1280, 2560, 5120, 10240]"
   ]
  },
  {
   "cell_type": "markdown",
   "id": "cbea1678",
   "metadata": {},
   "source": [
    "#### 7a) - SOLUTION\n",
    "\n",
    "Add as many cells as you feel are necessary below to complete the simulation.\n",
    "\n",
    "*HINT*: Do NOT forget to set the random seed!"
   ]
  },
  {
   "cell_type": "code",
   "execution_count": null,
   "id": "fed59f69",
   "metadata": {},
   "outputs": [],
   "source": [
    "### add cells from here"
   ]
  },
  {
   "cell_type": "markdown",
   "id": "fd50feb0",
   "metadata": {},
   "source": [
    "The plot is started for you below. You only need to complete 1 line!"
   ]
  },
  {
   "cell_type": "code",
   "execution_count": null,
   "id": "99d2d767",
   "metadata": {},
   "outputs": [],
   "source": [
    "import matplotlib.pyplot as plt"
   ]
  },
  {
   "cell_type": "code",
   "execution_count": null,
   "id": "66ebaa96",
   "metadata": {},
   "outputs": [],
   "source": [
    "fig, ax = plt.subplots(figsize=(12, 6))\n",
    "\n",
    "### you need to fill in this line!!!\n",
    "ax.set_xscale('log')\n",
    "ax.set_xlabel('sample size')\n",
    "ax.set_ylabel('standard error on the average')\n",
    "ax.grid(True)\n",
    "plt.show()"
   ]
  },
  {
   "cell_type": "markdown",
   "id": "37db042a",
   "metadata": {},
   "source": [
    "## Problem 08\n",
    "\n",
    "You will complete a data analysis project in the second half of the semester. You looked through several of the potential projects in the last assignment. Several more projects have been added to Canvas.\n",
    "\n",
    "Please look through the material associated with the new of projects on Canvas. Do any seem interesting to you? If so, what aspect of the project did you find interesting? Do you prefer one of the projects from the previous set of projects?\n",
    "\n",
    "#### 8) - SOLUTION\n",
    "\n",
    "Please type your response below."
   ]
  },
  {
   "cell_type": "code",
   "execution_count": null,
   "id": "36f61972",
   "metadata": {},
   "outputs": [],
   "source": []
  }
 ],
 "metadata": {
  "kernelspec": {
   "display_name": "Python 3 (ipykernel)",
   "language": "python",
   "name": "python3"
  },
  "language_info": {
   "codemirror_mode": {
    "name": "ipython",
    "version": 3
   },
   "file_extension": ".py",
   "mimetype": "text/x-python",
   "name": "python",
   "nbconvert_exporter": "python",
   "pygments_lexer": "ipython3",
   "version": "3.9.13"
  }
 },
 "nbformat": 4,
 "nbformat_minor": 5
}
