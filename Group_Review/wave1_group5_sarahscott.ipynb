{
 "cells": [
  {
   "cell_type": "markdown",
   "id": "45b9250b",
   "metadata": {},
   "source": [
    "# CMPINF 2100\n",
    "## Review: Wave 1, Group 5 \n",
    "\n",
    "### Understanding Unique Values\n",
    "\n",
    "Sarah Scott\n",
    "\n",
    "#### Overview: \n",
    "\n",
    "Many summary methods important to Exploratory Data Analysis require the ability to identify the **unique values** in a Pandas series or DataFrame. For small, numerical data sets that are easy to quickly summarize through the visualization of the data, this might seem like an unimportant step. However, for large data sets or categorical/string variables, it is an essential one.\n",
    "\n",
    "We can retrieve the number of unique values using `.nunique()`, which will **count** the number (n) of unique values in the series or column. Comparing this number to the `.size` attribute will provide us with a clear understanding of how many unique values are in the series/column. \n",
    "  \n",
    "In a similar vein, the `.unique()` method lists the unique values in a series/column. This allows us to identify the unique elements themselves. \n",
    "\n",
    "One important Pandas method that focuses on unique values is `.value_count()`. This method counts the number of times a unique value occurs, and tells us how many times the values appear per value. \n",
    "\n",
    "*Important Note*: By default, these methods do **not** count missing values, so `dropna=False` is often used in conjunction with this method. \n",
    "\n",
    "#### Example: \n",
    "\n",
    "In the below example, we identify the use of `.unique()`, `.nunique()`, and `.value_count()`. "
   ]
  },
  {
   "cell_type": "code",
   "execution_count": 1,
   "id": "c05b4a35",
   "metadata": {},
   "outputs": [],
   "source": [
    "import numpy as np\n",
    "import pandas as pd"
   ]
  },
  {
   "cell_type": "code",
   "execution_count": 3,
   "id": "501443e9",
   "metadata": {},
   "outputs": [],
   "source": [
    "the_fellowship = pd.Series( [ 'Hobbit', 'Hobbit', 'Hobbit', 'Hobbit', 'Wizard', 'Man', 'Man', 'Elf', 'Dwarf' ])"
   ]
  },
  {
   "cell_type": "code",
   "execution_count": 11,
   "id": "7b041c22",
   "metadata": {},
   "outputs": [
    {
     "name": "stdout",
     "output_type": "stream",
     "text": [
      "9\n",
      "5\n",
      "['Hobbit' 'Wizard' 'Man' 'Elf' 'Dwarf']\n"
     ]
    }
   ],
   "source": [
    "print(the_fellowship.size)\n",
    "print(the_fellowship.nunique())\n",
    "print(the_fellowship.unique())"
   ]
  },
  {
   "cell_type": "markdown",
   "id": "0038d79a",
   "metadata": {},
   "source": [
    "In the above code, we identify there are 9 values to the series, `the_fellowship`. However, using `.nunique()`, we identified only five of those values are unique. We are able to identify what those unique variables are using `.unique()`. "
   ]
  },
  {
   "cell_type": "code",
   "execution_count": 12,
   "id": "4940a93b",
   "metadata": {},
   "outputs": [
    {
     "data": {
      "text/plain": [
       "Hobbit    4\n",
       "Man       2\n",
       "Wizard    1\n",
       "Elf       1\n",
       "Dwarf     1\n",
       "dtype: int64"
      ]
     },
     "execution_count": 12,
     "metadata": {},
     "output_type": "execute_result"
    }
   ],
   "source": [
    "the_fellowship.value_counts()"
   ]
  },
  {
   "cell_type": "markdown",
   "id": "633c7f7b",
   "metadata": {},
   "source": [
    "Using `.value_counts()`, we can identify how many values are associated with each variable - in `the_fellowship`, there are four hobbits, two men, one wizard, one elf, and one dwarf. "
   ]
  },
  {
   "cell_type": "markdown",
   "id": "42ec4b0c",
   "metadata": {},
   "source": [
    "### Review Questions"
   ]
  },
  {
   "cell_type": "markdown",
   "id": "b63493c0",
   "metadata": {},
   "source": [
    "**Question 1:** TRUE/FALSE: The `.unique()` method only retrieves the *number* of unique values in a series/column. It does not list the unique values.  \n",
    "\n",
    "**ANSWER**: False. The `.unique()` method *does* list the unique values."
   ]
  },
  {
   "cell_type": "markdown",
   "id": "ff2b8d1d",
   "metadata": {},
   "source": [
    "**Question 2:** You are a teacher with a class of 100 students. You have created a DataFrame (`class_list`) of their names with three columns: first name (`first`), Last Name (`last`) and Full Name (`full`). You want to identify how many students have the same first name. What method would you use? \n",
    "\n",
    "* A `class_list.first.nunique()`\n",
    "* B `class_list.first.unique()` \n",
    "* C `first.nunique()`\n",
    "* D `class_list.full.nunique()`\n",
    "\n",
    "**ANSWER:** A, `class_list.first.nunique()`"
   ]
  },
  {
   "cell_type": "markdown",
   "id": "df0a93a2",
   "metadata": {},
   "source": []
  }
 ],
 "metadata": {
  "kernelspec": {
   "display_name": "Python 3 (ipykernel)",
   "language": "python",
   "name": "python3"
  },
  "language_info": {
   "codemirror_mode": {
    "name": "ipython",
    "version": 3
   },
   "file_extension": ".py",
   "mimetype": "text/x-python",
   "name": "python",
   "nbconvert_exporter": "python",
   "pygments_lexer": "ipython3",
   "version": "3.8.17"
  }
 },
 "nbformat": 4,
 "nbformat_minor": 5
}
