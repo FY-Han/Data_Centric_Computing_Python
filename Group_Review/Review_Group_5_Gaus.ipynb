{
 "cells": [
  {
   "cell_type": "markdown",
   "id": "1db3ebea",
   "metadata": {},
   "source": [
    "# Group 5 \n",
    "\n",
    "## Ellen Gaus\n",
    "\n",
    "### Concatenation"
   ]
  },
  {
   "cell_type": "markdown",
   "id": "fc67fd00",
   "metadata": {},
   "source": [
    "`pd.concat()` is the function to combine data frames. The first listed object will appear first (as in on top), and the second listed object will appear second (on the bottom). \n",
    "\n",
    "The dataframes should be the same size and share the same column names in order to stack the dataframes on top of one another, resulting in a taller dataframe. If the dataframes are different sizes and do not share the same column names, `pd.concat()` will bind the columns, resulting in a wider dataframe as opposed to a taller dataframe.\n",
    "\n",
    "The first listed object will become the left dataframe, and the second listed object will be the right dataframe. "
   ]
  },
  {
   "cell_type": "markdown",
   "id": "3b8c7d31",
   "metadata": {},
   "source": [
    "`pd.concat()` by itself will vertically stack dataframes ontop of one another. As such, the index will repeat with each dataframe. Adding the argument ignore_index=True will create a unique index."
   ]
  },
  {
   "cell_type": "markdown",
   "id": "f0427523",
   "metadata": {},
   "source": [
    "pd.concat( [dataframe1, dataframe2] ) is the same as pd.concat( [dataframe1, dataframe2], axis=0 )"
   ]
  },
  {
   "cell_type": "markdown",
   "id": "0194fbb5",
   "metadata": {},
   "source": [
    "## Review questions with answers"
   ]
  },
  {
   "cell_type": "markdown",
   "id": "66e1fbc7",
   "metadata": {},
   "source": [
    "QUESTION: Which of the following will result in a new dataframe with a unique `.index` attribute?\n",
    "\n",
    "1 - pd.concat( [dataframe1, dataframe2])\n",
    "2 - pd.concat( [dataframe1, dataframe2], ignore_index=True)"
   ]
  },
  {
   "cell_type": "markdown",
   "id": "6c9df39e",
   "metadata": {},
   "source": [
    "ANSWER: pd.concat( [dataframe1, dataframe2], ignore_index=True)"
   ]
  },
  {
   "cell_type": "markdown",
   "id": "890c6a0a",
   "metadata": {},
   "source": [
    "QUESTION: True or False - concatenate can combine dataframes of different sizes\n",
    "\n",
    "1 - True\n",
    "2 - False"
   ]
  },
  {
   "cell_type": "markdown",
   "id": "de840f7d",
   "metadata": {},
   "source": [
    "ANSWER: True "
   ]
  }
 ],
 "metadata": {
  "kernelspec": {
   "display_name": "Python 3 (ipykernel)",
   "language": "python",
   "name": "python3"
  },
  "language_info": {
   "codemirror_mode": {
    "name": "ipython",
    "version": 3
   },
   "file_extension": ".py",
   "mimetype": "text/x-python",
   "name": "python",
   "nbconvert_exporter": "python",
   "pygments_lexer": "ipython3",
   "version": "3.8.17"
  }
 },
 "nbformat": 4,
 "nbformat_minor": 5
}
