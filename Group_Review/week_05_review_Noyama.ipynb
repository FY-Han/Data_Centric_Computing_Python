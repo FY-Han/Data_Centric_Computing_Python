{
 "cells": [
  {
   "cell_type": "markdown",
   "id": "cf4db9a7",
   "metadata": {},
   "source": [
    "# Group 5\n",
    "\n",
    "## James Noyama\n",
    "\n",
    "### Filter Pandas with Strings"
   ]
  },
  {
   "cell_type": "markdown",
   "id": "e7b52d28",
   "metadata": {},
   "source": [
    "There are two methods that allow one to filter Pandas using strings: `.isin()` and `.str.contains()`.\n",
    "\n",
    "`.isin()` can be used to filter a Pandas DataFrame based on particular values. Using the `.isin()` method makes filtering more readable than having multiple `|` operators. If multiple string conditions are being searched for, a list must be given to the `isin()` method. The `isin()` method also allows searching for numeric values.\n",
    "\n",
    "`.str.contains()` looks for a pattern within a string and returns all values containing that pattern. However, if the pattern being searched for is too small (e.g. 'a'), all values containing that string will be returned. \n",
    "\n",
    "The `str.contains()` method can also be used to search for periods, white space, and other characters. To do so, one must use the pattern that escapes special characters `\\\\`."
   ]
  },
  {
   "cell_type": "markdown",
   "id": "ba87d8ac",
   "metadata": {},
   "source": [
    "# Review questions and answers"
   ]
  },
  {
   "cell_type": "markdown",
   "id": "3f790344",
   "metadata": {},
   "source": [
    "**Question** TRUE of FALSE: The following two lines of code will result in the same DataFrame filter.\n",
    "\n",
    "df.loc[ ( df.Animals == 'Birds' ) | ( df.Animals == 'Reptiles' ), : ]\n",
    "\n",
    "df.loc[ df.Animals.isin( [ 'Birds', 'Reptiles' ] ), : ]"
   ]
  },
  {
   "cell_type": "markdown",
   "id": "dc96ffac",
   "metadata": {},
   "source": [
    "**Answer** True"
   ]
  },
  {
   "cell_type": "markdown",
   "id": "b3609434",
   "metadata": {},
   "source": [
    "**Question** Which of the following will search for a string containing a period `.`?\n",
    "1) df.Animals.str.contains( ' . ' )\n",
    "2) df.Animals.str.contains( ' \\\\\\ . ' )\n",
    "3) df.Animals.isin( ' . ' )\n",
    "4) df.Animals.isin( ' \\\\\\ . ' )"
   ]
  },
  {
   "cell_type": "markdown",
   "id": "252bb043",
   "metadata": {},
   "source": [
    "**Answer**\n",
    "\n",
    "2) df.Animals.str.contains( ' \\\\\\ . ' )"
   ]
  },
  {
   "cell_type": "code",
   "execution_count": null,
   "id": "a0919faa",
   "metadata": {},
   "outputs": [],
   "source": []
  }
 ],
 "metadata": {
  "kernelspec": {
   "display_name": "Python 3 (ipykernel)",
   "language": "python",
   "name": "python3"
  },
  "language_info": {
   "codemirror_mode": {
    "name": "ipython",
    "version": 3
   },
   "file_extension": ".py",
   "mimetype": "text/x-python",
   "name": "python",
   "nbconvert_exporter": "python",
   "pygments_lexer": "ipython3",
   "version": "3.8.17"
  }
 },
 "nbformat": 4,
 "nbformat_minor": 5
}
