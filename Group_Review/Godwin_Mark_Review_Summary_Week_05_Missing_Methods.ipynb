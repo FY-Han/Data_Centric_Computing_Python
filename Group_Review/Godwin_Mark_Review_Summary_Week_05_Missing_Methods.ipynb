{
 "cells": [
  {
   "cell_type": "markdown",
   "id": "d4de25af",
   "metadata": {},
   "source": [
    "## Methods for Missing Values\n",
    "\n",
    "### Week 05 Summary Review\n",
    "\n",
    "### Mark Godwin"
   ]
  },
  {
   "cell_type": "markdown",
   "id": "3b57ec02",
   "metadata": {},
   "source": [
    "It is important to identify Missing value in a Series or a DataFrame.  We can accomplish this with a few methods available to us using Pandas.  The `.isnull()` method can be used with Panda Series to convert the entire series into a `boolean`, displaying `True` or `False` values.  Missing values will display as True, and False means that the value is present.  `.isna()` is another method that accomplishes the same task, but can be used in both Panda Series and Pandas DataFrames.\n",
    "\n",
    "We can summarize the number of missings by using `.isna().sum()`.  To view the proportion and see the percentage of each column or row that has missing values, we can use `.isna().mean()`.\n",
    "\n",
    "To create a Complete Case, where all missings are removed, we can use the `.dropna()` method.  This will return a DataFrame free of missings, and display all values present. \n",
    "\n"
   ]
  },
  {
   "cell_type": "markdown",
   "id": "d722f502",
   "metadata": {},
   "source": [
    "### Questions"
   ]
  },
  {
   "cell_type": "markdown",
   "id": "1a1404f5",
   "metadata": {},
   "source": [
    "1 Which line of code will sum all the missings of all columns in a Panda DataFrame `df`?\n",
    "\n",
    "A. df.isna().sum()\n",
    "\n",
    "B. df.isna().mean()\n",
    "\n",
    "C. df.dropna()\n",
    "\n",
    "D. df.isnull()\n"
   ]
  },
  {
   "cell_type": "markdown",
   "id": "32727efc",
   "metadata": {},
   "source": [
    "Answer: A"
   ]
  },
  {
   "cell_type": "markdown",
   "id": "be04ea1a",
   "metadata": {},
   "source": [
    "2 Which line of code will sum the missings of all  rows of the same DataFrame `df` ?\n",
    "\n",
    "A. df.isna().mean(axis=0)\n",
    "\n",
    "B. df.isna().sum\n",
    "\n",
    "C. df.isna().sum(axis=1)\n",
    "\n",
    "D. df.dropna().mean(axis=0)\n"
   ]
  },
  {
   "cell_type": "markdown",
   "id": "3416f840",
   "metadata": {},
   "source": [
    "Answer: C"
   ]
  },
  {
   "cell_type": "code",
   "execution_count": null,
   "id": "466eb8c7",
   "metadata": {},
   "outputs": [],
   "source": []
  }
 ],
 "metadata": {
  "kernelspec": {
   "display_name": "Python 3 (ipykernel)",
   "language": "python",
   "name": "python3"
  },
  "language_info": {
   "codemirror_mode": {
    "name": "ipython",
    "version": 3
   },
   "file_extension": ".py",
   "mimetype": "text/x-python",
   "name": "python",
   "nbconvert_exporter": "python",
   "pygments_lexer": "ipython3",
   "version": "3.8.17"
  }
 },
 "nbformat": 4,
 "nbformat_minor": 5
}
