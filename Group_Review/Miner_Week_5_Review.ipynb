{
 "cells": [
  {
   "cell_type": "markdown",
   "id": "a7eb0785",
   "metadata": {},
   "source": [
    "# Summarizing Series and DataFrames\n",
    "### Tate Miner"
   ]
  },
  {
   "cell_type": "markdown",
   "id": "16e5a9c8",
   "metadata": {},
   "source": [
    "Calculating summary statistics is a crucial first step when beginning to explore a dataset. Pandas includes a number of useful methods whose behavior is important to understand.\n",
    "\n",
    "Because Pandas is built off of Numpy, many of these methods look and function the same way. `.mean()`, `.min()`, and `.max()` calculate the average, minimum value, and maximum value for the series or DataFrame. \n",
    "\n",
    "The `.var()` and `.std()` methods, however, differ from their Numpy counterparts in one notable respect. The Pandas versions are superior for data analysis in that the default degrees of freedom argument is set to 1, meaning that it calculates the **unbiased** estimate of these parameters.\n",
    "\n",
    "It is also worth keeping in mind that summary methods will automatically remove any missing values before running the calculation - this is captured by the `skipna` argument, which by default is set to `True`. These summary values cannot be calculated if there are any missing values.\n",
    "\n",
    "Summary methods can also be applied to entire DataFranes and across rows as well as individual columns. Because DataFrames can contain multiple data types, applying these methods across the entirety of the DataFrame will only count numeric values."
   ]
  },
  {
   "cell_type": "markdown",
   "id": "5f8d7bcf",
   "metadata": {},
   "source": [
    "## Questions"
   ]
  },
  {
   "cell_type": "markdown",
   "id": "6f3906bc",
   "metadata": {},
   "source": [
    "1.) TRUE or FALSE: The default value for the argument `ddof` in the Pandas versions of `.var()` and `.std()` is 0."
   ]
  },
  {
   "cell_type": "markdown",
   "id": "0fa06ea1",
   "metadata": {},
   "source": [
    "2.) Which of the following best describes the behavior when applying summary methods **across rows** of a DataFrame that has both numeric and string (object) columns? See the line of code below for an example.\n",
    "\n",
    "`df.mean(axis = 1)`\n",
    "\n",
    "A. The summary statistic will be calculated only using non-numeric columns.\n",
    "\n",
    "B. The summary statistic will be calculated only using numeric columns.\n",
    "\n",
    "C. An error will be returned.\n"
   ]
  },
  {
   "cell_type": "markdown",
   "id": "8c4d4f8b",
   "metadata": {},
   "source": [
    "<details>\n",
    "<summary>[Click here for answers]</summary>\n",
    "1. False\n",
    "2. B\n",
    "</details>"
   ]
  }
 ],
 "metadata": {
  "kernelspec": {
   "display_name": "Python 3 (ipykernel)",
   "language": "python",
   "name": "python3"
  },
  "language_info": {
   "codemirror_mode": {
    "name": "ipython",
    "version": 3
   },
   "file_extension": ".py",
   "mimetype": "text/x-python",
   "name": "python",
   "nbconvert_exporter": "python",
   "pygments_lexer": "ipython3",
   "version": "3.8.17"
  }
 },
 "nbformat": 4,
 "nbformat_minor": 5
}
