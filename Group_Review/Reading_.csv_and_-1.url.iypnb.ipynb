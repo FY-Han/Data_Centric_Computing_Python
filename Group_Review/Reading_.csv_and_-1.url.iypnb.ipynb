{
 "cells": [
  {
   "cell_type": "markdown",
   "id": "bd6320d9",
   "metadata": {},
   "source": [
    "Megan Underwood \n",
    "\n",
    "Reading in .csv and .url files: \n",
    "\n",
    "Summary:  \n",
    "\n",
    "Reading .csv and .url files refers to the process of extracting data from files with these specific formats. CSV or Comma-Separated Values files are a common format for storing structured data, such as spreadsheets and databases. Each line in a .CSV file typically represents a row of data, and values within the row are separated by commas. .CSV files are used for data exchange between different software applications. Many data analysis tools and programming languages (e.g., Python, R, Excel) have built-in support for reading and writing .CSV files. URL or Uniform Resource Locator files are a plain text file that contains a URL or web address. URL files help users save and organize their favorite websites or web resources. Clicking on a .URL file will open the associated website in a web browser.  \n",
    "\n",
    "Questions: \n",
    "\n",
    "Question 1: What is the primary purpose of reading a .csv file? \n",
    "\n",
    "A) To store bookmarks and website links. B) To exchange structured data between different software applications. C) To create backups of databases. D) To perform advanced data analysis. \n",
    "\n",
    "Correct Answer: B) To exchange structured data between different software applications. \n",
    "\n",
    "Question 2: What is the main function of a .url file? \n",
    "\n",
    "A) To open a specific web page in a web browser. B) To create structured data for analysis. C) To store information in a spreadsheet. D) To exchange data between different web browsers. \n",
    "\n",
    "Correct Answer: A) To open a specific web page in a web browser. "
   ]
  },
  {
   "cell_type": "code",
   "execution_count": null,
   "id": "90fe8eaf",
   "metadata": {},
   "outputs": [],
   "source": []
  }
 ],
 "metadata": {
  "kernelspec": {
   "display_name": "Python 3 (ipykernel)",
   "language": "python",
   "name": "python3"
  },
  "language_info": {
   "codemirror_mode": {
    "name": "ipython",
    "version": 3
   },
   "file_extension": ".py",
   "mimetype": "text/x-python",
   "name": "python",
   "nbconvert_exporter": "python",
   "pygments_lexer": "ipython3",
   "version": "3.11.4"
  }
 },
 "nbformat": 4,
 "nbformat_minor": 5
}
