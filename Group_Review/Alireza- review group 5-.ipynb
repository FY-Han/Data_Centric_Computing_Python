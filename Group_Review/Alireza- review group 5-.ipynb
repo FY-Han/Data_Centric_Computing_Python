{
 "cells": [
  {
   "cell_type": "markdown",
   "id": "efee1d5f",
   "metadata": {},
   "source": [
    "### Name : Alireza Asadbeygi \n",
    "\n",
    "### Review group 5 \n",
    "\n",
    "### topic :Supplemental Reading - JOIN or MERGE Data"
   ]
  },
  {
   "cell_type": "code",
   "execution_count": null,
   "id": "3caa7eee",
   "metadata": {},
   "outputs": [],
   "source": []
  },
  {
   "cell_type": "markdown",
   "id": "9bab9f15",
   "metadata": {},
   "source": [
    "This article gives review the three main types of merging or joining data frmaes  \n",
    "or tables, and has different names for each one. also the article talk about some  \n",
    "technical terms in data science that me intersting to hear about here.  \n",
    "following is a short summary of this article which covers very important points. \n",
    "(( since the syntac in the article is based on R, so the codes are not provided )) "
   ]
  },
  {
   "cell_type": "markdown",
   "id": "6dea348a",
   "metadata": {},
   "source": [
    "In the real world data science projects, data come from different sources \n",
    "and different tables. This data which include multiple data is called `rational` data.  \n",
    "so in order to integrate these different data frames,these important methods must be  \n",
    "considered: "
   ]
  },
  {
   "cell_type": "markdown",
   "id": "b9ed6958",
   "metadata": {},
   "source": [
    "Mutating Joins (Inner Joins): This technique allows us to alter or mutate our dataset, \n",
    "keeping only the rows with matching keys in both datasets. This process serves as a  \n",
    "potent tool for extracting commonalities, and helpd in identifying shared elements.\n"
   ]
  },
  {
   "cell_type": "markdown",
   "id": "97b259dd",
   "metadata": {},
   "source": [
    "Filtering Joins (Left Joins): as seen in the lecture notes, filtering joins maintain all rows  \n",
    "from the left dataset while incorporating matched data from the right dataset.  \n",
    "This method proves invaluable when inclusivity is crucial to the analysis.\n"
   ]
  },
  {
   "cell_type": "markdown",
   "id": "fab944aa",
   "metadata": {},
   "source": [
    "Set Operations (Anti Joins): keeping the concept of exclusivity, set operations bring attention  \n",
    "to the rows unique to the left dataset, excluding those with matches in the right dataset.  \n",
    "This method is important and useful for isolating distinctive elements."
   ]
  },
  {
   "cell_type": "markdown",
   "id": "287159ed",
   "metadata": {},
   "source": [
    "Learnign these operations is really essential for data scientists and analysts.  \n",
    "These techniques empower professionals to handle datasets precisely,  \n",
    "unraveling intricate relationships between different sources of data, and definitely  \n",
    "an important part of data cleaning."
   ]
  },
  {
   "cell_type": "markdown",
   "id": "bcf1b8ac",
   "metadata": {},
   "source": [
    "### review questions: "
   ]
  },
  {
   "cell_type": "markdown",
   "id": "42009d4b",
   "metadata": {},
   "source": [
    "1- What is the primary purpose of a filtering join (left join) in relational data merging?\n",
    "\n",
    "A. Highlight unique rows in the left dataset\n",
    "B. Extract only the rows with matching keys in both datasets\n",
    "C. Preserve all rows from the left dataset, filling in with matched data from the right dataset\n",
    "\n",
    "Answer- C. Preserve all rows from the left dataset, filling in with matched data from the right dataset\n",
    "\n",
    "2-Set operations (anti joins) are employed to emphasize the rows that are unique to the right dataset.\n",
    "\n",
    "A. True\n",
    "B. False\n",
    "Answer -B. False"
   ]
  },
  {
   "cell_type": "code",
   "execution_count": null,
   "id": "98a9fe58",
   "metadata": {},
   "outputs": [],
   "source": []
  }
 ],
 "metadata": {
  "kernelspec": {
   "display_name": "Python 3 (ipykernel)",
   "language": "python",
   "name": "python3"
  },
  "language_info": {
   "codemirror_mode": {
    "name": "ipython",
    "version": 3
   },
   "file_extension": ".py",
   "mimetype": "text/x-python",
   "name": "python",
   "nbconvert_exporter": "python",
   "pygments_lexer": "ipython3",
   "version": "3.8.17"
  }
 },
 "nbformat": 4,
 "nbformat_minor": 5
}
