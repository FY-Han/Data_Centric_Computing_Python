{
 "cells": [
  {
   "cell_type": "markdown",
   "id": "05ad80af",
   "metadata": {},
   "source": [
    "## CMPINF 2100 Week 04\n",
    "\n",
    "### Attributes and Methods deep dive\n",
    "\n",
    "We have used ATTRIBUTES and METHODS continuously over the last few weeks. We need them for lists, dictionaries, NumPy arrays, also for Pandas DataFrames. We need attributes and methods for ANY object data type in Python!\n",
    "\n",
    "This example reinforces the differences between attributes and methods by introducing user defined data types!\n",
    "\n",
    "This example comes from the standard Python 3 `class` example on the main Python support pages.\n",
    "\n",
    "## User defined data type\n",
    "\n",
    "The reserved Python keyword `class` creates custom or user defined data types. "
   ]
  },
  {
   "cell_type": "code",
   "execution_count": 7,
   "id": "97532e60",
   "metadata": {},
   "outputs": [],
   "source": [
    "class MyClass:\n",
    "    \"\"\"\n",
    "    A simple example for showing how to define custom data types.\n",
    "    We will specify our own attributes and methods.\n",
    "    \"\"\"\n",
    "    \n",
    "    # this is a comment just like any other Python comment\n",
    "    \n",
    "    # an attribute is like an \"internal\" variable\n",
    "    # you can create any kind of attribute that you want\n",
    "    \n",
    "    # this class will have an attribute i that is an integer\n",
    "    i = 12345\n",
    "    \n",
    "    # another attribute that is a str named s\n",
    "    s = '12345'\n",
    "    \n",
    "    # create an attribute that is a list\n",
    "    l = [1 , 2, 'three', 4.0]\n",
    "    \n",
    "    # methods are defined internally to the class just as we\n",
    "    # define functions when we program!\n",
    "    # methods are functions linked to specific data types!!\n",
    "    def f(self):\n",
    "        return 'I need an object to work!'\n",
    "    \n",
    "    # STATIC methods are different from \"regular\" methods\n",
    "    # even though they are defined similar to \"regular\" methods\n",
    "    def fstatic():\n",
    "        return \"I work WITHOUT an object defined!\""
   ]
  },
  {
   "cell_type": "code",
   "execution_count": 8,
   "id": "1f6bbf88",
   "metadata": {},
   "outputs": [
    {
     "name": "stdout",
     "output_type": "stream",
     "text": [
      "Variable           Type       Data/Info\n",
      "---------------------------------------\n",
      "MyClass            type       <class '__main__.MyClass'>\n",
      "my_example_class   MyClass    <__main__.MyClass object at 0x0000017918E5F670>\n",
      "my_example_list    list       n=5\n"
     ]
    }
   ],
   "source": [
    "%whos"
   ]
  },
  {
   "cell_type": "code",
   "execution_count": null,
   "id": "c09b7c41",
   "metadata": {},
   "outputs": [],
   "source": []
  },
  {
   "cell_type": "markdown",
   "id": "78adee7e",
   "metadata": {},
   "source": [
    "We need to define a variable or object which is of the data type MyClass.\n",
    "\n",
    "We can initialize an object by \"calling\" the `MyClass` and assigning it to a variable."
   ]
  },
  {
   "cell_type": "code",
   "execution_count": 9,
   "id": "7e25094a",
   "metadata": {},
   "outputs": [],
   "source": [
    "my_example_class = MyClass()"
   ]
  },
  {
   "cell_type": "code",
   "execution_count": 10,
   "id": "578d3b51",
   "metadata": {},
   "outputs": [
    {
     "name": "stdout",
     "output_type": "stream",
     "text": [
      "Variable           Type       Data/Info\n",
      "---------------------------------------\n",
      "MyClass            type       <class '__main__.MyClass'>\n",
      "my_example_class   MyClass    <__main__.MyClass object at 0x0000017918D4CAF0>\n",
      "my_example_list    list       n=5\n"
     ]
    }
   ],
   "source": [
    "%whos"
   ]
  },
  {
   "cell_type": "code",
   "execution_count": 11,
   "id": "f7616ae3",
   "metadata": {},
   "outputs": [],
   "source": [
    "my_example_list = [1, 2, 3, 4, 5]"
   ]
  },
  {
   "cell_type": "code",
   "execution_count": 12,
   "id": "30da7c4a",
   "metadata": {},
   "outputs": [
    {
     "name": "stdout",
     "output_type": "stream",
     "text": [
      "Variable           Type       Data/Info\n",
      "---------------------------------------\n",
      "MyClass            type       <class '__main__.MyClass'>\n",
      "my_example_class   MyClass    <__main__.MyClass object at 0x0000017918D4CAF0>\n",
      "my_example_list    list       n=5\n"
     ]
    }
   ],
   "source": [
    "%whos"
   ]
  },
  {
   "cell_type": "markdown",
   "id": "bdd8bcd2",
   "metadata": {},
   "source": [
    "All data types have ATTRIBUTES and METHODS!!!!\n",
    "\n",
    "We can use the `dir()` function to check the available attributes and methods."
   ]
  },
  {
   "cell_type": "code",
   "execution_count": 13,
   "id": "3b529246",
   "metadata": {},
   "outputs": [
    {
     "data": {
      "text/plain": [
       "['__class__',\n",
       " '__delattr__',\n",
       " '__dict__',\n",
       " '__dir__',\n",
       " '__doc__',\n",
       " '__eq__',\n",
       " '__format__',\n",
       " '__ge__',\n",
       " '__getattribute__',\n",
       " '__gt__',\n",
       " '__hash__',\n",
       " '__init__',\n",
       " '__init_subclass__',\n",
       " '__le__',\n",
       " '__lt__',\n",
       " '__module__',\n",
       " '__ne__',\n",
       " '__new__',\n",
       " '__reduce__',\n",
       " '__reduce_ex__',\n",
       " '__repr__',\n",
       " '__setattr__',\n",
       " '__sizeof__',\n",
       " '__str__',\n",
       " '__subclasshook__',\n",
       " '__weakref__',\n",
       " 'f',\n",
       " 'fstatic',\n",
       " 'i',\n",
       " 'l',\n",
       " 's']"
      ]
     },
     "execution_count": 13,
     "metadata": {},
     "output_type": "execute_result"
    }
   ],
   "source": [
    "dir( my_example_class )"
   ]
  },
  {
   "cell_type": "markdown",
   "id": "5e1f000c",
   "metadata": {},
   "source": [
    "Attributes and Methods are accessed via **DOT NOTATION**. "
   ]
  },
  {
   "cell_type": "code",
   "execution_count": 14,
   "id": "d0ab0819",
   "metadata": {},
   "outputs": [
    {
     "data": {
      "text/plain": [
       "12345"
      ]
     },
     "execution_count": 14,
     "metadata": {},
     "output_type": "execute_result"
    }
   ],
   "source": [
    "my_example_class.i"
   ]
  },
  {
   "cell_type": "code",
   "execution_count": 15,
   "id": "7bfe2e67",
   "metadata": {},
   "outputs": [
    {
     "data": {
      "text/plain": [
       "'12345'"
      ]
     },
     "execution_count": 15,
     "metadata": {},
     "output_type": "execute_result"
    }
   ],
   "source": [
    "my_example_class.s"
   ]
  },
  {
   "cell_type": "code",
   "execution_count": 16,
   "id": "e4af79f7",
   "metadata": {},
   "outputs": [
    {
     "data": {
      "text/plain": [
       "[1, 2, 'three', 4.0]"
      ]
     },
     "execution_count": 16,
     "metadata": {},
     "output_type": "execute_result"
    }
   ],
   "source": [
    "my_example_class.l"
   ]
  },
  {
   "cell_type": "code",
   "execution_count": 17,
   "id": "651bee0c",
   "metadata": {},
   "outputs": [
    {
     "name": "stdout",
     "output_type": "stream",
     "text": [
      "Variable           Type       Data/Info\n",
      "---------------------------------------\n",
      "MyClass            type       <class '__main__.MyClass'>\n",
      "my_example_class   MyClass    <__main__.MyClass object at 0x0000017918D4CAF0>\n",
      "my_example_list    list       n=5\n"
     ]
    }
   ],
   "source": [
    "%whos"
   ]
  },
  {
   "cell_type": "markdown",
   "id": "152d4502",
   "metadata": {},
   "source": [
    "Methods however, are like FUNCTIONS. We need to use parantheses for them to EXECUTE!"
   ]
  },
  {
   "cell_type": "code",
   "execution_count": 18,
   "id": "643c922c",
   "metadata": {},
   "outputs": [
    {
     "data": {
      "text/plain": [
       "<bound method MyClass.f of <__main__.MyClass object at 0x0000017918D4CAF0>>"
      ]
     },
     "execution_count": 18,
     "metadata": {},
     "output_type": "execute_result"
    }
   ],
   "source": [
    "my_example_class.f"
   ]
  },
  {
   "cell_type": "code",
   "execution_count": 19,
   "id": "86bc08be",
   "metadata": {},
   "outputs": [
    {
     "data": {
      "text/plain": [
       "'I need an object to work!'"
      ]
     },
     "execution_count": 19,
     "metadata": {},
     "output_type": "execute_result"
    }
   ],
   "source": [
    "my_example_class.f()"
   ]
  },
  {
   "cell_type": "markdown",
   "id": "f44202ab",
   "metadata": {},
   "source": [
    "Static method vs \"regular\" methods."
   ]
  },
  {
   "cell_type": "code",
   "execution_count": 20,
   "id": "d34efc3d",
   "metadata": {},
   "outputs": [
    {
     "data": {
      "text/plain": [
       "<bound method MyClass.fstatic of <__main__.MyClass object at 0x0000017918D4CAF0>>"
      ]
     },
     "execution_count": 20,
     "metadata": {},
     "output_type": "execute_result"
    }
   ],
   "source": [
    "my_example_class.fstatic"
   ]
  },
  {
   "cell_type": "code",
   "execution_count": 21,
   "id": "9015c37e",
   "metadata": {},
   "outputs": [
    {
     "ename": "TypeError",
     "evalue": "fstatic() takes 0 positional arguments but 1 was given",
     "output_type": "error",
     "traceback": [
      "\u001b[1;31m---------------------------------------------------------------------------\u001b[0m",
      "\u001b[1;31mTypeError\u001b[0m                                 Traceback (most recent call last)",
      "\u001b[1;32mc:\\Users\\Fengyeng\\OneDrive - University of Pittsburgh\\A\\3.school\\1.Course\\23秋\\PYTHON_DATA\\Homework\\Week4\\week_04_class_attributes_methods.ipynb 单元格 21\u001b[0m line \u001b[0;36m1\n\u001b[1;32m----> <a href='vscode-notebook-cell:/c%3A/Users/Fengyeng/OneDrive%20-%20University%20of%20Pittsburgh/A/3.school/1.Course/23%E7%A7%8B/PYTHON_DATA/Homework/Week4/week_04_class_attributes_methods.ipynb#X26sZmlsZQ%3D%3D?line=0'>1</a>\u001b[0m my_example_class\u001b[39m.\u001b[39;49mfstatic()\n",
      "\u001b[1;31mTypeError\u001b[0m: fstatic() takes 0 positional arguments but 1 was given"
     ]
    }
   ],
   "source": [
    "my_example_class.fstatic()"
   ]
  },
  {
   "cell_type": "markdown",
   "id": "10efea6f",
   "metadata": {},
   "source": [
    "Regular methods want to apply their function to the object!\n",
    "\n",
    "Static methods however, can be thought of as \"functions from a module\". Meaning. we are accessing them directly from the class rather than a defined variable in the environment."
   ]
  },
  {
   "cell_type": "code",
   "execution_count": 22,
   "id": "e878d8da",
   "metadata": {},
   "outputs": [
    {
     "data": {
      "text/plain": [
       "'I work WITHOUT an object defined!'"
      ]
     },
     "execution_count": 22,
     "metadata": {},
     "output_type": "execute_result"
    }
   ],
   "source": [
    "MyClass.fstatic()"
   ]
  },
  {
   "cell_type": "code",
   "execution_count": 23,
   "id": "5d640774",
   "metadata": {},
   "outputs": [
    {
     "ename": "TypeError",
     "evalue": "f() missing 1 required positional argument: 'self'",
     "output_type": "error",
     "traceback": [
      "\u001b[1;31m---------------------------------------------------------------------------\u001b[0m",
      "\u001b[1;31mTypeError\u001b[0m                                 Traceback (most recent call last)",
      "\u001b[1;32mc:\\Users\\Fengyeng\\OneDrive - University of Pittsburgh\\A\\3.school\\1.Course\\23秋\\PYTHON_DATA\\Homework\\Week4\\week_04_class_attributes_methods.ipynb 单元格 24\u001b[0m line \u001b[0;36m1\n\u001b[1;32m----> <a href='vscode-notebook-cell:/c%3A/Users/Fengyeng/OneDrive%20-%20University%20of%20Pittsburgh/A/3.school/1.Course/23%E7%A7%8B/PYTHON_DATA/Homework/Week4/week_04_class_attributes_methods.ipynb#X32sZmlsZQ%3D%3D?line=0'>1</a>\u001b[0m MyClass\u001b[39m.\u001b[39;49mf()\n",
      "\u001b[1;31mTypeError\u001b[0m: f() missing 1 required positional argument: 'self'"
     ]
    }
   ],
   "source": [
    "MyClass.f()"
   ]
  },
  {
   "cell_type": "code",
   "execution_count": 24,
   "id": "5462b7ab",
   "metadata": {},
   "outputs": [
    {
     "data": {
      "text/plain": [
       "'I need an object to work!'"
      ]
     },
     "execution_count": 24,
     "metadata": {},
     "output_type": "execute_result"
    }
   ],
   "source": [
    "my_example_class.f()"
   ]
  },
  {
   "cell_type": "markdown",
   "id": "3c297cf9",
   "metadata": {},
   "source": [
    "## Initialization methods\n",
    "\n",
    "Initialization methods are executed the moment the object is defined or **initialized**. Initilization methods will be VERY important when we get to working with scikit-learn later in the semester.\n",
    "\n",
    "Let's define a NEW user defined data type, `Dog`. This data type will have hard coded attributes AND an attribute that the USER specifies!"
   ]
  },
  {
   "cell_type": "code",
   "execution_count": 25,
   "id": "c5da01af",
   "metadata": {},
   "outputs": [],
   "source": [
    "class Dog:\n",
    "    kind = 'canine'\n",
    "    \n",
    "    feet = 'paws'\n",
    "    \n",
    "    has_tail = 'yes'\n",
    "    \n",
    "    # initialization methods are like functions\n",
    "    # initialization methods are PRIVATE\n",
    "    # that means we need DUNDERS!!!!\n",
    "    def __init__(self, dogs_name):\n",
    "        self.name = dogs_name"
   ]
  },
  {
   "cell_type": "code",
   "execution_count": 26,
   "id": "43411727",
   "metadata": {},
   "outputs": [
    {
     "name": "stdout",
     "output_type": "stream",
     "text": [
      "Variable           Type       Data/Info\n",
      "---------------------------------------\n",
      "Dog                type       <class '__main__.Dog'>\n",
      "MyClass            type       <class '__main__.MyClass'>\n",
      "my_example_class   MyClass    <__main__.MyClass object at 0x0000017918D4CAF0>\n",
      "my_example_list    list       n=5\n"
     ]
    }
   ],
   "source": [
    "%whos"
   ]
  },
  {
   "cell_type": "markdown",
   "id": "2aa8805b",
   "metadata": {},
   "source": [
    "create a new variable or object `my_dog` that is of the `Dog` data type."
   ]
  },
  {
   "cell_type": "code",
   "execution_count": 27,
   "id": "1dd664f1",
   "metadata": {},
   "outputs": [
    {
     "ename": "TypeError",
     "evalue": "__init__() missing 1 required positional argument: 'dogs_name'",
     "output_type": "error",
     "traceback": [
      "\u001b[1;31m---------------------------------------------------------------------------\u001b[0m",
      "\u001b[1;31mTypeError\u001b[0m                                 Traceback (most recent call last)",
      "\u001b[1;32mc:\\Users\\Fengyeng\\OneDrive - University of Pittsburgh\\A\\3.school\\1.Course\\23秋\\PYTHON_DATA\\Homework\\Week4\\week_04_class_attributes_methods.ipynb 单元格 30\u001b[0m line \u001b[0;36m1\n\u001b[1;32m----> <a href='vscode-notebook-cell:/c%3A/Users/Fengyeng/OneDrive%20-%20University%20of%20Pittsburgh/A/3.school/1.Course/23%E7%A7%8B/PYTHON_DATA/Homework/Week4/week_04_class_attributes_methods.ipynb#X41sZmlsZQ%3D%3D?line=0'>1</a>\u001b[0m my_dog \u001b[39m=\u001b[39m Dog()\n",
      "\u001b[1;31mTypeError\u001b[0m: __init__() missing 1 required positional argument: 'dogs_name'"
     ]
    }
   ],
   "source": [
    "my_dog = Dog()"
   ]
  },
  {
   "cell_type": "code",
   "execution_count": null,
   "id": "5c128177",
   "metadata": {},
   "outputs": [],
   "source": [
    "my_dog = Dog( dogs_name =  'Pixie' )"
   ]
  },
  {
   "cell_type": "code",
   "execution_count": null,
   "id": "b157714c",
   "metadata": {},
   "outputs": [
    {
     "name": "stdout",
     "output_type": "stream",
     "text": [
      "Variable           Type       Data/Info\n",
      "---------------------------------------\n",
      "Dog                type       <class '__main__.Dog'>\n",
      "MyClass            type       <class '__main__.MyClass'>\n",
      "my_dog             Dog        <__main__.Dog object at 0x000002BEE9C90C40>\n",
      "my_example_class   MyClass    <__main__.MyClass object at 0x000002BEE938DFA0>\n",
      "my_example_list    list       n=5\n"
     ]
    }
   ],
   "source": [
    "%whos"
   ]
  },
  {
   "cell_type": "code",
   "execution_count": null,
   "id": "f81cdb20",
   "metadata": {},
   "outputs": [
    {
     "data": {
      "text/plain": [
       "['__class__',\n",
       " '__delattr__',\n",
       " '__dict__',\n",
       " '__dir__',\n",
       " '__doc__',\n",
       " '__eq__',\n",
       " '__format__',\n",
       " '__ge__',\n",
       " '__getattribute__',\n",
       " '__gt__',\n",
       " '__hash__',\n",
       " '__init__',\n",
       " '__init_subclass__',\n",
       " '__le__',\n",
       " '__lt__',\n",
       " '__module__',\n",
       " '__ne__',\n",
       " '__new__',\n",
       " '__reduce__',\n",
       " '__reduce_ex__',\n",
       " '__repr__',\n",
       " '__setattr__',\n",
       " '__sizeof__',\n",
       " '__str__',\n",
       " '__subclasshook__',\n",
       " '__weakref__',\n",
       " 'feet',\n",
       " 'has_tail',\n",
       " 'kind',\n",
       " 'name']"
      ]
     },
     "execution_count": 24,
     "metadata": {},
     "output_type": "execute_result"
    }
   ],
   "source": [
    "dir( my_dog )"
   ]
  },
  {
   "cell_type": "code",
   "execution_count": null,
   "id": "4928f876",
   "metadata": {},
   "outputs": [
    {
     "data": {
      "text/plain": [
       "'paws'"
      ]
     },
     "execution_count": 25,
     "metadata": {},
     "output_type": "execute_result"
    }
   ],
   "source": [
    "my_dog.feet"
   ]
  },
  {
   "cell_type": "code",
   "execution_count": null,
   "id": "ffb33083",
   "metadata": {},
   "outputs": [
    {
     "data": {
      "text/plain": [
       "'yes'"
      ]
     },
     "execution_count": 26,
     "metadata": {},
     "output_type": "execute_result"
    }
   ],
   "source": [
    "my_dog.has_tail"
   ]
  },
  {
   "cell_type": "code",
   "execution_count": null,
   "id": "61ea2081",
   "metadata": {},
   "outputs": [
    {
     "data": {
      "text/plain": [
       "'canine'"
      ]
     },
     "execution_count": 27,
     "metadata": {},
     "output_type": "execute_result"
    }
   ],
   "source": [
    "my_dog.kind"
   ]
  },
  {
   "cell_type": "code",
   "execution_count": null,
   "id": "8959b8ca",
   "metadata": {},
   "outputs": [
    {
     "data": {
      "text/plain": [
       "'Pixie'"
      ]
     },
     "execution_count": 28,
     "metadata": {},
     "output_type": "execute_result"
    }
   ],
   "source": [
    "my_dog.name"
   ]
  },
  {
   "cell_type": "code",
   "execution_count": null,
   "id": "0f3ca727",
   "metadata": {},
   "outputs": [
    {
     "data": {
      "text/plain": [
       "str"
      ]
     },
     "execution_count": 29,
     "metadata": {},
     "output_type": "execute_result"
    }
   ],
   "source": [
    "type( my_dog.has_tail )"
   ]
  },
  {
   "cell_type": "code",
   "execution_count": null,
   "id": "94a7e519",
   "metadata": {},
   "outputs": [
    {
     "data": {
      "text/plain": [
       "'paws'"
      ]
     },
     "execution_count": 30,
     "metadata": {},
     "output_type": "execute_result"
    }
   ],
   "source": [
    "my_dog.feet"
   ]
  },
  {
   "cell_type": "code",
   "execution_count": null,
   "id": "d9e89713",
   "metadata": {},
   "outputs": [
    {
     "data": {
      "text/plain": [
       "str"
      ]
     },
     "execution_count": 31,
     "metadata": {},
     "output_type": "execute_result"
    }
   ],
   "source": [
    "type( my_dog.feet )"
   ]
  },
  {
   "cell_type": "code",
   "execution_count": null,
   "id": "eef75029",
   "metadata": {},
   "outputs": [],
   "source": [
    "my_dog.feet = 'PAWS'"
   ]
  },
  {
   "cell_type": "code",
   "execution_count": null,
   "id": "52a4f6bb",
   "metadata": {},
   "outputs": [
    {
     "data": {
      "text/plain": [
       "'PAWS'"
      ]
     },
     "execution_count": 33,
     "metadata": {},
     "output_type": "execute_result"
    }
   ],
   "source": [
    "my_dog.feet"
   ]
  },
  {
   "cell_type": "markdown",
   "id": "55bcd54d",
   "metadata": {},
   "source": [
    "Let's make another object of data type `Dog`."
   ]
  },
  {
   "cell_type": "code",
   "execution_count": null,
   "id": "b659f867",
   "metadata": {},
   "outputs": [],
   "source": [
    "my_brothers_dog = Dog( 'Bruce' )"
   ]
  },
  {
   "cell_type": "code",
   "execution_count": null,
   "id": "81bf9db6",
   "metadata": {},
   "outputs": [
    {
     "data": {
      "text/plain": [
       "<__main__.Dog at 0x2beeb5b9700>"
      ]
     },
     "execution_count": 35,
     "metadata": {},
     "output_type": "execute_result"
    }
   ],
   "source": [
    "my_brothers_dog"
   ]
  },
  {
   "cell_type": "code",
   "execution_count": null,
   "id": "314b8442",
   "metadata": {},
   "outputs": [
    {
     "data": {
      "text/plain": [
       "'Bruce'"
      ]
     },
     "execution_count": 36,
     "metadata": {},
     "output_type": "execute_result"
    }
   ],
   "source": [
    "my_brothers_dog.name"
   ]
  },
  {
   "cell_type": "code",
   "execution_count": null,
   "id": "4eb07579",
   "metadata": {},
   "outputs": [
    {
     "data": {
      "text/plain": [
       "'paws'"
      ]
     },
     "execution_count": 37,
     "metadata": {},
     "output_type": "execute_result"
    }
   ],
   "source": [
    "my_brothers_dog.feet"
   ]
  },
  {
   "cell_type": "code",
   "execution_count": null,
   "id": "9ee9de1c",
   "metadata": {},
   "outputs": [
    {
     "data": {
      "text/plain": [
       "False"
      ]
     },
     "execution_count": 38,
     "metadata": {},
     "output_type": "execute_result"
    }
   ],
   "source": [
    "my_dog.name == my_brothers_dog.name"
   ]
  },
  {
   "cell_type": "markdown",
   "id": "f6ff57ae",
   "metadata": {},
   "source": [
    "## Define another data type\n",
    "\n",
    "This time let's use a data type `Pet` that has more attributes defined in the initialization method."
   ]
  },
  {
   "cell_type": "code",
   "execution_count": null,
   "id": "b005c417",
   "metadata": {},
   "outputs": [],
   "source": [
    "class Pet:\n",
    "    def __init__(self, species, name, the_pets_age):\n",
    "        self.species = species\n",
    "        self.name = name,\n",
    "        self.age = the_pets_age"
   ]
  },
  {
   "cell_type": "code",
   "execution_count": null,
   "id": "f39be74f",
   "metadata": {},
   "outputs": [
    {
     "ename": "TypeError",
     "evalue": "__init__() missing 3 required positional arguments: 'species', 'name', and 'the_pets_age'",
     "output_type": "error",
     "traceback": [
      "\u001b[1;31m---------------------------------------------------------------------------\u001b[0m",
      "\u001b[1;31mTypeError\u001b[0m                                 Traceback (most recent call last)",
      "Cell \u001b[1;32mIn[40], line 1\u001b[0m\n\u001b[1;32m----> 1\u001b[0m \u001b[43mPet\u001b[49m\u001b[43m(\u001b[49m\u001b[43m)\u001b[49m\n",
      "\u001b[1;31mTypeError\u001b[0m: __init__() missing 3 required positional arguments: 'species', 'name', and 'the_pets_age'"
     ]
    }
   ],
   "source": [
    "Pet()"
   ]
  },
  {
   "cell_type": "code",
   "execution_count": null,
   "id": "713209ff",
   "metadata": {},
   "outputs": [],
   "source": [
    "my_brothers_other_dog = Pet( species = 'Dog', name = 'Rey', the_pets_age = 4 )"
   ]
  },
  {
   "cell_type": "code",
   "execution_count": null,
   "id": "62fc1003",
   "metadata": {},
   "outputs": [
    {
     "name": "stdout",
     "output_type": "stream",
     "text": [
      "Variable                Type       Data/Info\n",
      "--------------------------------------------\n",
      "Dog                     type       <class '__main__.Dog'>\n",
      "MyClass                 type       <class '__main__.MyClass'>\n",
      "Pet                     type       <class '__main__.Pet'>\n",
      "my_brothers_dog         Dog        <__main__.Dog object at 0x000002BEEB5B9700>\n",
      "my_brothers_other_dog   Pet        <__main__.Pet object at 0x000002BEE9395670>\n",
      "my_dog                  Dog        <__main__.Dog object at 0x000002BEE9C90C40>\n",
      "my_example_class        MyClass    <__main__.MyClass object at 0x000002BEE938DFA0>\n",
      "my_example_list         list       n=5\n"
     ]
    }
   ],
   "source": [
    "%whos"
   ]
  },
  {
   "cell_type": "code",
   "execution_count": null,
   "id": "3a3378fa",
   "metadata": {},
   "outputs": [
    {
     "data": {
      "text/plain": [
       "['__class__',\n",
       " '__delattr__',\n",
       " '__dict__',\n",
       " '__dir__',\n",
       " '__doc__',\n",
       " '__eq__',\n",
       " '__format__',\n",
       " '__ge__',\n",
       " '__getattribute__',\n",
       " '__gt__',\n",
       " '__hash__',\n",
       " '__init__',\n",
       " '__init_subclass__',\n",
       " '__le__',\n",
       " '__lt__',\n",
       " '__module__',\n",
       " '__ne__',\n",
       " '__new__',\n",
       " '__reduce__',\n",
       " '__reduce_ex__',\n",
       " '__repr__',\n",
       " '__setattr__',\n",
       " '__sizeof__',\n",
       " '__str__',\n",
       " '__subclasshook__',\n",
       " '__weakref__',\n",
       " 'age',\n",
       " 'name',\n",
       " 'species']"
      ]
     },
     "execution_count": 43,
     "metadata": {},
     "output_type": "execute_result"
    }
   ],
   "source": [
    "dir( my_brothers_other_dog )"
   ]
  },
  {
   "cell_type": "code",
   "execution_count": null,
   "id": "bed0994c",
   "metadata": {},
   "outputs": [
    {
     "data": {
      "text/plain": [
       "4"
      ]
     },
     "execution_count": 44,
     "metadata": {},
     "output_type": "execute_result"
    }
   ],
   "source": [
    "my_brothers_other_dog.age"
   ]
  },
  {
   "cell_type": "code",
   "execution_count": null,
   "id": "3841bb90",
   "metadata": {},
   "outputs": [
    {
     "data": {
      "text/plain": [
       "('Rey',)"
      ]
     },
     "execution_count": 45,
     "metadata": {},
     "output_type": "execute_result"
    }
   ],
   "source": [
    "my_brothers_other_dog.name"
   ]
  },
  {
   "cell_type": "markdown",
   "id": "fe51e00e",
   "metadata": {},
   "source": [
    "You do NOT necessarily need to include the argument names when defining the object."
   ]
  },
  {
   "cell_type": "code",
   "execution_count": null,
   "id": "06dce79e",
   "metadata": {},
   "outputs": [],
   "source": [
    "our_frog = Pet( 'Frog', 'Wilma', 21 )"
   ]
  },
  {
   "cell_type": "code",
   "execution_count": null,
   "id": "5a386a7d",
   "metadata": {},
   "outputs": [
    {
     "data": {
      "text/plain": [
       "21"
      ]
     },
     "execution_count": 47,
     "metadata": {},
     "output_type": "execute_result"
    }
   ],
   "source": [
    "our_frog.age"
   ]
  },
  {
   "cell_type": "code",
   "execution_count": null,
   "id": "a84034f3",
   "metadata": {},
   "outputs": [
    {
     "data": {
      "text/plain": [
       "('Wilma',)"
      ]
     },
     "execution_count": 48,
     "metadata": {},
     "output_type": "execute_result"
    }
   ],
   "source": [
    "our_frog.name"
   ]
  },
  {
   "cell_type": "code",
   "execution_count": null,
   "id": "4e62dd42",
   "metadata": {},
   "outputs": [
    {
     "data": {
      "text/plain": [
       "'Frog'"
      ]
     },
     "execution_count": 49,
     "metadata": {},
     "output_type": "execute_result"
    }
   ],
   "source": [
    "our_frog.species"
   ]
  },
  {
   "cell_type": "markdown",
   "id": "f67e5740",
   "metadata": {},
   "source": [
    "But...if you do NOT use the argument names...be VERY careful!!!!\n",
    "\n",
    "If you forget the POSITIONS...then you won't have the CORRECT attributes!"
   ]
  },
  {
   "cell_type": "code",
   "execution_count": null,
   "id": "d789c5d1",
   "metadata": {},
   "outputs": [],
   "source": [
    "our_frog_b = Pet( 'Wilma', 'Frog', 21 )"
   ]
  },
  {
   "cell_type": "code",
   "execution_count": null,
   "id": "6c097e30",
   "metadata": {},
   "outputs": [
    {
     "data": {
      "text/plain": [
       "'Wilma'"
      ]
     },
     "execution_count": 51,
     "metadata": {},
     "output_type": "execute_result"
    }
   ],
   "source": [
    "our_frog_b.species"
   ]
  },
  {
   "cell_type": "markdown",
   "id": "608e17c0",
   "metadata": {},
   "source": [
    "## Parent and Child classes\n",
    "\n",
    "We can define custom data types that inherit the methods and attributes of already existing data types!\n",
    "\n",
    "The new data type is referred to as the \"CHILD\" and the data type we are basing the new one on, is referred to as the \"PARENT\".\n",
    "\n",
    "Create a new data type `a_pet` based on `Pet`."
   ]
  },
  {
   "cell_type": "code",
   "execution_count": null,
   "id": "08c39b2f",
   "metadata": {},
   "outputs": [],
   "source": [
    "class a_pet(Pet):\n",
    "    # we only need to define NEW attributes and NEW methods\n",
    "    # that exist in the CHILD but NOT the PARENT!\n",
    "    \n",
    "    def celebrate_birhday(self):\n",
    "        self.age += 1 ###self.age = self.age + 1"
   ]
  },
  {
   "cell_type": "code",
   "execution_count": null,
   "id": "0d5af728",
   "metadata": {},
   "outputs": [
    {
     "data": {
      "text/plain": [
       "['__class__',\n",
       " '__delattr__',\n",
       " '__dict__',\n",
       " '__dir__',\n",
       " '__doc__',\n",
       " '__eq__',\n",
       " '__format__',\n",
       " '__ge__',\n",
       " '__getattribute__',\n",
       " '__gt__',\n",
       " '__hash__',\n",
       " '__init__',\n",
       " '__init_subclass__',\n",
       " '__le__',\n",
       " '__lt__',\n",
       " '__module__',\n",
       " '__ne__',\n",
       " '__new__',\n",
       " '__reduce__',\n",
       " '__reduce_ex__',\n",
       " '__repr__',\n",
       " '__setattr__',\n",
       " '__sizeof__',\n",
       " '__str__',\n",
       " '__subclasshook__',\n",
       " '__weakref__']"
      ]
     },
     "execution_count": 53,
     "metadata": {},
     "output_type": "execute_result"
    }
   ],
   "source": [
    "dir( Pet )"
   ]
  },
  {
   "cell_type": "code",
   "execution_count": null,
   "id": "16cf1577",
   "metadata": {},
   "outputs": [
    {
     "data": {
      "text/plain": [
       "['__class__',\n",
       " '__delattr__',\n",
       " '__dict__',\n",
       " '__dir__',\n",
       " '__doc__',\n",
       " '__eq__',\n",
       " '__format__',\n",
       " '__ge__',\n",
       " '__getattribute__',\n",
       " '__gt__',\n",
       " '__hash__',\n",
       " '__init__',\n",
       " '__init_subclass__',\n",
       " '__le__',\n",
       " '__lt__',\n",
       " '__module__',\n",
       " '__ne__',\n",
       " '__new__',\n",
       " '__reduce__',\n",
       " '__reduce_ex__',\n",
       " '__repr__',\n",
       " '__setattr__',\n",
       " '__sizeof__',\n",
       " '__str__',\n",
       " '__subclasshook__',\n",
       " '__weakref__',\n",
       " 'celebrate_birhday']"
      ]
     },
     "execution_count": 54,
     "metadata": {},
     "output_type": "execute_result"
    }
   ],
   "source": [
    "dir( a_pet )"
   ]
  },
  {
   "cell_type": "markdown",
   "id": "d53d1a7b",
   "metadata": {},
   "source": [
    "Let's define a new object which is `a_pet` data type."
   ]
  },
  {
   "cell_type": "code",
   "execution_count": null,
   "id": "3a579d2c",
   "metadata": {},
   "outputs": [],
   "source": [
    "geno = a_pet( species='Dog', name='Geno', the_pets_age=6 )"
   ]
  },
  {
   "cell_type": "code",
   "execution_count": null,
   "id": "1e0787ad",
   "metadata": {},
   "outputs": [
    {
     "data": {
      "text/plain": [
       "['__class__',\n",
       " '__delattr__',\n",
       " '__dict__',\n",
       " '__dir__',\n",
       " '__doc__',\n",
       " '__eq__',\n",
       " '__format__',\n",
       " '__ge__',\n",
       " '__getattribute__',\n",
       " '__gt__',\n",
       " '__hash__',\n",
       " '__init__',\n",
       " '__init_subclass__',\n",
       " '__le__',\n",
       " '__lt__',\n",
       " '__module__',\n",
       " '__ne__',\n",
       " '__new__',\n",
       " '__reduce__',\n",
       " '__reduce_ex__',\n",
       " '__repr__',\n",
       " '__setattr__',\n",
       " '__sizeof__',\n",
       " '__str__',\n",
       " '__subclasshook__',\n",
       " '__weakref__',\n",
       " 'age',\n",
       " 'celebrate_birhday',\n",
       " 'name',\n",
       " 'species']"
      ]
     },
     "execution_count": 56,
     "metadata": {},
     "output_type": "execute_result"
    }
   ],
   "source": [
    "dir( geno )"
   ]
  },
  {
   "cell_type": "code",
   "execution_count": null,
   "id": "7f7094bc",
   "metadata": {},
   "outputs": [
    {
     "data": {
      "text/plain": [
       "6"
      ]
     },
     "execution_count": 57,
     "metadata": {},
     "output_type": "execute_result"
    }
   ],
   "source": [
    "geno.age"
   ]
  },
  {
   "cell_type": "code",
   "execution_count": null,
   "id": "05b67a5f",
   "metadata": {},
   "outputs": [
    {
     "data": {
      "text/plain": [
       "('Geno',)"
      ]
     },
     "execution_count": 58,
     "metadata": {},
     "output_type": "execute_result"
    }
   ],
   "source": [
    "geno.name"
   ]
  },
  {
   "cell_type": "code",
   "execution_count": null,
   "id": "303590cf",
   "metadata": {},
   "outputs": [
    {
     "data": {
      "text/plain": [
       "'Dog'"
      ]
     },
     "execution_count": 59,
     "metadata": {},
     "output_type": "execute_result"
    }
   ],
   "source": [
    "geno.species"
   ]
  },
  {
   "cell_type": "markdown",
   "id": "8cf6dcfa",
   "metadata": {},
   "source": [
    "The `.celebrate_birthday()` method MODIFIES IN PLACE!!!!"
   ]
  },
  {
   "cell_type": "code",
   "execution_count": null,
   "id": "08270577",
   "metadata": {},
   "outputs": [],
   "source": [
    "geno.celebrate_birhday()"
   ]
  },
  {
   "cell_type": "code",
   "execution_count": null,
   "id": "5ef2cad0",
   "metadata": {},
   "outputs": [
    {
     "data": {
      "text/plain": [
       "7"
      ]
     },
     "execution_count": 61,
     "metadata": {},
     "output_type": "execute_result"
    }
   ],
   "source": [
    "geno.age"
   ]
  },
  {
   "cell_type": "markdown",
   "id": "9710d611",
   "metadata": {},
   "source": [
    "Methods that modify in place mean that we do NOT need to REASSIGN!!!"
   ]
  },
  {
   "cell_type": "code",
   "execution_count": null,
   "id": "9ca6d2d4",
   "metadata": {},
   "outputs": [
    {
     "data": {
      "text/plain": [
       "int"
      ]
     },
     "execution_count": 62,
     "metadata": {},
     "output_type": "execute_result"
    }
   ],
   "source": [
    "type( geno.age )"
   ]
  },
  {
   "cell_type": "code",
   "execution_count": null,
   "id": "9a00277e",
   "metadata": {},
   "outputs": [],
   "source": [
    "geno.age = geno.age + 1"
   ]
  },
  {
   "cell_type": "code",
   "execution_count": null,
   "id": "851e9525",
   "metadata": {},
   "outputs": [
    {
     "data": {
      "text/plain": [
       "8"
      ]
     },
     "execution_count": 64,
     "metadata": {},
     "output_type": "execute_result"
    }
   ],
   "source": [
    "geno.age"
   ]
  },
  {
   "cell_type": "code",
   "execution_count": null,
   "id": "a50233a1",
   "metadata": {},
   "outputs": [],
   "source": [
    "geno.celebrate_birhday()"
   ]
  },
  {
   "cell_type": "code",
   "execution_count": null,
   "id": "ea7f5833",
   "metadata": {},
   "outputs": [
    {
     "data": {
      "text/plain": [
       "9"
      ]
     },
     "execution_count": 66,
     "metadata": {},
     "output_type": "execute_result"
    }
   ],
   "source": [
    "geno.age"
   ]
  },
  {
   "cell_type": "markdown",
   "id": "480d7074",
   "metadata": {},
   "source": [
    "Let's reassign the value of the `.age` attribute."
   ]
  },
  {
   "cell_type": "code",
   "execution_count": null,
   "id": "21c607d4",
   "metadata": {},
   "outputs": [],
   "source": [
    "geno.age = 1"
   ]
  },
  {
   "cell_type": "code",
   "execution_count": null,
   "id": "eb9803f3",
   "metadata": {},
   "outputs": [
    {
     "data": {
      "text/plain": [
       "1"
      ]
     },
     "execution_count": 68,
     "metadata": {},
     "output_type": "execute_result"
    }
   ],
   "source": [
    "geno.age"
   ]
  },
  {
   "cell_type": "code",
   "execution_count": null,
   "id": "5322fdc6",
   "metadata": {},
   "outputs": [
    {
     "name": "stdout",
     "output_type": "stream",
     "text": [
      "2\n",
      "3\n",
      "4\n",
      "5\n",
      "6\n",
      "7\n",
      "8\n"
     ]
    }
   ],
   "source": [
    "for n in range(7):\n",
    "    geno.celebrate_birhday()\n",
    "    print( geno.age )"
   ]
  },
  {
   "cell_type": "code",
   "execution_count": null,
   "id": "e0fa9180",
   "metadata": {},
   "outputs": [
    {
     "data": {
      "text/plain": [
       "8"
      ]
     },
     "execution_count": 70,
     "metadata": {},
     "output_type": "execute_result"
    }
   ],
   "source": [
    "geno.age"
   ]
  },
  {
   "cell_type": "markdown",
   "id": "c5e3de28",
   "metadata": {},
   "source": [
    "## Summary\n",
    "\n",
    "Attributes are like variables tied to or BOUND to an object. They are properties.\n",
    "\n",
    "Methods are like functions tied to or BOUND to an object. They can MODIFY the object IN PLACE!!! They can change the attributes and thus change the properties!"
   ]
  },
  {
   "cell_type": "code",
   "execution_count": null,
   "id": "84768bdd",
   "metadata": {},
   "outputs": [],
   "source": []
  }
 ],
 "metadata": {
  "kernelspec": {
   "display_name": "Python 3 (ipykernel)",
   "language": "python",
   "name": "python3"
  },
  "language_info": {
   "codemirror_mode": {
    "name": "ipython",
    "version": 3
   },
   "file_extension": ".py",
   "mimetype": "text/x-python",
   "name": "python",
   "nbconvert_exporter": "python",
   "pygments_lexer": "ipython3",
   "version": "0.0.0"
  }
 },
 "nbformat": 4,
 "nbformat_minor": 5
}
